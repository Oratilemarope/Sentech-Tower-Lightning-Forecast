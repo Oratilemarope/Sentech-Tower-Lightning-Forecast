{
 "cells": [
  {
   "cell_type": "markdown",
   "id": "0850acd0",
   "metadata": {},
   "source": [
    "Import the Libraries"
   ]
  },
  {
   "cell_type": "code",
   "execution_count": 2,
   "id": "8ee9a1b7",
   "metadata": {},
   "outputs": [],
   "source": [
    "import pandas as pd\n",
    "import numpy as np\n",
    "import matplotlib.pyplot as plt \n",
    "import scipy.stats\n",
    "import pylab\n",
    "import datetime\n",
    "from time import time\n",
    "import seaborn as sns\n",
    "sns.set()\n",
    "\n",
    "#time series Libraries\n",
    "import statsmodels.graphics.tsaplots as sgt \n",
    "from statsmodels.tsa.arima.model import ARIMA\n",
    "from scipy.stats.distributions import chi2\n",
    "import statsmodels.tsa.stattools as sts "
   ]
  },
  {
   "cell_type": "markdown",
   "id": "34d359e6",
   "metadata": {},
   "source": [
    "Import the data "
   ]
  },
  {
   "cell_type": "code",
   "execution_count": 3,
   "id": "235e34ef",
   "metadata": {},
   "outputs": [],
   "source": [
    "raw_csv_data = pd.read_csv(\"sentech_data.csv\")"
   ]
  },
  {
   "cell_type": "markdown",
   "id": "e12a95d3",
   "metadata": {},
   "source": [
    "Make a copy of original data"
   ]
  },
  {
   "cell_type": "code",
   "execution_count": 4,
   "id": "e973a871",
   "metadata": {},
   "outputs": [],
   "source": [
    "sentech_data= raw_csv_data.copy()"
   ]
  },
  {
   "cell_type": "code",
   "execution_count": 5,
   "id": "162de961",
   "metadata": {},
   "outputs": [
    {
     "data": {
      "text/html": [
       "<div>\n",
       "<style scoped>\n",
       "    .dataframe tbody tr th:only-of-type {\n",
       "        vertical-align: middle;\n",
       "    }\n",
       "\n",
       "    .dataframe tbody tr th {\n",
       "        vertical-align: top;\n",
       "    }\n",
       "\n",
       "    .dataframe thead th {\n",
       "        text-align: right;\n",
       "    }\n",
       "</style>\n",
       "<table border=\"1\" class=\"dataframe\">\n",
       "  <thead>\n",
       "    <tr style=\"text-align: right;\">\n",
       "      <th></th>\n",
       "      <th>Date</th>\n",
       "      <th>Air_temp</th>\n",
       "      <th>RH</th>\n",
       "      <th>DewPoint</th>\n",
       "      <th>Rain</th>\n",
       "      <th>Pressure</th>\n",
       "      <th>Efield</th>\n",
       "      <th>Lightning_Warnings</th>\n",
       "      <th>Reset_secs</th>\n",
       "    </tr>\n",
       "  </thead>\n",
       "  <tbody>\n",
       "    <tr>\n",
       "      <th>0</th>\n",
       "      <td>2/27/2022 23:45</td>\n",
       "      <td>15.31052</td>\n",
       "      <td>85.83740</td>\n",
       "      <td>12.966850</td>\n",
       "      <td>0.0</td>\n",
       "      <td>827.4857</td>\n",
       "      <td>-16.63182</td>\n",
       "      <td>0</td>\n",
       "      <td>0</td>\n",
       "    </tr>\n",
       "    <tr>\n",
       "      <th>1</th>\n",
       "      <td>2/27/2022 23:30</td>\n",
       "      <td>15.98598</td>\n",
       "      <td>82.16581</td>\n",
       "      <td>12.960260</td>\n",
       "      <td>0.0</td>\n",
       "      <td>827.4928</td>\n",
       "      <td>-17.88704</td>\n",
       "      <td>0</td>\n",
       "      <td>0</td>\n",
       "    </tr>\n",
       "    <tr>\n",
       "      <th>2</th>\n",
       "      <td>2/27/2022 23:15</td>\n",
       "      <td>15.81320</td>\n",
       "      <td>81.01760</td>\n",
       "      <td>12.576650</td>\n",
       "      <td>0.0</td>\n",
       "      <td>827.6407</td>\n",
       "      <td>-17.25920</td>\n",
       "      <td>0</td>\n",
       "      <td>0</td>\n",
       "    </tr>\n",
       "    <tr>\n",
       "      <th>3</th>\n",
       "      <td>2/27/2022 23:00</td>\n",
       "      <td>15.94644</td>\n",
       "      <td>79.59342</td>\n",
       "      <td>12.436280</td>\n",
       "      <td>0.0</td>\n",
       "      <td>827.6857</td>\n",
       "      <td>-15.37659</td>\n",
       "      <td>0</td>\n",
       "      <td>0</td>\n",
       "    </tr>\n",
       "    <tr>\n",
       "      <th>4</th>\n",
       "      <td>2/27/2022 22:45</td>\n",
       "      <td>16.28638</td>\n",
       "      <td>76.22140</td>\n",
       "      <td>12.107980</td>\n",
       "      <td>0.0</td>\n",
       "      <td>827.9321</td>\n",
       "      <td>-14.43517</td>\n",
       "      <td>0</td>\n",
       "      <td>0</td>\n",
       "    </tr>\n",
       "    <tr>\n",
       "      <th>...</th>\n",
       "      <td>...</td>\n",
       "      <td>...</td>\n",
       "      <td>...</td>\n",
       "      <td>...</td>\n",
       "      <td>...</td>\n",
       "      <td>...</td>\n",
       "      <td>...</td>\n",
       "      <td>...</td>\n",
       "      <td>...</td>\n",
       "    </tr>\n",
       "    <tr>\n",
       "      <th>11405</th>\n",
       "      <td>11/1/2021 1:00</td>\n",
       "      <td>14.49834</td>\n",
       "      <td>72.94492</td>\n",
       "      <td>9.719332</td>\n",
       "      <td>0.0</td>\n",
       "      <td>823.9849</td>\n",
       "      <td>-23.84927</td>\n",
       "      <td>0</td>\n",
       "      <td>0</td>\n",
       "    </tr>\n",
       "    <tr>\n",
       "      <th>11406</th>\n",
       "      <td>11/1/2021 0:45</td>\n",
       "      <td>14.64727</td>\n",
       "      <td>71.04126</td>\n",
       "      <td>9.468879</td>\n",
       "      <td>0.0</td>\n",
       "      <td>824.1239</td>\n",
       "      <td>-23.22135</td>\n",
       "      <td>0</td>\n",
       "      <td>0</td>\n",
       "    </tr>\n",
       "    <tr>\n",
       "      <th>11407</th>\n",
       "      <td>11/1/2021 0:30</td>\n",
       "      <td>15.17229</td>\n",
       "      <td>67.91439</td>\n",
       "      <td>9.302760</td>\n",
       "      <td>0.0</td>\n",
       "      <td>824.1583</td>\n",
       "      <td>-23.84614</td>\n",
       "      <td>0</td>\n",
       "      <td>0</td>\n",
       "    </tr>\n",
       "    <tr>\n",
       "      <th>11408</th>\n",
       "      <td>11/1/2021 0:15</td>\n",
       "      <td>15.88538</td>\n",
       "      <td>60.16803</td>\n",
       "      <td>8.188042</td>\n",
       "      <td>0.0</td>\n",
       "      <td>824.1832</td>\n",
       "      <td>-23.84491</td>\n",
       "      <td>0</td>\n",
       "      <td>0</td>\n",
       "    </tr>\n",
       "    <tr>\n",
       "      <th>11409</th>\n",
       "      <td>11/1/2021 0:00</td>\n",
       "      <td>18.83013</td>\n",
       "      <td>44.34569</td>\n",
       "      <td>6.449132</td>\n",
       "      <td>0.0</td>\n",
       "      <td>823.9045</td>\n",
       "      <td>-31.68846</td>\n",
       "      <td>0</td>\n",
       "      <td>0</td>\n",
       "    </tr>\n",
       "  </tbody>\n",
       "</table>\n",
       "<p>11410 rows × 9 columns</p>\n",
       "</div>"
      ],
      "text/plain": [
       "                  Date  Air_temp        RH   DewPoint  Rain  Pressure  \\\n",
       "0      2/27/2022 23:45  15.31052  85.83740  12.966850   0.0  827.4857   \n",
       "1      2/27/2022 23:30  15.98598  82.16581  12.960260   0.0  827.4928   \n",
       "2      2/27/2022 23:15  15.81320  81.01760  12.576650   0.0  827.6407   \n",
       "3      2/27/2022 23:00  15.94644  79.59342  12.436280   0.0  827.6857   \n",
       "4      2/27/2022 22:45  16.28638  76.22140  12.107980   0.0  827.9321   \n",
       "...                ...       ...       ...        ...   ...       ...   \n",
       "11405   11/1/2021 1:00  14.49834  72.94492   9.719332   0.0  823.9849   \n",
       "11406   11/1/2021 0:45  14.64727  71.04126   9.468879   0.0  824.1239   \n",
       "11407   11/1/2021 0:30  15.17229  67.91439   9.302760   0.0  824.1583   \n",
       "11408   11/1/2021 0:15  15.88538  60.16803   8.188042   0.0  824.1832   \n",
       "11409   11/1/2021 0:00  18.83013  44.34569   6.449132   0.0  823.9045   \n",
       "\n",
       "         Efield  Lightning_Warnings  Reset_secs  \n",
       "0     -16.63182                   0           0  \n",
       "1     -17.88704                   0           0  \n",
       "2     -17.25920                   0           0  \n",
       "3     -15.37659                   0           0  \n",
       "4     -14.43517                   0           0  \n",
       "...         ...                 ...         ...  \n",
       "11405 -23.84927                   0           0  \n",
       "11406 -23.22135                   0           0  \n",
       "11407 -23.84614                   0           0  \n",
       "11408 -23.84491                   0           0  \n",
       "11409 -31.68846                   0           0  \n",
       "\n",
       "[11410 rows x 9 columns]"
      ]
     },
     "execution_count": 5,
     "metadata": {},
     "output_type": "execute_result"
    }
   ],
   "source": [
    "sentech_data"
   ]
  },
  {
   "cell_type": "markdown",
   "id": "0d8cd01d",
   "metadata": {},
   "source": [
    "Load simple static parameters"
   ]
  },
  {
   "cell_type": "code",
   "execution_count": 6,
   "id": "e2f463b6",
   "metadata": {},
   "outputs": [
    {
     "data": {
      "text/plain": [
       "Date                  0\n",
       "Air_temp              0\n",
       "RH                    0\n",
       "DewPoint              0\n",
       "Rain                  0\n",
       "Pressure              0\n",
       "Efield                0\n",
       "Lightning_Warnings    0\n",
       "Reset_secs            0\n",
       "dtype: int64"
      ]
     },
     "execution_count": 6,
     "metadata": {},
     "output_type": "execute_result"
    }
   ],
   "source": [
    "sentech_data.isna().sum()\n",
    "#No NaNs"
   ]
  },
  {
   "cell_type": "code",
   "execution_count": 7,
   "id": "9fce8d38",
   "metadata": {},
   "outputs": [
    {
     "data": {
      "text/html": [
       "<div>\n",
       "<style scoped>\n",
       "    .dataframe tbody tr th:only-of-type {\n",
       "        vertical-align: middle;\n",
       "    }\n",
       "\n",
       "    .dataframe tbody tr th {\n",
       "        vertical-align: top;\n",
       "    }\n",
       "\n",
       "    .dataframe thead th {\n",
       "        text-align: right;\n",
       "    }\n",
       "</style>\n",
       "<table border=\"1\" class=\"dataframe\">\n",
       "  <thead>\n",
       "    <tr style=\"text-align: right;\">\n",
       "      <th></th>\n",
       "      <th>Air_temp</th>\n",
       "      <th>RH</th>\n",
       "      <th>DewPoint</th>\n",
       "      <th>Rain</th>\n",
       "      <th>Pressure</th>\n",
       "      <th>Efield</th>\n",
       "      <th>Lightning_Warnings</th>\n",
       "      <th>Reset_secs</th>\n",
       "    </tr>\n",
       "  </thead>\n",
       "  <tbody>\n",
       "    <tr>\n",
       "      <th>count</th>\n",
       "      <td>11410.000000</td>\n",
       "      <td>11410.000000</td>\n",
       "      <td>11410.000000</td>\n",
       "      <td>11410.000000</td>\n",
       "      <td>11410.000000</td>\n",
       "      <td>11410.000000</td>\n",
       "      <td>11410.000000</td>\n",
       "      <td>11410.000000</td>\n",
       "    </tr>\n",
       "    <tr>\n",
       "      <th>mean</th>\n",
       "      <td>18.689568</td>\n",
       "      <td>72.150754</td>\n",
       "      <td>12.816222</td>\n",
       "      <td>0.000035</td>\n",
       "      <td>826.438567</td>\n",
       "      <td>-19.921106</td>\n",
       "      <td>0.108589</td>\n",
       "      <td>314.438212</td>\n",
       "    </tr>\n",
       "    <tr>\n",
       "      <th>std</th>\n",
       "      <td>3.924400</td>\n",
       "      <td>20.393162</td>\n",
       "      <td>3.102967</td>\n",
       "      <td>0.002648</td>\n",
       "      <td>15.626958</td>\n",
       "      <td>236.783167</td>\n",
       "      <td>0.311136</td>\n",
       "      <td>965.151379</td>\n",
       "    </tr>\n",
       "    <tr>\n",
       "      <th>min</th>\n",
       "      <td>0.000000</td>\n",
       "      <td>0.000000</td>\n",
       "      <td>-3.143647</td>\n",
       "      <td>0.000000</td>\n",
       "      <td>0.000000</td>\n",
       "      <td>-2523.927000</td>\n",
       "      <td>0.000000</td>\n",
       "      <td>0.000000</td>\n",
       "    </tr>\n",
       "    <tr>\n",
       "      <th>25%</th>\n",
       "      <td>15.754948</td>\n",
       "      <td>57.802200</td>\n",
       "      <td>11.778005</td>\n",
       "      <td>0.000000</td>\n",
       "      <td>825.406050</td>\n",
       "      <td>-41.416790</td>\n",
       "      <td>0.000000</td>\n",
       "      <td>0.000000</td>\n",
       "    </tr>\n",
       "    <tr>\n",
       "      <th>50%</th>\n",
       "      <td>18.324115</td>\n",
       "      <td>74.139575</td>\n",
       "      <td>13.451890</td>\n",
       "      <td>0.000000</td>\n",
       "      <td>826.824550</td>\n",
       "      <td>-29.796630</td>\n",
       "      <td>0.000000</td>\n",
       "      <td>0.000000</td>\n",
       "    </tr>\n",
       "    <tr>\n",
       "      <th>75%</th>\n",
       "      <td>21.584875</td>\n",
       "      <td>89.270905</td>\n",
       "      <td>14.794128</td>\n",
       "      <td>0.000000</td>\n",
       "      <td>828.125875</td>\n",
       "      <td>-19.456090</td>\n",
       "      <td>0.000000</td>\n",
       "      <td>0.000000</td>\n",
       "    </tr>\n",
       "    <tr>\n",
       "      <th>max</th>\n",
       "      <td>29.734370</td>\n",
       "      <td>99.980700</td>\n",
       "      <td>19.050590</td>\n",
       "      <td>0.200000</td>\n",
       "      <td>833.690200</td>\n",
       "      <td>2562.246000</td>\n",
       "      <td>1.000000</td>\n",
       "      <td>3600.000000</td>\n",
       "    </tr>\n",
       "  </tbody>\n",
       "</table>\n",
       "</div>"
      ],
      "text/plain": [
       "           Air_temp            RH      DewPoint          Rain      Pressure  \\\n",
       "count  11410.000000  11410.000000  11410.000000  11410.000000  11410.000000   \n",
       "mean      18.689568     72.150754     12.816222      0.000035    826.438567   \n",
       "std        3.924400     20.393162      3.102967      0.002648     15.626958   \n",
       "min        0.000000      0.000000     -3.143647      0.000000      0.000000   \n",
       "25%       15.754948     57.802200     11.778005      0.000000    825.406050   \n",
       "50%       18.324115     74.139575     13.451890      0.000000    826.824550   \n",
       "75%       21.584875     89.270905     14.794128      0.000000    828.125875   \n",
       "max       29.734370     99.980700     19.050590      0.200000    833.690200   \n",
       "\n",
       "             Efield  Lightning_Warnings    Reset_secs  \n",
       "count  11410.000000        11410.000000  11410.000000  \n",
       "mean     -19.921106            0.108589    314.438212  \n",
       "std      236.783167            0.311136    965.151379  \n",
       "min    -2523.927000            0.000000      0.000000  \n",
       "25%      -41.416790            0.000000      0.000000  \n",
       "50%      -29.796630            0.000000      0.000000  \n",
       "75%      -19.456090            0.000000      0.000000  \n",
       "max     2562.246000            1.000000   3600.000000  "
      ]
     },
     "execution_count": 7,
     "metadata": {},
     "output_type": "execute_result"
    }
   ],
   "source": [
    "sentech_data.describe()"
   ]
  },
  {
   "cell_type": "markdown",
   "id": "986cc024",
   "metadata": {},
   "source": [
    "Visualize the data"
   ]
  },
  {
   "cell_type": "code",
   "execution_count": 8,
   "id": "e1429af5",
   "metadata": {},
   "outputs": [
    {
     "data": {
      "text/plain": [
       "<AxesSubplot:title={'center':'Electric Field'}>"
      ]
     },
     "execution_count": 8,
     "metadata": {},
     "output_type": "execute_result"
    },
    {
     "data": {
      "image/png": "[encoded data removed]",
      "text/plain": [
       "<Figure size 1440x360 with 1 Axes>"
      ]
     },
     "metadata": {},
     "output_type": "display_data"
    }
   ],
   "source": [
    "sentech_data.Efield.plot(figsize= (20,5), title= \"Electric Field\")"
   ]
  },
  {
   "cell_type": "code",
   "execution_count": 9,
   "id": "66f76945",
   "metadata": {
    "scrolled": true
   },
   "outputs": [
    {
     "data": {
      "text/plain": [
       "<AxesSubplot:title={'center':'Lightning Warnings'}>"
      ]
     },
     "execution_count": 9,
     "metadata": {},
     "output_type": "execute_result"
    },
    {
     "data": {
      "image/png": "[encoded data removed]",
      "text/plain": [
       "<Figure size 1440x360 with 1 Axes>"
      ]
     },
     "metadata": {},
     "output_type": "display_data"
    }
   ],
   "source": [
    "sentech_data.Lightning_Warnings.plot(figsize= (20,5), title= \"Lightning Warnings\")"
   ]
  },
  {
   "cell_type": "code",
   "execution_count": 10,
   "id": "af838112",
   "metadata": {},
   "outputs": [
    {
     "data": {
      "text/plain": [
       "Text(0.5, 1.0, 'Electric field vs Lightning Warnings')"
      ]
     },
     "execution_count": 10,
     "metadata": {},
     "output_type": "execute_result"
    },
    {
     "data": {
      "image/png": "[encoded data removed]",
      "text/plain": [
       "<Figure size 1440x360 with 1 Axes>"
      ]
     },
     "metadata": {},
     "output_type": "display_data"
    }
   ],
   "source": [
    "sentech_data.Lightning_Warnings.plot(figsize= (20,5), title= \"Lightning Warnings\")\n",
    "sentech_data.Efield.plot(figsize= (20,5), title= \"Electric Field\")\n",
    "plt.title(\"Electric field vs Lightning Warnings\")"
   ]
  },
  {
   "cell_type": "code",
   "execution_count": 11,
   "id": "608ab7c5",
   "metadata": {},
   "outputs": [
    {
     "data": {
      "text/plain": [
       "<AxesSubplot:title={'center':'Air temperature'}>"
      ]
     },
     "execution_count": 11,
     "metadata": {},
     "output_type": "execute_result"
    },
    {
     "data": {
      "image/png": "[encoded data removed]",
      "text/plain": [
       "<Figure size 1440x360 with 1 Axes>"
      ]
     },
     "metadata": {},
     "output_type": "display_data"
    }
   ],
   "source": [
    "sentech_data.Air_temp.plot(figsize= (20,5), title= \"Air temperature\")"
   ]
  },
  {
   "cell_type": "code",
   "execution_count": 12,
   "id": "dede2e0b",
   "metadata": {},
   "outputs": [
    {
     "data": {
      "text/plain": [
       "<AxesSubplot:title={'center':'Relative Humidity'}>"
      ]
     },
     "execution_count": 12,
     "metadata": {},
     "output_type": "execute_result"
    },
    {
     "data": {
      "image/png": "[encoded data removed]",
      "text/plain": [
       "<Figure size 1440x360 with 1 Axes>"
      ]
     },
     "metadata": {},
     "output_type": "display_data"
    }
   ],
   "source": [
    "sentech_data.RH.plot(figsize= (20,5), title= \"Relative Humidity\")"
   ]
  },
  {
   "cell_type": "code",
   "execution_count": 13,
   "id": "d9cb6b28",
   "metadata": {},
   "outputs": [
    {
     "data": {
      "text/plain": [
       "<AxesSubplot:title={'center':'Dew Point'}>"
      ]
     },
     "execution_count": 13,
     "metadata": {},
     "output_type": "execute_result"
    },
    {
     "data": {
      "image/png": "[encoded data removed]",
      "text/plain": [
       "<Figure size 1440x360 with 1 Axes>"
      ]
     },
     "metadata": {},
     "output_type": "display_data"
    }
   ],
   "source": [
    "sentech_data.DewPoint.plot(figsize= (20,5), title= \"Dew Point\")"
   ]
  },
  {
   "cell_type": "code",
   "execution_count": 14,
   "id": "541413c3",
   "metadata": {},
   "outputs": [
    {
     "data": {
      "text/plain": [
       "<AxesSubplot:title={'center':'Rain'}>"
      ]
     },
     "execution_count": 14,
     "metadata": {},
     "output_type": "execute_result"
    },
    {
     "data": {
      "image/png": "[encoded data removed]",
      "text/plain": [
       "<Figure size 1440x360 with 1 Axes>"
      ]
     },
     "metadata": {},
     "output_type": "display_data"
    }
   ],
   "source": [
    "sentech_data.Rain.plot(figsize= (20,5), title= \"Rain\")"
   ]
  },
  {
   "cell_type": "code",
   "execution_count": 15,
   "id": "2bb18ba2",
   "metadata": {},
   "outputs": [
    {
     "data": {
      "image/png": "[encoded data removed]",
      "text/plain": [
       "<Figure size 432x288 with 1 Axes>"
      ]
     },
     "metadata": {},
     "output_type": "display_data"
    }
   ],
   "source": [
    "scipy.stats.probplot(sentech_data.Efield, plot = pylab)\n",
    "plt.title(\"E-Field QQ Plot\", size = 24)\n",
    "pylab.show()"
   ]
  },
  {
   "cell_type": "markdown",
   "id": "c0d1aa00",
   "metadata": {},
   "source": [
    "Converting the date to date object"
   ]
  },
  {
   "cell_type": "code",
   "execution_count": 16,
   "id": "013e78a9",
   "metadata": {},
   "outputs": [
    {
     "data": {
      "text/plain": [
       "count               11410\n",
       "unique              11410\n",
       "top       2/27/2022 23:45\n",
       "freq                    1\n",
       "Name: Date, dtype: object"
      ]
     },
     "execution_count": 16,
     "metadata": {},
     "output_type": "execute_result"
    }
   ],
   "source": [
    "sentech_data.Date.describe()"
   ]
  },
  {
   "cell_type": "code",
   "execution_count": 17,
   "id": "15e486ce",
   "metadata": {},
   "outputs": [],
   "source": [
    "sentech_data.Date = pd.to_datetime(sentech_data.Date)"
   ]
  },
  {
   "cell_type": "code",
   "execution_count": 18,
   "id": "aa04bed5",
   "metadata": {},
   "outputs": [
    {
     "data": {
      "text/html": [
       "<div>\n",
       "<style scoped>\n",
       "    .dataframe tbody tr th:only-of-type {\n",
       "        vertical-align: middle;\n",
       "    }\n",
       "\n",
       "    .dataframe tbody tr th {\n",
       "        vertical-align: top;\n",
       "    }\n",
       "\n",
       "    .dataframe thead th {\n",
       "        text-align: right;\n",
       "    }\n",
       "</style>\n",
       "<table border=\"1\" class=\"dataframe\">\n",
       "  <thead>\n",
       "    <tr style=\"text-align: right;\">\n",
       "      <th></th>\n",
       "      <th>Date</th>\n",
       "      <th>Air_temp</th>\n",
       "      <th>RH</th>\n",
       "      <th>DewPoint</th>\n",
       "      <th>Rain</th>\n",
       "      <th>Pressure</th>\n",
       "      <th>Efield</th>\n",
       "      <th>Lightning_Warnings</th>\n",
       "      <th>Reset_secs</th>\n",
       "    </tr>\n",
       "  </thead>\n",
       "  <tbody>\n",
       "    <tr>\n",
       "      <th>0</th>\n",
       "      <td>2022-02-27 23:45:00</td>\n",
       "      <td>15.31052</td>\n",
       "      <td>85.83740</td>\n",
       "      <td>12.966850</td>\n",
       "      <td>0.0</td>\n",
       "      <td>827.4857</td>\n",
       "      <td>-16.63182</td>\n",
       "      <td>0</td>\n",
       "      <td>0</td>\n",
       "    </tr>\n",
       "    <tr>\n",
       "      <th>1</th>\n",
       "      <td>2022-02-27 23:30:00</td>\n",
       "      <td>15.98598</td>\n",
       "      <td>82.16581</td>\n",
       "      <td>12.960260</td>\n",
       "      <td>0.0</td>\n",
       "      <td>827.4928</td>\n",
       "      <td>-17.88704</td>\n",
       "      <td>0</td>\n",
       "      <td>0</td>\n",
       "    </tr>\n",
       "    <tr>\n",
       "      <th>2</th>\n",
       "      <td>2022-02-27 23:15:00</td>\n",
       "      <td>15.81320</td>\n",
       "      <td>81.01760</td>\n",
       "      <td>12.576650</td>\n",
       "      <td>0.0</td>\n",
       "      <td>827.6407</td>\n",
       "      <td>-17.25920</td>\n",
       "      <td>0</td>\n",
       "      <td>0</td>\n",
       "    </tr>\n",
       "    <tr>\n",
       "      <th>3</th>\n",
       "      <td>2022-02-27 23:00:00</td>\n",
       "      <td>15.94644</td>\n",
       "      <td>79.59342</td>\n",
       "      <td>12.436280</td>\n",
       "      <td>0.0</td>\n",
       "      <td>827.6857</td>\n",
       "      <td>-15.37659</td>\n",
       "      <td>0</td>\n",
       "      <td>0</td>\n",
       "    </tr>\n",
       "    <tr>\n",
       "      <th>4</th>\n",
       "      <td>2022-02-27 22:45:00</td>\n",
       "      <td>16.28638</td>\n",
       "      <td>76.22140</td>\n",
       "      <td>12.107980</td>\n",
       "      <td>0.0</td>\n",
       "      <td>827.9321</td>\n",
       "      <td>-14.43517</td>\n",
       "      <td>0</td>\n",
       "      <td>0</td>\n",
       "    </tr>\n",
       "    <tr>\n",
       "      <th>...</th>\n",
       "      <td>...</td>\n",
       "      <td>...</td>\n",
       "      <td>...</td>\n",
       "      <td>...</td>\n",
       "      <td>...</td>\n",
       "      <td>...</td>\n",
       "      <td>...</td>\n",
       "      <td>...</td>\n",
       "      <td>...</td>\n",
       "    </tr>\n",
       "    <tr>\n",
       "      <th>11405</th>\n",
       "      <td>2021-11-01 01:00:00</td>\n",
       "      <td>14.49834</td>\n",
       "      <td>72.94492</td>\n",
       "      <td>9.719332</td>\n",
       "      <td>0.0</td>\n",
       "      <td>823.9849</td>\n",
       "      <td>-23.84927</td>\n",
       "      <td>0</td>\n",
       "      <td>0</td>\n",
       "    </tr>\n",
       "    <tr>\n",
       "      <th>11406</th>\n",
       "      <td>2021-11-01 00:45:00</td>\n",
       "      <td>14.64727</td>\n",
       "      <td>71.04126</td>\n",
       "      <td>9.468879</td>\n",
       "      <td>0.0</td>\n",
       "      <td>824.1239</td>\n",
       "      <td>-23.22135</td>\n",
       "      <td>0</td>\n",
       "      <td>0</td>\n",
       "    </tr>\n",
       "    <tr>\n",
       "      <th>11407</th>\n",
       "      <td>2021-11-01 00:30:00</td>\n",
       "      <td>15.17229</td>\n",
       "      <td>67.91439</td>\n",
       "      <td>9.302760</td>\n",
       "      <td>0.0</td>\n",
       "      <td>824.1583</td>\n",
       "      <td>-23.84614</td>\n",
       "      <td>0</td>\n",
       "      <td>0</td>\n",
       "    </tr>\n",
       "    <tr>\n",
       "      <th>11408</th>\n",
       "      <td>2021-11-01 00:15:00</td>\n",
       "      <td>15.88538</td>\n",
       "      <td>60.16803</td>\n",
       "      <td>8.188042</td>\n",
       "      <td>0.0</td>\n",
       "      <td>824.1832</td>\n",
       "      <td>-23.84491</td>\n",
       "      <td>0</td>\n",
       "      <td>0</td>\n",
       "    </tr>\n",
       "    <tr>\n",
       "      <th>11409</th>\n",
       "      <td>2021-11-01 00:00:00</td>\n",
       "      <td>18.83013</td>\n",
       "      <td>44.34569</td>\n",
       "      <td>6.449132</td>\n",
       "      <td>0.0</td>\n",
       "      <td>823.9045</td>\n",
       "      <td>-31.68846</td>\n",
       "      <td>0</td>\n",
       "      <td>0</td>\n",
       "    </tr>\n",
       "  </tbody>\n",
       "</table>\n",
       "<p>11410 rows × 9 columns</p>\n",
       "</div>"
      ],
      "text/plain": [
       "                     Date  Air_temp        RH   DewPoint  Rain  Pressure  \\\n",
       "0     2022-02-27 23:45:00  15.31052  85.83740  12.966850   0.0  827.4857   \n",
       "1     2022-02-27 23:30:00  15.98598  82.16581  12.960260   0.0  827.4928   \n",
       "2     2022-02-27 23:15:00  15.81320  81.01760  12.576650   0.0  827.6407   \n",
       "3     2022-02-27 23:00:00  15.94644  79.59342  12.436280   0.0  827.6857   \n",
       "4     2022-02-27 22:45:00  16.28638  76.22140  12.107980   0.0  827.9321   \n",
       "...                   ...       ...       ...        ...   ...       ...   \n",
       "11405 2021-11-01 01:00:00  14.49834  72.94492   9.719332   0.0  823.9849   \n",
       "11406 2021-11-01 00:45:00  14.64727  71.04126   9.468879   0.0  824.1239   \n",
       "11407 2021-11-01 00:30:00  15.17229  67.91439   9.302760   0.0  824.1583   \n",
       "11408 2021-11-01 00:15:00  15.88538  60.16803   8.188042   0.0  824.1832   \n",
       "11409 2021-11-01 00:00:00  18.83013  44.34569   6.449132   0.0  823.9045   \n",
       "\n",
       "         Efield  Lightning_Warnings  Reset_secs  \n",
       "0     -16.63182                   0           0  \n",
       "1     -17.88704                   0           0  \n",
       "2     -17.25920                   0           0  \n",
       "3     -15.37659                   0           0  \n",
       "4     -14.43517                   0           0  \n",
       "...         ...                 ...         ...  \n",
       "11405 -23.84927                   0           0  \n",
       "11406 -23.22135                   0           0  \n",
       "11407 -23.84614                   0           0  \n",
       "11408 -23.84491                   0           0  \n",
       "11409 -31.68846                   0           0  \n",
       "\n",
       "[11410 rows x 9 columns]"
      ]
     },
     "execution_count": 18,
     "metadata": {},
     "output_type": "execute_result"
    }
   ],
   "source": [
    "sentech_data"
   ]
  },
  {
   "cell_type": "code",
   "execution_count": 19,
   "id": "2ec78a24",
   "metadata": {},
   "outputs": [
    {
     "data": {
      "text/plain": [
       "count                            11410\n",
       "mean     2021-12-30 13:12:09.386503168\n",
       "min                2021-11-01 00:00:00\n",
       "25%                2021-11-30 20:33:45\n",
       "50%                2021-12-30 13:37:30\n",
       "75%                2022-01-29 06:41:15\n",
       "max                2022-02-27 23:45:00\n",
       "Name: Date, dtype: object"
      ]
     },
     "execution_count": 19,
     "metadata": {},
     "output_type": "execute_result"
    }
   ],
   "source": [
    "sentech_data.Date.describe(datetime_is_numeric=True)"
   ]
  },
  {
   "cell_type": "code",
   "execution_count": 20,
   "id": "b7e9f690",
   "metadata": {},
   "outputs": [],
   "source": [
    "sentech_data.set_index(\"Date\", inplace=True)"
   ]
  },
  {
   "cell_type": "code",
   "execution_count": 21,
   "id": "7cde4151",
   "metadata": {},
   "outputs": [
    {
     "data": {
      "text/html": [
       "<div>\n",
       "<style scoped>\n",
       "    .dataframe tbody tr th:only-of-type {\n",
       "        vertical-align: middle;\n",
       "    }\n",
       "\n",
       "    .dataframe tbody tr th {\n",
       "        vertical-align: top;\n",
       "    }\n",
       "\n",
       "    .dataframe thead th {\n",
       "        text-align: right;\n",
       "    }\n",
       "</style>\n",
       "<table border=\"1\" class=\"dataframe\">\n",
       "  <thead>\n",
       "    <tr style=\"text-align: right;\">\n",
       "      <th></th>\n",
       "      <th>Air_temp</th>\n",
       "      <th>RH</th>\n",
       "      <th>DewPoint</th>\n",
       "      <th>Rain</th>\n",
       "      <th>Pressure</th>\n",
       "      <th>Efield</th>\n",
       "      <th>Lightning_Warnings</th>\n",
       "      <th>Reset_secs</th>\n",
       "    </tr>\n",
       "    <tr>\n",
       "      <th>Date</th>\n",
       "      <th></th>\n",
       "      <th></th>\n",
       "      <th></th>\n",
       "      <th></th>\n",
       "      <th></th>\n",
       "      <th></th>\n",
       "      <th></th>\n",
       "      <th></th>\n",
       "    </tr>\n",
       "  </thead>\n",
       "  <tbody>\n",
       "    <tr>\n",
       "      <th>2022-02-27 23:45:00</th>\n",
       "      <td>15.31052</td>\n",
       "      <td>85.83740</td>\n",
       "      <td>12.966850</td>\n",
       "      <td>0.0</td>\n",
       "      <td>827.4857</td>\n",
       "      <td>-16.63182</td>\n",
       "      <td>0</td>\n",
       "      <td>0</td>\n",
       "    </tr>\n",
       "    <tr>\n",
       "      <th>2022-02-27 23:30:00</th>\n",
       "      <td>15.98598</td>\n",
       "      <td>82.16581</td>\n",
       "      <td>12.960260</td>\n",
       "      <td>0.0</td>\n",
       "      <td>827.4928</td>\n",
       "      <td>-17.88704</td>\n",
       "      <td>0</td>\n",
       "      <td>0</td>\n",
       "    </tr>\n",
       "    <tr>\n",
       "      <th>2022-02-27 23:15:00</th>\n",
       "      <td>15.81320</td>\n",
       "      <td>81.01760</td>\n",
       "      <td>12.576650</td>\n",
       "      <td>0.0</td>\n",
       "      <td>827.6407</td>\n",
       "      <td>-17.25920</td>\n",
       "      <td>0</td>\n",
       "      <td>0</td>\n",
       "    </tr>\n",
       "    <tr>\n",
       "      <th>2022-02-27 23:00:00</th>\n",
       "      <td>15.94644</td>\n",
       "      <td>79.59342</td>\n",
       "      <td>12.436280</td>\n",
       "      <td>0.0</td>\n",
       "      <td>827.6857</td>\n",
       "      <td>-15.37659</td>\n",
       "      <td>0</td>\n",
       "      <td>0</td>\n",
       "    </tr>\n",
       "    <tr>\n",
       "      <th>2022-02-27 22:45:00</th>\n",
       "      <td>16.28638</td>\n",
       "      <td>76.22140</td>\n",
       "      <td>12.107980</td>\n",
       "      <td>0.0</td>\n",
       "      <td>827.9321</td>\n",
       "      <td>-14.43517</td>\n",
       "      <td>0</td>\n",
       "      <td>0</td>\n",
       "    </tr>\n",
       "    <tr>\n",
       "      <th>...</th>\n",
       "      <td>...</td>\n",
       "      <td>...</td>\n",
       "      <td>...</td>\n",
       "      <td>...</td>\n",
       "      <td>...</td>\n",
       "      <td>...</td>\n",
       "      <td>...</td>\n",
       "      <td>...</td>\n",
       "    </tr>\n",
       "    <tr>\n",
       "      <th>2021-11-01 01:00:00</th>\n",
       "      <td>14.49834</td>\n",
       "      <td>72.94492</td>\n",
       "      <td>9.719332</td>\n",
       "      <td>0.0</td>\n",
       "      <td>823.9849</td>\n",
       "      <td>-23.84927</td>\n",
       "      <td>0</td>\n",
       "      <td>0</td>\n",
       "    </tr>\n",
       "    <tr>\n",
       "      <th>2021-11-01 00:45:00</th>\n",
       "      <td>14.64727</td>\n",
       "      <td>71.04126</td>\n",
       "      <td>9.468879</td>\n",
       "      <td>0.0</td>\n",
       "      <td>824.1239</td>\n",
       "      <td>-23.22135</td>\n",
       "      <td>0</td>\n",
       "      <td>0</td>\n",
       "    </tr>\n",
       "    <tr>\n",
       "      <th>2021-11-01 00:30:00</th>\n",
       "      <td>15.17229</td>\n",
       "      <td>67.91439</td>\n",
       "      <td>9.302760</td>\n",
       "      <td>0.0</td>\n",
       "      <td>824.1583</td>\n",
       "      <td>-23.84614</td>\n",
       "      <td>0</td>\n",
       "      <td>0</td>\n",
       "    </tr>\n",
       "    <tr>\n",
       "      <th>2021-11-01 00:15:00</th>\n",
       "      <td>15.88538</td>\n",
       "      <td>60.16803</td>\n",
       "      <td>8.188042</td>\n",
       "      <td>0.0</td>\n",
       "      <td>824.1832</td>\n",
       "      <td>-23.84491</td>\n",
       "      <td>0</td>\n",
       "      <td>0</td>\n",
       "    </tr>\n",
       "    <tr>\n",
       "      <th>2021-11-01 00:00:00</th>\n",
       "      <td>18.83013</td>\n",
       "      <td>44.34569</td>\n",
       "      <td>6.449132</td>\n",
       "      <td>0.0</td>\n",
       "      <td>823.9045</td>\n",
       "      <td>-31.68846</td>\n",
       "      <td>0</td>\n",
       "      <td>0</td>\n",
       "    </tr>\n",
       "  </tbody>\n",
       "</table>\n",
       "<p>11410 rows × 8 columns</p>\n",
       "</div>"
      ],
      "text/plain": [
       "                     Air_temp        RH   DewPoint  Rain  Pressure    Efield  \\\n",
       "Date                                                                           \n",
       "2022-02-27 23:45:00  15.31052  85.83740  12.966850   0.0  827.4857 -16.63182   \n",
       "2022-02-27 23:30:00  15.98598  82.16581  12.960260   0.0  827.4928 -17.88704   \n",
       "2022-02-27 23:15:00  15.81320  81.01760  12.576650   0.0  827.6407 -17.25920   \n",
       "2022-02-27 23:00:00  15.94644  79.59342  12.436280   0.0  827.6857 -15.37659   \n",
       "2022-02-27 22:45:00  16.28638  76.22140  12.107980   0.0  827.9321 -14.43517   \n",
       "...                       ...       ...        ...   ...       ...       ...   \n",
       "2021-11-01 01:00:00  14.49834  72.94492   9.719332   0.0  823.9849 -23.84927   \n",
       "2021-11-01 00:45:00  14.64727  71.04126   9.468879   0.0  824.1239 -23.22135   \n",
       "2021-11-01 00:30:00  15.17229  67.91439   9.302760   0.0  824.1583 -23.84614   \n",
       "2021-11-01 00:15:00  15.88538  60.16803   8.188042   0.0  824.1832 -23.84491   \n",
       "2021-11-01 00:00:00  18.83013  44.34569   6.449132   0.0  823.9045 -31.68846   \n",
       "\n",
       "                     Lightning_Warnings  Reset_secs  \n",
       "Date                                                 \n",
       "2022-02-27 23:45:00                   0           0  \n",
       "2022-02-27 23:30:00                   0           0  \n",
       "2022-02-27 23:15:00                   0           0  \n",
       "2022-02-27 23:00:00                   0           0  \n",
       "2022-02-27 22:45:00                   0           0  \n",
       "...                                 ...         ...  \n",
       "2021-11-01 01:00:00                   0           0  \n",
       "2021-11-01 00:45:00                   0           0  \n",
       "2021-11-01 00:30:00                   0           0  \n",
       "2021-11-01 00:15:00                   0           0  \n",
       "2021-11-01 00:00:00                   0           0  \n",
       "\n",
       "[11410 rows x 8 columns]"
      ]
     },
     "execution_count": 21,
     "metadata": {},
     "output_type": "execute_result"
    }
   ],
   "source": [
    "sentech_data"
   ]
  },
  {
   "cell_type": "code",
   "execution_count": 22,
   "id": "73349ad9",
   "metadata": {},
   "outputs": [],
   "source": [
    "#Reverse train set to begin with most late date\n",
    "sentech_data= sentech_data.iloc[::-1]"
   ]
  },
  {
   "cell_type": "code",
   "execution_count": 23,
   "id": "6dea79b8",
   "metadata": {},
   "outputs": [
    {
     "data": {
      "text/html": [
       "<div>\n",
       "<style scoped>\n",
       "    .dataframe tbody tr th:only-of-type {\n",
       "        vertical-align: middle;\n",
       "    }\n",
       "\n",
       "    .dataframe tbody tr th {\n",
       "        vertical-align: top;\n",
       "    }\n",
       "\n",
       "    .dataframe thead th {\n",
       "        text-align: right;\n",
       "    }\n",
       "</style>\n",
       "<table border=\"1\" class=\"dataframe\">\n",
       "  <thead>\n",
       "    <tr style=\"text-align: right;\">\n",
       "      <th></th>\n",
       "      <th>Air_temp</th>\n",
       "      <th>RH</th>\n",
       "      <th>DewPoint</th>\n",
       "      <th>Rain</th>\n",
       "      <th>Pressure</th>\n",
       "      <th>Efield</th>\n",
       "      <th>Lightning_Warnings</th>\n",
       "      <th>Reset_secs</th>\n",
       "    </tr>\n",
       "    <tr>\n",
       "      <th>Date</th>\n",
       "      <th></th>\n",
       "      <th></th>\n",
       "      <th></th>\n",
       "      <th></th>\n",
       "      <th></th>\n",
       "      <th></th>\n",
       "      <th></th>\n",
       "      <th></th>\n",
       "    </tr>\n",
       "  </thead>\n",
       "  <tbody>\n",
       "    <tr>\n",
       "      <th>2021-11-01 00:00:00</th>\n",
       "      <td>18.83013</td>\n",
       "      <td>44.34569</td>\n",
       "      <td>6.449132</td>\n",
       "      <td>0.0</td>\n",
       "      <td>823.9045</td>\n",
       "      <td>-31.68846</td>\n",
       "      <td>0</td>\n",
       "      <td>0</td>\n",
       "    </tr>\n",
       "    <tr>\n",
       "      <th>2021-11-01 00:15:00</th>\n",
       "      <td>15.88538</td>\n",
       "      <td>60.16803</td>\n",
       "      <td>8.188042</td>\n",
       "      <td>0.0</td>\n",
       "      <td>824.1832</td>\n",
       "      <td>-23.84491</td>\n",
       "      <td>0</td>\n",
       "      <td>0</td>\n",
       "    </tr>\n",
       "    <tr>\n",
       "      <th>2021-11-01 00:30:00</th>\n",
       "      <td>15.17229</td>\n",
       "      <td>67.91439</td>\n",
       "      <td>9.302760</td>\n",
       "      <td>0.0</td>\n",
       "      <td>824.1583</td>\n",
       "      <td>-23.84614</td>\n",
       "      <td>0</td>\n",
       "      <td>0</td>\n",
       "    </tr>\n",
       "    <tr>\n",
       "      <th>2021-11-01 00:45:00</th>\n",
       "      <td>14.64727</td>\n",
       "      <td>71.04126</td>\n",
       "      <td>9.468879</td>\n",
       "      <td>0.0</td>\n",
       "      <td>824.1239</td>\n",
       "      <td>-23.22135</td>\n",
       "      <td>0</td>\n",
       "      <td>0</td>\n",
       "    </tr>\n",
       "    <tr>\n",
       "      <th>2021-11-01 01:00:00</th>\n",
       "      <td>14.49834</td>\n",
       "      <td>72.94492</td>\n",
       "      <td>9.719332</td>\n",
       "      <td>0.0</td>\n",
       "      <td>823.9849</td>\n",
       "      <td>-23.84927</td>\n",
       "      <td>0</td>\n",
       "      <td>0</td>\n",
       "    </tr>\n",
       "    <tr>\n",
       "      <th>...</th>\n",
       "      <td>...</td>\n",
       "      <td>...</td>\n",
       "      <td>...</td>\n",
       "      <td>...</td>\n",
       "      <td>...</td>\n",
       "      <td>...</td>\n",
       "      <td>...</td>\n",
       "      <td>...</td>\n",
       "    </tr>\n",
       "    <tr>\n",
       "      <th>2022-02-27 22:45:00</th>\n",
       "      <td>16.28638</td>\n",
       "      <td>76.22140</td>\n",
       "      <td>12.107980</td>\n",
       "      <td>0.0</td>\n",
       "      <td>827.9321</td>\n",
       "      <td>-14.43517</td>\n",
       "      <td>0</td>\n",
       "      <td>0</td>\n",
       "    </tr>\n",
       "    <tr>\n",
       "      <th>2022-02-27 23:00:00</th>\n",
       "      <td>15.94644</td>\n",
       "      <td>79.59342</td>\n",
       "      <td>12.436280</td>\n",
       "      <td>0.0</td>\n",
       "      <td>827.6857</td>\n",
       "      <td>-15.37659</td>\n",
       "      <td>0</td>\n",
       "      <td>0</td>\n",
       "    </tr>\n",
       "    <tr>\n",
       "      <th>2022-02-27 23:15:00</th>\n",
       "      <td>15.81320</td>\n",
       "      <td>81.01760</td>\n",
       "      <td>12.576650</td>\n",
       "      <td>0.0</td>\n",
       "      <td>827.6407</td>\n",
       "      <td>-17.25920</td>\n",
       "      <td>0</td>\n",
       "      <td>0</td>\n",
       "    </tr>\n",
       "    <tr>\n",
       "      <th>2022-02-27 23:30:00</th>\n",
       "      <td>15.98598</td>\n",
       "      <td>82.16581</td>\n",
       "      <td>12.960260</td>\n",
       "      <td>0.0</td>\n",
       "      <td>827.4928</td>\n",
       "      <td>-17.88704</td>\n",
       "      <td>0</td>\n",
       "      <td>0</td>\n",
       "    </tr>\n",
       "    <tr>\n",
       "      <th>2022-02-27 23:45:00</th>\n",
       "      <td>15.31052</td>\n",
       "      <td>85.83740</td>\n",
       "      <td>12.966850</td>\n",
       "      <td>0.0</td>\n",
       "      <td>827.4857</td>\n",
       "      <td>-16.63182</td>\n",
       "      <td>0</td>\n",
       "      <td>0</td>\n",
       "    </tr>\n",
       "  </tbody>\n",
       "</table>\n",
       "<p>11410 rows × 8 columns</p>\n",
       "</div>"
      ],
      "text/plain": [
       "                     Air_temp        RH   DewPoint  Rain  Pressure    Efield  \\\n",
       "Date                                                                           \n",
       "2021-11-01 00:00:00  18.83013  44.34569   6.449132   0.0  823.9045 -31.68846   \n",
       "2021-11-01 00:15:00  15.88538  60.16803   8.188042   0.0  824.1832 -23.84491   \n",
       "2021-11-01 00:30:00  15.17229  67.91439   9.302760   0.0  824.1583 -23.84614   \n",
       "2021-11-01 00:45:00  14.64727  71.04126   9.468879   0.0  824.1239 -23.22135   \n",
       "2021-11-01 01:00:00  14.49834  72.94492   9.719332   0.0  823.9849 -23.84927   \n",
       "...                       ...       ...        ...   ...       ...       ...   \n",
       "2022-02-27 22:45:00  16.28638  76.22140  12.107980   0.0  827.9321 -14.43517   \n",
       "2022-02-27 23:00:00  15.94644  79.59342  12.436280   0.0  827.6857 -15.37659   \n",
       "2022-02-27 23:15:00  15.81320  81.01760  12.576650   0.0  827.6407 -17.25920   \n",
       "2022-02-27 23:30:00  15.98598  82.16581  12.960260   0.0  827.4928 -17.88704   \n",
       "2022-02-27 23:45:00  15.31052  85.83740  12.966850   0.0  827.4857 -16.63182   \n",
       "\n",
       "                     Lightning_Warnings  Reset_secs  \n",
       "Date                                                 \n",
       "2021-11-01 00:00:00                   0           0  \n",
       "2021-11-01 00:15:00                   0           0  \n",
       "2021-11-01 00:30:00                   0           0  \n",
       "2021-11-01 00:45:00                   0           0  \n",
       "2021-11-01 01:00:00                   0           0  \n",
       "...                                 ...         ...  \n",
       "2022-02-27 22:45:00                   0           0  \n",
       "2022-02-27 23:00:00                   0           0  \n",
       "2022-02-27 23:15:00                   0           0  \n",
       "2022-02-27 23:30:00                   0           0  \n",
       "2022-02-27 23:45:00                   0           0  \n",
       "\n",
       "[11410 rows x 8 columns]"
      ]
     },
     "execution_count": 23,
     "metadata": {},
     "output_type": "execute_result"
    }
   ],
   "source": [
    "sentech_data"
   ]
  },
  {
   "cell_type": "markdown",
   "id": "a1e2e19c",
   "metadata": {},
   "source": [
    "Setting the desired frequency (15 min intervals)"
   ]
  },
  {
   "cell_type": "code",
   "execution_count": 24,
   "id": "65808e9e",
   "metadata": {},
   "outputs": [],
   "source": [
    "sentech_data=sentech_data.asfreq('900s')\n",
    "\n",
    "#It is tricky using this function because it flips the datapoints and thus creates >50 000 NaN values. Its unacceptable."
   ]
  },
  {
   "cell_type": "code",
   "execution_count": 25,
   "id": "18f293aa",
   "metadata": {
    "scrolled": true
   },
   "outputs": [
    {
     "data": {
      "text/html": [
       "<div>\n",
       "<style scoped>\n",
       "    .dataframe tbody tr th:only-of-type {\n",
       "        vertical-align: middle;\n",
       "    }\n",
       "\n",
       "    .dataframe tbody tr th {\n",
       "        vertical-align: top;\n",
       "    }\n",
       "\n",
       "    .dataframe thead th {\n",
       "        text-align: right;\n",
       "    }\n",
       "</style>\n",
       "<table border=\"1\" class=\"dataframe\">\n",
       "  <thead>\n",
       "    <tr style=\"text-align: right;\">\n",
       "      <th></th>\n",
       "      <th>Air_temp</th>\n",
       "      <th>RH</th>\n",
       "      <th>DewPoint</th>\n",
       "      <th>Rain</th>\n",
       "      <th>Pressure</th>\n",
       "      <th>Efield</th>\n",
       "      <th>Lightning_Warnings</th>\n",
       "      <th>Reset_secs</th>\n",
       "    </tr>\n",
       "    <tr>\n",
       "      <th>Date</th>\n",
       "      <th></th>\n",
       "      <th></th>\n",
       "      <th></th>\n",
       "      <th></th>\n",
       "      <th></th>\n",
       "      <th></th>\n",
       "      <th></th>\n",
       "      <th></th>\n",
       "    </tr>\n",
       "  </thead>\n",
       "  <tbody>\n",
       "    <tr>\n",
       "      <th>2021-11-01 00:00:00</th>\n",
       "      <td>18.83013</td>\n",
       "      <td>44.34569</td>\n",
       "      <td>6.449132</td>\n",
       "      <td>0.0</td>\n",
       "      <td>823.9045</td>\n",
       "      <td>-31.68846</td>\n",
       "      <td>0.0</td>\n",
       "      <td>0.0</td>\n",
       "    </tr>\n",
       "    <tr>\n",
       "      <th>2021-11-01 00:15:00</th>\n",
       "      <td>15.88538</td>\n",
       "      <td>60.16803</td>\n",
       "      <td>8.188042</td>\n",
       "      <td>0.0</td>\n",
       "      <td>824.1832</td>\n",
       "      <td>-23.84491</td>\n",
       "      <td>0.0</td>\n",
       "      <td>0.0</td>\n",
       "    </tr>\n",
       "    <tr>\n",
       "      <th>2021-11-01 00:30:00</th>\n",
       "      <td>15.17229</td>\n",
       "      <td>67.91439</td>\n",
       "      <td>9.302760</td>\n",
       "      <td>0.0</td>\n",
       "      <td>824.1583</td>\n",
       "      <td>-23.84614</td>\n",
       "      <td>0.0</td>\n",
       "      <td>0.0</td>\n",
       "    </tr>\n",
       "    <tr>\n",
       "      <th>2021-11-01 00:45:00</th>\n",
       "      <td>14.64727</td>\n",
       "      <td>71.04126</td>\n",
       "      <td>9.468879</td>\n",
       "      <td>0.0</td>\n",
       "      <td>824.1239</td>\n",
       "      <td>-23.22135</td>\n",
       "      <td>0.0</td>\n",
       "      <td>0.0</td>\n",
       "    </tr>\n",
       "    <tr>\n",
       "      <th>2021-11-01 01:00:00</th>\n",
       "      <td>14.49834</td>\n",
       "      <td>72.94492</td>\n",
       "      <td>9.719332</td>\n",
       "      <td>0.0</td>\n",
       "      <td>823.9849</td>\n",
       "      <td>-23.84927</td>\n",
       "      <td>0.0</td>\n",
       "      <td>0.0</td>\n",
       "    </tr>\n",
       "    <tr>\n",
       "      <th>...</th>\n",
       "      <td>...</td>\n",
       "      <td>...</td>\n",
       "      <td>...</td>\n",
       "      <td>...</td>\n",
       "      <td>...</td>\n",
       "      <td>...</td>\n",
       "      <td>...</td>\n",
       "      <td>...</td>\n",
       "    </tr>\n",
       "    <tr>\n",
       "      <th>2022-02-27 22:45:00</th>\n",
       "      <td>16.28638</td>\n",
       "      <td>76.22140</td>\n",
       "      <td>12.107980</td>\n",
       "      <td>0.0</td>\n",
       "      <td>827.9321</td>\n",
       "      <td>-14.43517</td>\n",
       "      <td>0.0</td>\n",
       "      <td>0.0</td>\n",
       "    </tr>\n",
       "    <tr>\n",
       "      <th>2022-02-27 23:00:00</th>\n",
       "      <td>15.94644</td>\n",
       "      <td>79.59342</td>\n",
       "      <td>12.436280</td>\n",
       "      <td>0.0</td>\n",
       "      <td>827.6857</td>\n",
       "      <td>-15.37659</td>\n",
       "      <td>0.0</td>\n",
       "      <td>0.0</td>\n",
       "    </tr>\n",
       "    <tr>\n",
       "      <th>2022-02-27 23:15:00</th>\n",
       "      <td>15.81320</td>\n",
       "      <td>81.01760</td>\n",
       "      <td>12.576650</td>\n",
       "      <td>0.0</td>\n",
       "      <td>827.6407</td>\n",
       "      <td>-17.25920</td>\n",
       "      <td>0.0</td>\n",
       "      <td>0.0</td>\n",
       "    </tr>\n",
       "    <tr>\n",
       "      <th>2022-02-27 23:30:00</th>\n",
       "      <td>15.98598</td>\n",
       "      <td>82.16581</td>\n",
       "      <td>12.960260</td>\n",
       "      <td>0.0</td>\n",
       "      <td>827.4928</td>\n",
       "      <td>-17.88704</td>\n",
       "      <td>0.0</td>\n",
       "      <td>0.0</td>\n",
       "    </tr>\n",
       "    <tr>\n",
       "      <th>2022-02-27 23:45:00</th>\n",
       "      <td>15.31052</td>\n",
       "      <td>85.83740</td>\n",
       "      <td>12.966850</td>\n",
       "      <td>0.0</td>\n",
       "      <td>827.4857</td>\n",
       "      <td>-16.63182</td>\n",
       "      <td>0.0</td>\n",
       "      <td>0.0</td>\n",
       "    </tr>\n",
       "  </tbody>\n",
       "</table>\n",
       "<p>11424 rows × 8 columns</p>\n",
       "</div>"
      ],
      "text/plain": [
       "                     Air_temp        RH   DewPoint  Rain  Pressure    Efield  \\\n",
       "Date                                                                           \n",
       "2021-11-01 00:00:00  18.83013  44.34569   6.449132   0.0  823.9045 -31.68846   \n",
       "2021-11-01 00:15:00  15.88538  60.16803   8.188042   0.0  824.1832 -23.84491   \n",
       "2021-11-01 00:30:00  15.17229  67.91439   9.302760   0.0  824.1583 -23.84614   \n",
       "2021-11-01 00:45:00  14.64727  71.04126   9.468879   0.0  824.1239 -23.22135   \n",
       "2021-11-01 01:00:00  14.49834  72.94492   9.719332   0.0  823.9849 -23.84927   \n",
       "...                       ...       ...        ...   ...       ...       ...   \n",
       "2022-02-27 22:45:00  16.28638  76.22140  12.107980   0.0  827.9321 -14.43517   \n",
       "2022-02-27 23:00:00  15.94644  79.59342  12.436280   0.0  827.6857 -15.37659   \n",
       "2022-02-27 23:15:00  15.81320  81.01760  12.576650   0.0  827.6407 -17.25920   \n",
       "2022-02-27 23:30:00  15.98598  82.16581  12.960260   0.0  827.4928 -17.88704   \n",
       "2022-02-27 23:45:00  15.31052  85.83740  12.966850   0.0  827.4857 -16.63182   \n",
       "\n",
       "                     Lightning_Warnings  Reset_secs  \n",
       "Date                                                 \n",
       "2021-11-01 00:00:00                 0.0         0.0  \n",
       "2021-11-01 00:15:00                 0.0         0.0  \n",
       "2021-11-01 00:30:00                 0.0         0.0  \n",
       "2021-11-01 00:45:00                 0.0         0.0  \n",
       "2021-11-01 01:00:00                 0.0         0.0  \n",
       "...                                 ...         ...  \n",
       "2022-02-27 22:45:00                 0.0         0.0  \n",
       "2022-02-27 23:00:00                 0.0         0.0  \n",
       "2022-02-27 23:15:00                 0.0         0.0  \n",
       "2022-02-27 23:30:00                 0.0         0.0  \n",
       "2022-02-27 23:45:00                 0.0         0.0  \n",
       "\n",
       "[11424 rows x 8 columns]"
      ]
     },
     "execution_count": 25,
     "metadata": {},
     "output_type": "execute_result"
    }
   ],
   "source": [
    "sentech_data"
   ]
  },
  {
   "cell_type": "markdown",
   "id": "32a1577d",
   "metadata": {},
   "source": [
    "Handling Missing Values"
   ]
  },
  {
   "cell_type": "code",
   "execution_count": 26,
   "id": "96592abd",
   "metadata": {},
   "outputs": [
    {
     "data": {
      "text/html": [
       "<div>\n",
       "<style scoped>\n",
       "    .dataframe tbody tr th:only-of-type {\n",
       "        vertical-align: middle;\n",
       "    }\n",
       "\n",
       "    .dataframe tbody tr th {\n",
       "        vertical-align: top;\n",
       "    }\n",
       "\n",
       "    .dataframe thead th {\n",
       "        text-align: right;\n",
       "    }\n",
       "</style>\n",
       "<table border=\"1\" class=\"dataframe\">\n",
       "  <thead>\n",
       "    <tr style=\"text-align: right;\">\n",
       "      <th></th>\n",
       "      <th>Air_temp</th>\n",
       "      <th>RH</th>\n",
       "      <th>DewPoint</th>\n",
       "      <th>Rain</th>\n",
       "      <th>Pressure</th>\n",
       "      <th>Efield</th>\n",
       "      <th>Lightning_Warnings</th>\n",
       "      <th>Reset_secs</th>\n",
       "    </tr>\n",
       "    <tr>\n",
       "      <th>Date</th>\n",
       "      <th></th>\n",
       "      <th></th>\n",
       "      <th></th>\n",
       "      <th></th>\n",
       "      <th></th>\n",
       "      <th></th>\n",
       "      <th></th>\n",
       "      <th></th>\n",
       "    </tr>\n",
       "  </thead>\n",
       "  <tbody>\n",
       "    <tr>\n",
       "      <th>2021-11-01 00:00:00</th>\n",
       "      <td>False</td>\n",
       "      <td>False</td>\n",
       "      <td>False</td>\n",
       "      <td>False</td>\n",
       "      <td>False</td>\n",
       "      <td>False</td>\n",
       "      <td>False</td>\n",
       "      <td>False</td>\n",
       "    </tr>\n",
       "    <tr>\n",
       "      <th>2021-11-01 00:15:00</th>\n",
       "      <td>False</td>\n",
       "      <td>False</td>\n",
       "      <td>False</td>\n",
       "      <td>False</td>\n",
       "      <td>False</td>\n",
       "      <td>False</td>\n",
       "      <td>False</td>\n",
       "      <td>False</td>\n",
       "    </tr>\n",
       "    <tr>\n",
       "      <th>2021-11-01 00:30:00</th>\n",
       "      <td>False</td>\n",
       "      <td>False</td>\n",
       "      <td>False</td>\n",
       "      <td>False</td>\n",
       "      <td>False</td>\n",
       "      <td>False</td>\n",
       "      <td>False</td>\n",
       "      <td>False</td>\n",
       "    </tr>\n",
       "    <tr>\n",
       "      <th>2021-11-01 00:45:00</th>\n",
       "      <td>False</td>\n",
       "      <td>False</td>\n",
       "      <td>False</td>\n",
       "      <td>False</td>\n",
       "      <td>False</td>\n",
       "      <td>False</td>\n",
       "      <td>False</td>\n",
       "      <td>False</td>\n",
       "    </tr>\n",
       "    <tr>\n",
       "      <th>2021-11-01 01:00:00</th>\n",
       "      <td>False</td>\n",
       "      <td>False</td>\n",
       "      <td>False</td>\n",
       "      <td>False</td>\n",
       "      <td>False</td>\n",
       "      <td>False</td>\n",
       "      <td>False</td>\n",
       "      <td>False</td>\n",
       "    </tr>\n",
       "    <tr>\n",
       "      <th>...</th>\n",
       "      <td>...</td>\n",
       "      <td>...</td>\n",
       "      <td>...</td>\n",
       "      <td>...</td>\n",
       "      <td>...</td>\n",
       "      <td>...</td>\n",
       "      <td>...</td>\n",
       "      <td>...</td>\n",
       "    </tr>\n",
       "    <tr>\n",
       "      <th>2022-02-27 22:45:00</th>\n",
       "      <td>False</td>\n",
       "      <td>False</td>\n",
       "      <td>False</td>\n",
       "      <td>False</td>\n",
       "      <td>False</td>\n",
       "      <td>False</td>\n",
       "      <td>False</td>\n",
       "      <td>False</td>\n",
       "    </tr>\n",
       "    <tr>\n",
       "      <th>2022-02-27 23:00:00</th>\n",
       "      <td>False</td>\n",
       "      <td>False</td>\n",
       "      <td>False</td>\n",
       "      <td>False</td>\n",
       "      <td>False</td>\n",
       "      <td>False</td>\n",
       "      <td>False</td>\n",
       "      <td>False</td>\n",
       "    </tr>\n",
       "    <tr>\n",
       "      <th>2022-02-27 23:15:00</th>\n",
       "      <td>False</td>\n",
       "      <td>False</td>\n",
       "      <td>False</td>\n",
       "      <td>False</td>\n",
       "      <td>False</td>\n",
       "      <td>False</td>\n",
       "      <td>False</td>\n",
       "      <td>False</td>\n",
       "    </tr>\n",
       "    <tr>\n",
       "      <th>2022-02-27 23:30:00</th>\n",
       "      <td>False</td>\n",
       "      <td>False</td>\n",
       "      <td>False</td>\n",
       "      <td>False</td>\n",
       "      <td>False</td>\n",
       "      <td>False</td>\n",
       "      <td>False</td>\n",
       "      <td>False</td>\n",
       "    </tr>\n",
       "    <tr>\n",
       "      <th>2022-02-27 23:45:00</th>\n",
       "      <td>False</td>\n",
       "      <td>False</td>\n",
       "      <td>False</td>\n",
       "      <td>False</td>\n",
       "      <td>False</td>\n",
       "      <td>False</td>\n",
       "      <td>False</td>\n",
       "      <td>False</td>\n",
       "    </tr>\n",
       "  </tbody>\n",
       "</table>\n",
       "<p>11424 rows × 8 columns</p>\n",
       "</div>"
      ],
      "text/plain": [
       "                     Air_temp     RH  DewPoint   Rain  Pressure  Efield  \\\n",
       "Date                                                                      \n",
       "2021-11-01 00:00:00     False  False     False  False     False   False   \n",
       "2021-11-01 00:15:00     False  False     False  False     False   False   \n",
       "2021-11-01 00:30:00     False  False     False  False     False   False   \n",
       "2021-11-01 00:45:00     False  False     False  False     False   False   \n",
       "2021-11-01 01:00:00     False  False     False  False     False   False   \n",
       "...                       ...    ...       ...    ...       ...     ...   \n",
       "2022-02-27 22:45:00     False  False     False  False     False   False   \n",
       "2022-02-27 23:00:00     False  False     False  False     False   False   \n",
       "2022-02-27 23:15:00     False  False     False  False     False   False   \n",
       "2022-02-27 23:30:00     False  False     False  False     False   False   \n",
       "2022-02-27 23:45:00     False  False     False  False     False   False   \n",
       "\n",
       "                     Lightning_Warnings  Reset_secs  \n",
       "Date                                                 \n",
       "2021-11-01 00:00:00               False       False  \n",
       "2021-11-01 00:15:00               False       False  \n",
       "2021-11-01 00:30:00               False       False  \n",
       "2021-11-01 00:45:00               False       False  \n",
       "2021-11-01 01:00:00               False       False  \n",
       "...                                 ...         ...  \n",
       "2022-02-27 22:45:00               False       False  \n",
       "2022-02-27 23:00:00               False       False  \n",
       "2022-02-27 23:15:00               False       False  \n",
       "2022-02-27 23:30:00               False       False  \n",
       "2022-02-27 23:45:00               False       False  \n",
       "\n",
       "[11424 rows x 8 columns]"
      ]
     },
     "execution_count": 26,
     "metadata": {},
     "output_type": "execute_result"
    }
   ],
   "source": [
    "sentech_data.isna()"
   ]
  },
  {
   "cell_type": "code",
   "execution_count": 27,
   "id": "112603b1",
   "metadata": {},
   "outputs": [
    {
     "data": {
      "text/plain": [
       "Air_temp              14\n",
       "RH                    14\n",
       "DewPoint              14\n",
       "Rain                  14\n",
       "Pressure              14\n",
       "Efield                14\n",
       "Lightning_Warnings    14\n",
       "Reset_secs            14\n",
       "dtype: int64"
      ]
     },
     "execution_count": 27,
     "metadata": {},
     "output_type": "execute_result"
    }
   ],
   "source": [
    "sentech_data.isna().sum()\n",
    "#Sum of NaN values is the same as before setting the frequency."
   ]
  },
  {
   "cell_type": "code",
   "execution_count": 28,
   "id": "bf0b9c95",
   "metadata": {},
   "outputs": [],
   "source": [
    "sentech_data.Air_temp=sentech_data.Air_temp.fillna(method='bfill')"
   ]
  },
  {
   "cell_type": "code",
   "execution_count": 29,
   "id": "5a909736",
   "metadata": {},
   "outputs": [],
   "source": [
    "sentech_data.RH=sentech_data.RH.fillna(method='bfill')"
   ]
  },
  {
   "cell_type": "code",
   "execution_count": 30,
   "id": "ed3f354c",
   "metadata": {},
   "outputs": [],
   "source": [
    "sentech_data.DewPoint=sentech_data.DewPoint.fillna(method='bfill')"
   ]
  },
  {
   "cell_type": "code",
   "execution_count": 31,
   "id": "57f88fe5",
   "metadata": {},
   "outputs": [],
   "source": [
    "sentech_data.Pressure=sentech_data.Pressure.fillna(method='bfill')"
   ]
  },
  {
   "cell_type": "code",
   "execution_count": 32,
   "id": "4ff8c8c7",
   "metadata": {},
   "outputs": [],
   "source": [
    "sentech_data.Efield=sentech_data.Efield.fillna(method='bfill')"
   ]
  },
  {
   "cell_type": "code",
   "execution_count": 33,
   "id": "68d540ff",
   "metadata": {},
   "outputs": [],
   "source": [
    "sentech_data.Lightning_Warnings=sentech_data.Lightning_Warnings.fillna(method='bfill')"
   ]
  },
  {
   "cell_type": "code",
   "execution_count": 34,
   "id": "d58485e5",
   "metadata": {},
   "outputs": [],
   "source": [
    "sentech_data.Rain=sentech_data.Rain.fillna(method='bfill')"
   ]
  },
  {
   "cell_type": "code",
   "execution_count": 35,
   "id": "0bf43255",
   "metadata": {},
   "outputs": [],
   "source": [
    "sentech_data.Reset_secs=sentech_data.Reset_secs.fillna(method='bfill')"
   ]
  },
  {
   "cell_type": "code",
   "execution_count": 36,
   "id": "9dcf12be",
   "metadata": {},
   "outputs": [
    {
     "data": {
      "text/plain": [
       "Air_temp              0\n",
       "RH                    0\n",
       "DewPoint              0\n",
       "Rain                  0\n",
       "Pressure              0\n",
       "Efield                0\n",
       "Lightning_Warnings    0\n",
       "Reset_secs            0\n",
       "dtype: int64"
      ]
     },
     "execution_count": 36,
     "metadata": {},
     "output_type": "execute_result"
    }
   ],
   "source": [
    "sentech_data.isna().sum()"
   ]
  },
  {
   "cell_type": "code",
   "execution_count": 37,
   "id": "e8aa750e",
   "metadata": {},
   "outputs": [
    {
     "data": {
      "text/html": [
       "<div>\n",
       "<style scoped>\n",
       "    .dataframe tbody tr th:only-of-type {\n",
       "        vertical-align: middle;\n",
       "    }\n",
       "\n",
       "    .dataframe tbody tr th {\n",
       "        vertical-align: top;\n",
       "    }\n",
       "\n",
       "    .dataframe thead th {\n",
       "        text-align: right;\n",
       "    }\n",
       "</style>\n",
       "<table border=\"1\" class=\"dataframe\">\n",
       "  <thead>\n",
       "    <tr style=\"text-align: right;\">\n",
       "      <th></th>\n",
       "      <th>Air_temp</th>\n",
       "      <th>RH</th>\n",
       "      <th>DewPoint</th>\n",
       "      <th>Rain</th>\n",
       "      <th>Pressure</th>\n",
       "      <th>Efield</th>\n",
       "      <th>Lightning_Warnings</th>\n",
       "      <th>Reset_secs</th>\n",
       "    </tr>\n",
       "    <tr>\n",
       "      <th>Date</th>\n",
       "      <th></th>\n",
       "      <th></th>\n",
       "      <th></th>\n",
       "      <th></th>\n",
       "      <th></th>\n",
       "      <th></th>\n",
       "      <th></th>\n",
       "      <th></th>\n",
       "    </tr>\n",
       "  </thead>\n",
       "  <tbody>\n",
       "    <tr>\n",
       "      <th>2021-11-01 00:00:00</th>\n",
       "      <td>18.83013</td>\n",
       "      <td>44.34569</td>\n",
       "      <td>6.449132</td>\n",
       "      <td>0.0</td>\n",
       "      <td>823.9045</td>\n",
       "      <td>-31.68846</td>\n",
       "      <td>0.0</td>\n",
       "      <td>0.0</td>\n",
       "    </tr>\n",
       "    <tr>\n",
       "      <th>2021-11-01 00:15:00</th>\n",
       "      <td>15.88538</td>\n",
       "      <td>60.16803</td>\n",
       "      <td>8.188042</td>\n",
       "      <td>0.0</td>\n",
       "      <td>824.1832</td>\n",
       "      <td>-23.84491</td>\n",
       "      <td>0.0</td>\n",
       "      <td>0.0</td>\n",
       "    </tr>\n",
       "    <tr>\n",
       "      <th>2021-11-01 00:30:00</th>\n",
       "      <td>15.17229</td>\n",
       "      <td>67.91439</td>\n",
       "      <td>9.302760</td>\n",
       "      <td>0.0</td>\n",
       "      <td>824.1583</td>\n",
       "      <td>-23.84614</td>\n",
       "      <td>0.0</td>\n",
       "      <td>0.0</td>\n",
       "    </tr>\n",
       "    <tr>\n",
       "      <th>2021-11-01 00:45:00</th>\n",
       "      <td>14.64727</td>\n",
       "      <td>71.04126</td>\n",
       "      <td>9.468879</td>\n",
       "      <td>0.0</td>\n",
       "      <td>824.1239</td>\n",
       "      <td>-23.22135</td>\n",
       "      <td>0.0</td>\n",
       "      <td>0.0</td>\n",
       "    </tr>\n",
       "    <tr>\n",
       "      <th>2021-11-01 01:00:00</th>\n",
       "      <td>14.49834</td>\n",
       "      <td>72.94492</td>\n",
       "      <td>9.719332</td>\n",
       "      <td>0.0</td>\n",
       "      <td>823.9849</td>\n",
       "      <td>-23.84927</td>\n",
       "      <td>0.0</td>\n",
       "      <td>0.0</td>\n",
       "    </tr>\n",
       "    <tr>\n",
       "      <th>...</th>\n",
       "      <td>...</td>\n",
       "      <td>...</td>\n",
       "      <td>...</td>\n",
       "      <td>...</td>\n",
       "      <td>...</td>\n",
       "      <td>...</td>\n",
       "      <td>...</td>\n",
       "      <td>...</td>\n",
       "    </tr>\n",
       "    <tr>\n",
       "      <th>2022-02-27 22:45:00</th>\n",
       "      <td>16.28638</td>\n",
       "      <td>76.22140</td>\n",
       "      <td>12.107980</td>\n",
       "      <td>0.0</td>\n",
       "      <td>827.9321</td>\n",
       "      <td>-14.43517</td>\n",
       "      <td>0.0</td>\n",
       "      <td>0.0</td>\n",
       "    </tr>\n",
       "    <tr>\n",
       "      <th>2022-02-27 23:00:00</th>\n",
       "      <td>15.94644</td>\n",
       "      <td>79.59342</td>\n",
       "      <td>12.436280</td>\n",
       "      <td>0.0</td>\n",
       "      <td>827.6857</td>\n",
       "      <td>-15.37659</td>\n",
       "      <td>0.0</td>\n",
       "      <td>0.0</td>\n",
       "    </tr>\n",
       "    <tr>\n",
       "      <th>2022-02-27 23:15:00</th>\n",
       "      <td>15.81320</td>\n",
       "      <td>81.01760</td>\n",
       "      <td>12.576650</td>\n",
       "      <td>0.0</td>\n",
       "      <td>827.6407</td>\n",
       "      <td>-17.25920</td>\n",
       "      <td>0.0</td>\n",
       "      <td>0.0</td>\n",
       "    </tr>\n",
       "    <tr>\n",
       "      <th>2022-02-27 23:30:00</th>\n",
       "      <td>15.98598</td>\n",
       "      <td>82.16581</td>\n",
       "      <td>12.960260</td>\n",
       "      <td>0.0</td>\n",
       "      <td>827.4928</td>\n",
       "      <td>-17.88704</td>\n",
       "      <td>0.0</td>\n",
       "      <td>0.0</td>\n",
       "    </tr>\n",
       "    <tr>\n",
       "      <th>2022-02-27 23:45:00</th>\n",
       "      <td>15.31052</td>\n",
       "      <td>85.83740</td>\n",
       "      <td>12.966850</td>\n",
       "      <td>0.0</td>\n",
       "      <td>827.4857</td>\n",
       "      <td>-16.63182</td>\n",
       "      <td>0.0</td>\n",
       "      <td>0.0</td>\n",
       "    </tr>\n",
       "  </tbody>\n",
       "</table>\n",
       "<p>11424 rows × 8 columns</p>\n",
       "</div>"
      ],
      "text/plain": [
       "                     Air_temp        RH   DewPoint  Rain  Pressure    Efield  \\\n",
       "Date                                                                           \n",
       "2021-11-01 00:00:00  18.83013  44.34569   6.449132   0.0  823.9045 -31.68846   \n",
       "2021-11-01 00:15:00  15.88538  60.16803   8.188042   0.0  824.1832 -23.84491   \n",
       "2021-11-01 00:30:00  15.17229  67.91439   9.302760   0.0  824.1583 -23.84614   \n",
       "2021-11-01 00:45:00  14.64727  71.04126   9.468879   0.0  824.1239 -23.22135   \n",
       "2021-11-01 01:00:00  14.49834  72.94492   9.719332   0.0  823.9849 -23.84927   \n",
       "...                       ...       ...        ...   ...       ...       ...   \n",
       "2022-02-27 22:45:00  16.28638  76.22140  12.107980   0.0  827.9321 -14.43517   \n",
       "2022-02-27 23:00:00  15.94644  79.59342  12.436280   0.0  827.6857 -15.37659   \n",
       "2022-02-27 23:15:00  15.81320  81.01760  12.576650   0.0  827.6407 -17.25920   \n",
       "2022-02-27 23:30:00  15.98598  82.16581  12.960260   0.0  827.4928 -17.88704   \n",
       "2022-02-27 23:45:00  15.31052  85.83740  12.966850   0.0  827.4857 -16.63182   \n",
       "\n",
       "                     Lightning_Warnings  Reset_secs  \n",
       "Date                                                 \n",
       "2021-11-01 00:00:00                 0.0         0.0  \n",
       "2021-11-01 00:15:00                 0.0         0.0  \n",
       "2021-11-01 00:30:00                 0.0         0.0  \n",
       "2021-11-01 00:45:00                 0.0         0.0  \n",
       "2021-11-01 01:00:00                 0.0         0.0  \n",
       "...                                 ...         ...  \n",
       "2022-02-27 22:45:00                 0.0         0.0  \n",
       "2022-02-27 23:00:00                 0.0         0.0  \n",
       "2022-02-27 23:15:00                 0.0         0.0  \n",
       "2022-02-27 23:30:00                 0.0         0.0  \n",
       "2022-02-27 23:45:00                 0.0         0.0  \n",
       "\n",
       "[11424 rows x 8 columns]"
      ]
     },
     "execution_count": 37,
     "metadata": {},
     "output_type": "execute_result"
    }
   ],
   "source": [
    "sentech_data"
   ]
  },
  {
   "cell_type": "markdown",
   "id": "fbfc2627",
   "metadata": {},
   "source": [
    "Simplifying the Dataset- Getting rid of extra columns"
   ]
  },
  {
   "cell_type": "code",
   "execution_count": 38,
   "id": "7feb633f",
   "metadata": {},
   "outputs": [],
   "source": [
    "# Create a new column extracted from sentech tower\n",
    "sentech_data['electric_field']=sentech_data.Efield"
   ]
  },
  {
   "cell_type": "code",
   "execution_count": 39,
   "id": "e02cf472",
   "metadata": {},
   "outputs": [
    {
     "data": {
      "text/html": [
       "<div>\n",
       "<style scoped>\n",
       "    .dataframe tbody tr th:only-of-type {\n",
       "        vertical-align: middle;\n",
       "    }\n",
       "\n",
       "    .dataframe tbody tr th {\n",
       "        vertical-align: top;\n",
       "    }\n",
       "\n",
       "    .dataframe thead th {\n",
       "        text-align: right;\n",
       "    }\n",
       "</style>\n",
       "<table border=\"1\" class=\"dataframe\">\n",
       "  <thead>\n",
       "    <tr style=\"text-align: right;\">\n",
       "      <th></th>\n",
       "      <th>Air_temp</th>\n",
       "      <th>RH</th>\n",
       "      <th>DewPoint</th>\n",
       "      <th>Rain</th>\n",
       "      <th>Pressure</th>\n",
       "      <th>Efield</th>\n",
       "      <th>Lightning_Warnings</th>\n",
       "      <th>Reset_secs</th>\n",
       "      <th>electric_field</th>\n",
       "    </tr>\n",
       "  </thead>\n",
       "  <tbody>\n",
       "    <tr>\n",
       "      <th>count</th>\n",
       "      <td>11424.000000</td>\n",
       "      <td>11424.000000</td>\n",
       "      <td>11424.000000</td>\n",
       "      <td>11424.000000</td>\n",
       "      <td>11424.000000</td>\n",
       "      <td>11424.000000</td>\n",
       "      <td>11424.000000</td>\n",
       "      <td>11424.000000</td>\n",
       "      <td>11424.000000</td>\n",
       "    </tr>\n",
       "    <tr>\n",
       "      <th>mean</th>\n",
       "      <td>18.666664</td>\n",
       "      <td>72.062334</td>\n",
       "      <td>12.800516</td>\n",
       "      <td>0.000035</td>\n",
       "      <td>825.425774</td>\n",
       "      <td>-19.896693</td>\n",
       "      <td>0.108456</td>\n",
       "      <td>314.052871</td>\n",
       "      <td>-19.896693</td>\n",
       "    </tr>\n",
       "    <tr>\n",
       "      <th>std</th>\n",
       "      <td>3.976131</td>\n",
       "      <td>20.536398</td>\n",
       "      <td>3.133315</td>\n",
       "      <td>0.002646</td>\n",
       "      <td>32.862754</td>\n",
       "      <td>236.639048</td>\n",
       "      <td>0.310969</td>\n",
       "      <td>964.622489</td>\n",
       "      <td>236.639048</td>\n",
       "    </tr>\n",
       "    <tr>\n",
       "      <th>min</th>\n",
       "      <td>0.000000</td>\n",
       "      <td>0.000000</td>\n",
       "      <td>-3.143647</td>\n",
       "      <td>0.000000</td>\n",
       "      <td>0.000000</td>\n",
       "      <td>-2523.927000</td>\n",
       "      <td>0.000000</td>\n",
       "      <td>0.000000</td>\n",
       "      <td>-2523.927000</td>\n",
       "    </tr>\n",
       "    <tr>\n",
       "      <th>25%</th>\n",
       "      <td>15.741075</td>\n",
       "      <td>57.699713</td>\n",
       "      <td>11.769175</td>\n",
       "      <td>0.000000</td>\n",
       "      <td>825.399350</td>\n",
       "      <td>-41.415715</td>\n",
       "      <td>0.000000</td>\n",
       "      <td>0.000000</td>\n",
       "      <td>-41.415715</td>\n",
       "    </tr>\n",
       "    <tr>\n",
       "      <th>50%</th>\n",
       "      <td>18.310145</td>\n",
       "      <td>74.093910</td>\n",
       "      <td>13.449530</td>\n",
       "      <td>0.000000</td>\n",
       "      <td>826.821350</td>\n",
       "      <td>-29.795150</td>\n",
       "      <td>0.000000</td>\n",
       "      <td>0.000000</td>\n",
       "      <td>-29.795150</td>\n",
       "    </tr>\n",
       "    <tr>\n",
       "      <th>75%</th>\n",
       "      <td>21.583000</td>\n",
       "      <td>89.249578</td>\n",
       "      <td>14.792847</td>\n",
       "      <td>0.000000</td>\n",
       "      <td>828.124700</td>\n",
       "      <td>-19.454477</td>\n",
       "      <td>0.000000</td>\n",
       "      <td>0.000000</td>\n",
       "      <td>-19.454477</td>\n",
       "    </tr>\n",
       "    <tr>\n",
       "      <th>max</th>\n",
       "      <td>29.734370</td>\n",
       "      <td>99.980700</td>\n",
       "      <td>19.050590</td>\n",
       "      <td>0.200000</td>\n",
       "      <td>833.690200</td>\n",
       "      <td>2562.246000</td>\n",
       "      <td>1.000000</td>\n",
       "      <td>3600.000000</td>\n",
       "      <td>2562.246000</td>\n",
       "    </tr>\n",
       "  </tbody>\n",
       "</table>\n",
       "</div>"
      ],
      "text/plain": [
       "           Air_temp            RH      DewPoint          Rain      Pressure  \\\n",
       "count  11424.000000  11424.000000  11424.000000  11424.000000  11424.000000   \n",
       "mean      18.666664     72.062334     12.800516      0.000035    825.425774   \n",
       "std        3.976131     20.536398      3.133315      0.002646     32.862754   \n",
       "min        0.000000      0.000000     -3.143647      0.000000      0.000000   \n",
       "25%       15.741075     57.699713     11.769175      0.000000    825.399350   \n",
       "50%       18.310145     74.093910     13.449530      0.000000    826.821350   \n",
       "75%       21.583000     89.249578     14.792847      0.000000    828.124700   \n",
       "max       29.734370     99.980700     19.050590      0.200000    833.690200   \n",
       "\n",
       "             Efield  Lightning_Warnings    Reset_secs  electric_field  \n",
       "count  11424.000000        11424.000000  11424.000000    11424.000000  \n",
       "mean     -19.896693            0.108456    314.052871      -19.896693  \n",
       "std      236.639048            0.310969    964.622489      236.639048  \n",
       "min    -2523.927000            0.000000      0.000000    -2523.927000  \n",
       "25%      -41.415715            0.000000      0.000000      -41.415715  \n",
       "50%      -29.795150            0.000000      0.000000      -29.795150  \n",
       "75%      -19.454477            0.000000      0.000000      -19.454477  \n",
       "max     2562.246000            1.000000   3600.000000     2562.246000  "
      ]
     },
     "execution_count": 39,
     "metadata": {},
     "output_type": "execute_result"
    }
   ],
   "source": [
    "#Summary statistics\n",
    "sentech_data.describe()"
   ]
  },
  {
   "cell_type": "code",
   "execution_count": 40,
   "id": "5f9a064e",
   "metadata": {},
   "outputs": [],
   "source": [
    "#Delete the other columns\n",
    "del sentech_data['Air_temp']\n",
    "del sentech_data['RH']\n",
    "del sentech_data['DewPoint']\n",
    "del sentech_data['Rain']\n",
    "del sentech_data['Pressure']\n",
    "del sentech_data['Efield']\n",
    "del sentech_data['Lightning_Warnings']\n",
    "del sentech_data['Reset_secs']\n"
   ]
  },
  {
   "cell_type": "code",
   "execution_count": 41,
   "id": "2bac7f2e",
   "metadata": {},
   "outputs": [
    {
     "data": {
      "text/html": [
       "<div>\n",
       "<style scoped>\n",
       "    .dataframe tbody tr th:only-of-type {\n",
       "        vertical-align: middle;\n",
       "    }\n",
       "\n",
       "    .dataframe tbody tr th {\n",
       "        vertical-align: top;\n",
       "    }\n",
       "\n",
       "    .dataframe thead th {\n",
       "        text-align: right;\n",
       "    }\n",
       "</style>\n",
       "<table border=\"1\" class=\"dataframe\">\n",
       "  <thead>\n",
       "    <tr style=\"text-align: right;\">\n",
       "      <th></th>\n",
       "      <th>electric_field</th>\n",
       "    </tr>\n",
       "  </thead>\n",
       "  <tbody>\n",
       "    <tr>\n",
       "      <th>count</th>\n",
       "      <td>11424.000000</td>\n",
       "    </tr>\n",
       "    <tr>\n",
       "      <th>mean</th>\n",
       "      <td>-19.896693</td>\n",
       "    </tr>\n",
       "    <tr>\n",
       "      <th>std</th>\n",
       "      <td>236.639048</td>\n",
       "    </tr>\n",
       "    <tr>\n",
       "      <th>min</th>\n",
       "      <td>-2523.927000</td>\n",
       "    </tr>\n",
       "    <tr>\n",
       "      <th>25%</th>\n",
       "      <td>-41.415715</td>\n",
       "    </tr>\n",
       "    <tr>\n",
       "      <th>50%</th>\n",
       "      <td>-29.795150</td>\n",
       "    </tr>\n",
       "    <tr>\n",
       "      <th>75%</th>\n",
       "      <td>-19.454477</td>\n",
       "    </tr>\n",
       "    <tr>\n",
       "      <th>max</th>\n",
       "      <td>2562.246000</td>\n",
       "    </tr>\n",
       "  </tbody>\n",
       "</table>\n",
       "</div>"
      ],
      "text/plain": [
       "       electric_field\n",
       "count    11424.000000\n",
       "mean       -19.896693\n",
       "std        236.639048\n",
       "min      -2523.927000\n",
       "25%        -41.415715\n",
       "50%        -29.795150\n",
       "75%        -19.454477\n",
       "max       2562.246000"
      ]
     },
     "execution_count": 41,
     "metadata": {},
     "output_type": "execute_result"
    }
   ],
   "source": [
    "sentech_data.describe()"
   ]
  },
  {
   "cell_type": "markdown",
   "id": "eb80578f",
   "metadata": {},
   "source": [
    "Splitting the data set"
   ]
  },
  {
   "cell_type": "code",
   "execution_count": 42,
   "id": "37c9aa54",
   "metadata": {},
   "outputs": [
    {
     "data": {
      "text/html": [
       "<div>\n",
       "<style scoped>\n",
       "    .dataframe tbody tr th:only-of-type {\n",
       "        vertical-align: middle;\n",
       "    }\n",
       "\n",
       "    .dataframe tbody tr th {\n",
       "        vertical-align: top;\n",
       "    }\n",
       "\n",
       "    .dataframe thead th {\n",
       "        text-align: right;\n",
       "    }\n",
       "</style>\n",
       "<table border=\"1\" class=\"dataframe\">\n",
       "  <thead>\n",
       "    <tr style=\"text-align: right;\">\n",
       "      <th></th>\n",
       "      <th>electric_field</th>\n",
       "    </tr>\n",
       "    <tr>\n",
       "      <th>Date</th>\n",
       "      <th></th>\n",
       "    </tr>\n",
       "  </thead>\n",
       "  <tbody>\n",
       "    <tr>\n",
       "      <th>2021-11-01 00:00:00</th>\n",
       "      <td>-31.68846</td>\n",
       "    </tr>\n",
       "    <tr>\n",
       "      <th>2021-11-01 00:15:00</th>\n",
       "      <td>-23.84491</td>\n",
       "    </tr>\n",
       "    <tr>\n",
       "      <th>2021-11-01 00:30:00</th>\n",
       "      <td>-23.84614</td>\n",
       "    </tr>\n",
       "    <tr>\n",
       "      <th>2021-11-01 00:45:00</th>\n",
       "      <td>-23.22135</td>\n",
       "    </tr>\n",
       "    <tr>\n",
       "      <th>2021-11-01 01:00:00</th>\n",
       "      <td>-23.84927</td>\n",
       "    </tr>\n",
       "    <tr>\n",
       "      <th>...</th>\n",
       "      <td>...</td>\n",
       "    </tr>\n",
       "    <tr>\n",
       "      <th>2022-02-27 22:45:00</th>\n",
       "      <td>-14.43517</td>\n",
       "    </tr>\n",
       "    <tr>\n",
       "      <th>2022-02-27 23:00:00</th>\n",
       "      <td>-15.37659</td>\n",
       "    </tr>\n",
       "    <tr>\n",
       "      <th>2022-02-27 23:15:00</th>\n",
       "      <td>-17.25920</td>\n",
       "    </tr>\n",
       "    <tr>\n",
       "      <th>2022-02-27 23:30:00</th>\n",
       "      <td>-17.88704</td>\n",
       "    </tr>\n",
       "    <tr>\n",
       "      <th>2022-02-27 23:45:00</th>\n",
       "      <td>-16.63182</td>\n",
       "    </tr>\n",
       "  </tbody>\n",
       "</table>\n",
       "<p>11424 rows × 1 columns</p>\n",
       "</div>"
      ],
      "text/plain": [
       "                     electric_field\n",
       "Date                               \n",
       "2021-11-01 00:00:00       -31.68846\n",
       "2021-11-01 00:15:00       -23.84491\n",
       "2021-11-01 00:30:00       -23.84614\n",
       "2021-11-01 00:45:00       -23.22135\n",
       "2021-11-01 01:00:00       -23.84927\n",
       "...                             ...\n",
       "2022-02-27 22:45:00       -14.43517\n",
       "2022-02-27 23:00:00       -15.37659\n",
       "2022-02-27 23:15:00       -17.25920\n",
       "2022-02-27 23:30:00       -17.88704\n",
       "2022-02-27 23:45:00       -16.63182\n",
       "\n",
       "[11424 rows x 1 columns]"
      ]
     },
     "execution_count": 42,
     "metadata": {},
     "output_type": "execute_result"
    }
   ],
   "source": [
    "sentech_data"
   ]
  },
  {
   "cell_type": "code",
   "execution_count": 43,
   "id": "4960aaa4",
   "metadata": {},
   "outputs": [],
   "source": [
    "size_total = int(len(sentech_data))"
   ]
  },
  {
   "cell_type": "code",
   "execution_count": 44,
   "id": "a25d8d5c",
   "metadata": {},
   "outputs": [
    {
     "name": "stdout",
     "output_type": "stream",
     "text": [
      "total data size:  11424\n"
     ]
    }
   ],
   "source": [
    "print('total data size: ', size_total)"
   ]
  },
  {
   "cell_type": "code",
   "execution_count": 48,
   "id": "53b40abc",
   "metadata": {},
   "outputs": [],
   "source": [
    "#Determine the size of 80% in total data set\n",
    "size_train = int(len(sentech_data)*0.75)"
   ]
  },
  {
   "cell_type": "code",
   "execution_count": 49,
   "id": "c569eeb7",
   "metadata": {},
   "outputs": [
    {
     "name": "stdout",
     "output_type": "stream",
     "text": [
      "total data size:  8568\n"
     ]
    }
   ],
   "source": [
    "print('total data size: ', size_train)"
   ]
  },
  {
   "cell_type": "code",
   "execution_count": 51,
   "id": "6ae96397",
   "metadata": {},
   "outputs": [],
   "source": [
    "new_df_train = sentech_data.iloc[:size_train]"
   ]
  },
  {
   "cell_type": "code",
   "execution_count": 52,
   "id": "20fd5d43",
   "metadata": {},
   "outputs": [
    {
     "data": {
      "text/html": [
       "<div>\n",
       "<style scoped>\n",
       "    .dataframe tbody tr th:only-of-type {\n",
       "        vertical-align: middle;\n",
       "    }\n",
       "\n",
       "    .dataframe tbody tr th {\n",
       "        vertical-align: top;\n",
       "    }\n",
       "\n",
       "    .dataframe thead th {\n",
       "        text-align: right;\n",
       "    }\n",
       "</style>\n",
       "<table border=\"1\" class=\"dataframe\">\n",
       "  <thead>\n",
       "    <tr style=\"text-align: right;\">\n",
       "      <th></th>\n",
       "      <th>electric_field</th>\n",
       "    </tr>\n",
       "    <tr>\n",
       "      <th>Date</th>\n",
       "      <th></th>\n",
       "    </tr>\n",
       "  </thead>\n",
       "  <tbody>\n",
       "    <tr>\n",
       "      <th>2021-11-01 00:00:00</th>\n",
       "      <td>-31.68846</td>\n",
       "    </tr>\n",
       "    <tr>\n",
       "      <th>2021-11-01 00:15:00</th>\n",
       "      <td>-23.84491</td>\n",
       "    </tr>\n",
       "    <tr>\n",
       "      <th>2021-11-01 00:30:00</th>\n",
       "      <td>-23.84614</td>\n",
       "    </tr>\n",
       "    <tr>\n",
       "      <th>2021-11-01 00:45:00</th>\n",
       "      <td>-23.22135</td>\n",
       "    </tr>\n",
       "    <tr>\n",
       "      <th>2021-11-01 01:00:00</th>\n",
       "      <td>-23.84927</td>\n",
       "    </tr>\n",
       "    <tr>\n",
       "      <th>...</th>\n",
       "      <td>...</td>\n",
       "    </tr>\n",
       "    <tr>\n",
       "      <th>2022-01-29 04:45:00</th>\n",
       "      <td>-30.43941</td>\n",
       "    </tr>\n",
       "    <tr>\n",
       "      <th>2022-01-29 05:00:00</th>\n",
       "      <td>-34.20512</td>\n",
       "    </tr>\n",
       "    <tr>\n",
       "      <th>2022-01-29 05:15:00</th>\n",
       "      <td>-34.20512</td>\n",
       "    </tr>\n",
       "    <tr>\n",
       "      <th>2022-01-29 05:30:00</th>\n",
       "      <td>-36.71558</td>\n",
       "    </tr>\n",
       "    <tr>\n",
       "      <th>2022-01-29 05:45:00</th>\n",
       "      <td>-40.47743</td>\n",
       "    </tr>\n",
       "  </tbody>\n",
       "</table>\n",
       "<p>8568 rows × 1 columns</p>\n",
       "</div>"
      ],
      "text/plain": [
       "                     electric_field\n",
       "Date                               \n",
       "2021-11-01 00:00:00       -31.68846\n",
       "2021-11-01 00:15:00       -23.84491\n",
       "2021-11-01 00:30:00       -23.84614\n",
       "2021-11-01 00:45:00       -23.22135\n",
       "2021-11-01 01:00:00       -23.84927\n",
       "...                             ...\n",
       "2022-01-29 04:45:00       -30.43941\n",
       "2022-01-29 05:00:00       -34.20512\n",
       "2022-01-29 05:15:00       -34.20512\n",
       "2022-01-29 05:30:00       -36.71558\n",
       "2022-01-29 05:45:00       -40.47743\n",
       "\n",
       "[8568 rows x 1 columns]"
      ]
     },
     "execution_count": 52,
     "metadata": {},
     "output_type": "execute_result"
    }
   ],
   "source": [
    "new_df_train"
   ]
  },
  {
   "cell_type": "code",
   "execution_count": 53,
   "id": "a09c661e",
   "metadata": {},
   "outputs": [],
   "source": [
    "#Export train set as csv file\n",
    "new_df_train.to_csv('train_dataframe.csv')"
   ]
  },
  {
   "cell_type": "code",
   "execution_count": 54,
   "id": "36873987",
   "metadata": {},
   "outputs": [],
   "source": [
    "#Determine the size of 5% in total data set\n",
    "size_validate = int(len(sentech_data)*0.05)"
   ]
  },
  {
   "cell_type": "code",
   "execution_count": 56,
   "id": "70fc338e",
   "metadata": {},
   "outputs": [],
   "source": [
    "#Determine the size of 5% in total data set\n",
    "size_test = int(len(sentech_data)*0.20)"
   ]
  },
  {
   "cell_type": "code",
   "execution_count": 57,
   "id": "3938b054",
   "metadata": {},
   "outputs": [],
   "source": [
    "new_df_validate = sentech_data.iloc[size_train:(size_train+size_validate) ]"
   ]
  },
  {
   "cell_type": "code",
   "execution_count": 58,
   "id": "c46166da",
   "metadata": {},
   "outputs": [
    {
     "data": {
      "text/html": [
       "<div>\n",
       "<style scoped>\n",
       "    .dataframe tbody tr th:only-of-type {\n",
       "        vertical-align: middle;\n",
       "    }\n",
       "\n",
       "    .dataframe tbody tr th {\n",
       "        vertical-align: top;\n",
       "    }\n",
       "\n",
       "    .dataframe thead th {\n",
       "        text-align: right;\n",
       "    }\n",
       "</style>\n",
       "<table border=\"1\" class=\"dataframe\">\n",
       "  <thead>\n",
       "    <tr style=\"text-align: right;\">\n",
       "      <th></th>\n",
       "      <th>electric_field</th>\n",
       "    </tr>\n",
       "    <tr>\n",
       "      <th>Date</th>\n",
       "      <th></th>\n",
       "    </tr>\n",
       "  </thead>\n",
       "  <tbody>\n",
       "    <tr>\n",
       "      <th>2022-01-29 06:00:00</th>\n",
       "      <td>-34.513990</td>\n",
       "    </tr>\n",
       "    <tr>\n",
       "      <th>2022-01-29 06:15:00</th>\n",
       "      <td>-32.944360</td>\n",
       "    </tr>\n",
       "    <tr>\n",
       "      <th>2022-01-29 06:30:00</th>\n",
       "      <td>-32.630570</td>\n",
       "    </tr>\n",
       "    <tr>\n",
       "      <th>2022-01-29 06:45:00</th>\n",
       "      <td>-36.081730</td>\n",
       "    </tr>\n",
       "    <tr>\n",
       "      <th>2022-01-29 07:00:00</th>\n",
       "      <td>-37.645330</td>\n",
       "    </tr>\n",
       "    <tr>\n",
       "      <th>...</th>\n",
       "      <td>...</td>\n",
       "    </tr>\n",
       "    <tr>\n",
       "      <th>2022-02-04 03:30:00</th>\n",
       "      <td>13.179710</td>\n",
       "    </tr>\n",
       "    <tr>\n",
       "      <th>2022-02-04 03:45:00</th>\n",
       "      <td>4.707116</td>\n",
       "    </tr>\n",
       "    <tr>\n",
       "      <th>2022-02-04 04:00:00</th>\n",
       "      <td>-55.230200</td>\n",
       "    </tr>\n",
       "    <tr>\n",
       "      <th>2022-02-04 04:15:00</th>\n",
       "      <td>43.305500</td>\n",
       "    </tr>\n",
       "    <tr>\n",
       "      <th>2022-02-04 04:30:00</th>\n",
       "      <td>517.783200</td>\n",
       "    </tr>\n",
       "  </tbody>\n",
       "</table>\n",
       "<p>571 rows × 1 columns</p>\n",
       "</div>"
      ],
      "text/plain": [
       "                     electric_field\n",
       "Date                               \n",
       "2022-01-29 06:00:00      -34.513990\n",
       "2022-01-29 06:15:00      -32.944360\n",
       "2022-01-29 06:30:00      -32.630570\n",
       "2022-01-29 06:45:00      -36.081730\n",
       "2022-01-29 07:00:00      -37.645330\n",
       "...                             ...\n",
       "2022-02-04 03:30:00       13.179710\n",
       "2022-02-04 03:45:00        4.707116\n",
       "2022-02-04 04:00:00      -55.230200\n",
       "2022-02-04 04:15:00       43.305500\n",
       "2022-02-04 04:30:00      517.783200\n",
       "\n",
       "[571 rows x 1 columns]"
      ]
     },
     "execution_count": 58,
     "metadata": {},
     "output_type": "execute_result"
    }
   ],
   "source": [
    "new_df_validate"
   ]
  },
  {
   "cell_type": "code",
   "execution_count": 61,
   "id": "26b89442",
   "metadata": {},
   "outputs": [],
   "source": [
    "#Export test set as csv file\n",
    "new_df_validate.to_csv('Validate_dataframe.csv')"
   ]
  },
  {
   "cell_type": "code",
   "execution_count": 62,
   "id": "592269e8",
   "metadata": {},
   "outputs": [],
   "source": [
    "new_df_test = sentech_data.iloc[(size_train+size_validate):]"
   ]
  },
  {
   "cell_type": "code",
   "execution_count": 63,
   "id": "704bf47f",
   "metadata": {},
   "outputs": [
    {
     "data": {
      "text/html": [
       "<div>\n",
       "<style scoped>\n",
       "    .dataframe tbody tr th:only-of-type {\n",
       "        vertical-align: middle;\n",
       "    }\n",
       "\n",
       "    .dataframe tbody tr th {\n",
       "        vertical-align: top;\n",
       "    }\n",
       "\n",
       "    .dataframe thead th {\n",
       "        text-align: right;\n",
       "    }\n",
       "</style>\n",
       "<table border=\"1\" class=\"dataframe\">\n",
       "  <thead>\n",
       "    <tr style=\"text-align: right;\">\n",
       "      <th></th>\n",
       "      <th>electric_field</th>\n",
       "    </tr>\n",
       "    <tr>\n",
       "      <th>Date</th>\n",
       "      <th></th>\n",
       "    </tr>\n",
       "  </thead>\n",
       "  <tbody>\n",
       "    <tr>\n",
       "      <th>2022-02-04 04:45:00</th>\n",
       "      <td>701.36080</td>\n",
       "    </tr>\n",
       "    <tr>\n",
       "      <th>2022-02-04 05:00:00</th>\n",
       "      <td>717.67880</td>\n",
       "    </tr>\n",
       "    <tr>\n",
       "      <th>2022-02-04 05:15:00</th>\n",
       "      <td>913.49500</td>\n",
       "    </tr>\n",
       "    <tr>\n",
       "      <th>2022-02-04 05:30:00</th>\n",
       "      <td>731.48640</td>\n",
       "    </tr>\n",
       "    <tr>\n",
       "      <th>2022-02-04 05:45:00</th>\n",
       "      <td>126.14330</td>\n",
       "    </tr>\n",
       "    <tr>\n",
       "      <th>...</th>\n",
       "      <td>...</td>\n",
       "    </tr>\n",
       "    <tr>\n",
       "      <th>2022-02-27 22:45:00</th>\n",
       "      <td>-14.43517</td>\n",
       "    </tr>\n",
       "    <tr>\n",
       "      <th>2022-02-27 23:00:00</th>\n",
       "      <td>-15.37659</td>\n",
       "    </tr>\n",
       "    <tr>\n",
       "      <th>2022-02-27 23:15:00</th>\n",
       "      <td>-17.25920</td>\n",
       "    </tr>\n",
       "    <tr>\n",
       "      <th>2022-02-27 23:30:00</th>\n",
       "      <td>-17.88704</td>\n",
       "    </tr>\n",
       "    <tr>\n",
       "      <th>2022-02-27 23:45:00</th>\n",
       "      <td>-16.63182</td>\n",
       "    </tr>\n",
       "  </tbody>\n",
       "</table>\n",
       "<p>2285 rows × 1 columns</p>\n",
       "</div>"
      ],
      "text/plain": [
       "                     electric_field\n",
       "Date                               \n",
       "2022-02-04 04:45:00       701.36080\n",
       "2022-02-04 05:00:00       717.67880\n",
       "2022-02-04 05:15:00       913.49500\n",
       "2022-02-04 05:30:00       731.48640\n",
       "2022-02-04 05:45:00       126.14330\n",
       "...                             ...\n",
       "2022-02-27 22:45:00       -14.43517\n",
       "2022-02-27 23:00:00       -15.37659\n",
       "2022-02-27 23:15:00       -17.25920\n",
       "2022-02-27 23:30:00       -17.88704\n",
       "2022-02-27 23:45:00       -16.63182\n",
       "\n",
       "[2285 rows x 1 columns]"
      ]
     },
     "execution_count": 63,
     "metadata": {},
     "output_type": "execute_result"
    }
   ],
   "source": [
    "new_df_test"
   ]
  },
  {
   "cell_type": "code",
   "execution_count": 64,
   "id": "43f76998",
   "metadata": {},
   "outputs": [],
   "source": [
    "#Export test set as csv file\n",
    "new_df_test.to_csv('Test_dataframe.csv')"
   ]
  },
  {
   "cell_type": "markdown",
   "id": "eac65c97",
   "metadata": {},
   "source": [
    "COrrelations"
   ]
  },
  {
   "cell_type": "code",
   "execution_count": 65,
   "id": "c1007023",
   "metadata": {},
   "outputs": [
    {
     "name": "stderr",
     "output_type": "stream",
     "text": [
      "*c* argument looks like a single numeric RGB or RGBA sequence, which should be avoided as value-mapping will have precedence in case its length matches with *x* & *y*.  Please use the *color* keyword-argument or provide a 2D array with a single row if you intend to specify the same RGB or RGBA value for all points.\n"
     ]
    },
    {
     "data": {
      "text/plain": [
       "<AxesSubplot:xlabel='y(t)', ylabel='y(t + 1)'>"
      ]
     },
     "execution_count": 65,
     "metadata": {},
     "output_type": "execute_result"
    },
    {
     "data": {
      "image/png": "[encoded data removed]",
      "text/plain": [
       "<Figure size 432x288 with 1 Axes>"
      ]
     },
     "metadata": {},
     "output_type": "display_data"
    }
   ],
   "source": [
    "# lagplot\n",
    "pd.plotting.lag_plot(new_df_train.electric_field, lag=1)"
   ]
  },
  {
   "cell_type": "code",
   "execution_count": 66,
   "id": "fad3bea4",
   "metadata": {},
   "outputs": [
    {
     "name": "stdout",
     "output_type": "stream",
     "text": [
      "            t       t+1       t+2       t+3\n",
      "t    1.000000  0.237023  0.049617  0.097518\n",
      "t+1  0.237023  1.000000  0.237023  0.049617\n",
      "t+2  0.049617  0.237023  1.000000  0.237023\n",
      "t+3  0.097518  0.049617  0.237023  1.000000\n"
     ]
    }
   ],
   "source": [
    "#Correlation Matrix\n",
    "# using shift function to shift the values.\n",
    "values= pd.DataFrame(new_df_train.electric_field)\n",
    "\n",
    "dataframe = pd.concat([values.shift(3), values.shift(2),\n",
    "                       values.shift(1), values], axis=1)\n",
    "# naming the columns\n",
    "dataframe.columns = ['t', 't+1', 't+2', 't+3']\n",
    " \n",
    "# using corr() function to compute the correlation\n",
    "result = dataframe.corr()\n",
    " \n",
    "print(result)"
   ]
  },
  {
   "cell_type": "code",
   "execution_count": 67,
   "id": "b67185e3",
   "metadata": {},
   "outputs": [
    {
     "data": {
      "image/png": "[encoded data removed]",
      "text/plain": [
       "<Figure size 432x288 with 1 Axes>"
      ]
     },
     "metadata": {},
     "output_type": "display_data"
    }
   ],
   "source": [
    "sgt.plot_acf(new_df_train.electric_field, lags= 40, zero= False)\n",
    "plt.title(\"ELectric Field ACF- direct and Indirect Correlation\", size=24)\n",
    "plt.show()"
   ]
  },
  {
   "cell_type": "code",
   "execution_count": 68,
   "id": "2cbe01e7",
   "metadata": {},
   "outputs": [
    {
     "data": {
      "image/png": "[encoded data removed]",
      "text/plain": [
       "<Figure size 432x288 with 1 Axes>"
      ]
     },
     "metadata": {},
     "output_type": "display_data"
    }
   ],
   "source": [
    "sgt.plot_pacf(new_df_train.electric_field, lags= 40, zero= False, method= ('ols'))\n",
    "plt.title(\"ELectric Field PACF- Direct Correlation\", size=24)\n",
    "plt.show()"
   ]
  },
  {
   "cell_type": "markdown",
   "id": "9a8d984a",
   "metadata": {},
   "source": [
    "AR(1) Model"
   ]
  },
  {
   "cell_type": "code",
   "execution_count": 69,
   "id": "690ae56d",
   "metadata": {},
   "outputs": [],
   "source": [
    "model_ar = ARIMA(new_df_train.electric_field, order=(1,0,0))"
   ]
  },
  {
   "cell_type": "code",
   "execution_count": 70,
   "id": "6df1c63d",
   "metadata": {},
   "outputs": [],
   "source": [
    "results_ar = model_ar.fit()"
   ]
  },
  {
   "cell_type": "code",
   "execution_count": 71,
   "id": "bc934cb4",
   "metadata": {},
   "outputs": [
    {
     "data": {
      "text/html": [
       "<table class=\"simpletable\">\n",
       "<caption>SARIMAX Results</caption>\n",
       "<tr>\n",
       "  <th>Dep. Variable:</th>    <td>electric_field</td>  <th>  No. Observations:  </th>    <td>8568</td>   \n",
       "</tr>\n",
       "<tr>\n",
       "  <th>Model:</th>            <td>ARIMA(1, 0, 0)</td>  <th>  Log Likelihood     </th> <td>-59004.787</td>\n",
       "</tr>\n",
       "<tr>\n",
       "  <th>Date:</th>            <td>Sun, 09 Oct 2022</td> <th>  AIC                </th> <td>118015.575</td>\n",
       "</tr>\n",
       "<tr>\n",
       "  <th>Time:</th>                <td>06:02:20</td>     <th>  BIC                </th> <td>118036.742</td>\n",
       "</tr>\n",
       "<tr>\n",
       "  <th>Sample:</th>             <td>11-01-2021</td>    <th>  HQIC               </th> <td>118022.795</td>\n",
       "</tr>\n",
       "<tr>\n",
       "  <th></th>                   <td>- 01-29-2022</td>   <th>                     </th>      <td> </td>    \n",
       "</tr>\n",
       "<tr>\n",
       "  <th>Covariance Type:</th>        <td>opg</td>       <th>                     </th>      <td> </td>    \n",
       "</tr>\n",
       "</table>\n",
       "<table class=\"simpletable\">\n",
       "<tr>\n",
       "     <td></td>       <th>coef</th>     <th>std err</th>      <th>z</th>      <th>P>|z|</th>  <th>[0.025</th>    <th>0.975]</th>  \n",
       "</tr>\n",
       "<tr>\n",
       "  <th>const</th>  <td>  -22.2836</td> <td>    3.487</td> <td>   -6.391</td> <td> 0.000</td> <td>  -29.117</td> <td>  -15.450</td>\n",
       "</tr>\n",
       "<tr>\n",
       "  <th>ar.L1</th>  <td>    0.2370</td> <td>    0.003</td> <td>   90.773</td> <td> 0.000</td> <td>    0.232</td> <td>    0.242</td>\n",
       "</tr>\n",
       "<tr>\n",
       "  <th>sigma2</th> <td> 5.614e+04</td> <td>  204.090</td> <td>  275.053</td> <td> 0.000</td> <td> 5.57e+04</td> <td> 5.65e+04</td>\n",
       "</tr>\n",
       "</table>\n",
       "<table class=\"simpletable\">\n",
       "<tr>\n",
       "  <th>Ljung-Box (L1) (Q):</th>     <td>0.02</td> <th>  Jarque-Bera (JB):  </th> <td>449890.88</td>\n",
       "</tr>\n",
       "<tr>\n",
       "  <th>Prob(Q):</th>                <td>0.88</td> <th>  Prob(JB):          </th>   <td>0.00</td>   \n",
       "</tr>\n",
       "<tr>\n",
       "  <th>Heteroskedasticity (H):</th> <td>0.80</td> <th>  Skew:              </th>   <td>0.95</td>   \n",
       "</tr>\n",
       "<tr>\n",
       "  <th>Prob(H) (two-sided):</th>    <td>0.00</td> <th>  Kurtosis:          </th>   <td>38.45</td>  \n",
       "</tr>\n",
       "</table><br/><br/>Warnings:<br/>[1] Covariance matrix calculated using the outer product of gradients (complex-step)."
      ],
      "text/plain": [
       "<class 'statsmodels.iolib.summary.Summary'>\n",
       "\"\"\"\n",
       "                               SARIMAX Results                                \n",
       "==============================================================================\n",
       "Dep. Variable:         electric_field   No. Observations:                 8568\n",
       "Model:                 ARIMA(1, 0, 0)   Log Likelihood              -59004.787\n",
       "Date:                Sun, 09 Oct 2022   AIC                         118015.575\n",
       "Time:                        06:02:20   BIC                         118036.742\n",
       "Sample:                    11-01-2021   HQIC                        118022.795\n",
       "                         - 01-29-2022                                         \n",
       "Covariance Type:                  opg                                         \n",
       "==============================================================================\n",
       "                 coef    std err          z      P>|z|      [0.025      0.975]\n",
       "------------------------------------------------------------------------------\n",
       "const        -22.2836      3.487     -6.391      0.000     -29.117     -15.450\n",
       "ar.L1          0.2370      0.003     90.773      0.000       0.232       0.242\n",
       "sigma2      5.614e+04    204.090    275.053      0.000    5.57e+04    5.65e+04\n",
       "===================================================================================\n",
       "Ljung-Box (L1) (Q):                   0.02   Jarque-Bera (JB):            449890.88\n",
       "Prob(Q):                              0.88   Prob(JB):                         0.00\n",
       "Heteroskedasticity (H):               0.80   Skew:                             0.95\n",
       "Prob(H) (two-sided):                  0.00   Kurtosis:                        38.45\n",
       "===================================================================================\n",
       "\n",
       "Warnings:\n",
       "[1] Covariance matrix calculated using the outer product of gradients (complex-step).\n",
       "\"\"\""
      ]
     },
     "execution_count": 71,
     "metadata": {},
     "output_type": "execute_result"
    }
   ],
   "source": [
    "results_ar.summary()"
   ]
  },
  {
   "cell_type": "code",
   "execution_count": 72,
   "id": "c7011a1b",
   "metadata": {},
   "outputs": [
    {
     "name": "stdout",
     "output_type": "stream",
     "text": [
      "First Order Model training time: 0.4378652572631836\n"
     ]
    }
   ],
   "source": [
    "#time take to fit/train the model\n",
    "start= time()\n",
    "model_fit= model_ar.fit()\n",
    "end= time()\n",
    "print('First Order Model training time:', end- start)"
   ]
  },
  {
   "cell_type": "markdown",
   "id": "c1ad794c",
   "metadata": {},
   "source": [
    "AR(10) Model"
   ]
  },
  {
   "cell_type": "code",
   "execution_count": 73,
   "id": "d4f50666",
   "metadata": {
    "scrolled": true
   },
   "outputs": [
    {
     "data": {
      "text/html": [
       "<table class=\"simpletable\">\n",
       "<caption>SARIMAX Results</caption>\n",
       "<tr>\n",
       "  <th>Dep. Variable:</th>    <td>electric_field</td>  <th>  No. Observations:  </th>    <td>8568</td>   \n",
       "</tr>\n",
       "<tr>\n",
       "  <th>Model:</th>            <td>ARIMA(10, 0, 0)</td> <th>  Log Likelihood     </th> <td>-58956.779</td>\n",
       "</tr>\n",
       "<tr>\n",
       "  <th>Date:</th>            <td>Sun, 09 Oct 2022</td> <th>  AIC                </th> <td>117937.557</td>\n",
       "</tr>\n",
       "<tr>\n",
       "  <th>Time:</th>                <td>06:02:38</td>     <th>  BIC                </th> <td>118022.227</td>\n",
       "</tr>\n",
       "<tr>\n",
       "  <th>Sample:</th>             <td>11-01-2021</td>    <th>  HQIC               </th> <td>117966.439</td>\n",
       "</tr>\n",
       "<tr>\n",
       "  <th></th>                   <td>- 01-29-2022</td>   <th>                     </th>      <td> </td>    \n",
       "</tr>\n",
       "<tr>\n",
       "  <th>Covariance Type:</th>        <td>opg</td>       <th>                     </th>      <td> </td>    \n",
       "</tr>\n",
       "</table>\n",
       "<table class=\"simpletable\">\n",
       "<tr>\n",
       "     <td></td>       <th>coef</th>     <th>std err</th>      <th>z</th>      <th>P>|z|</th>  <th>[0.025</th>    <th>0.975]</th>  \n",
       "</tr>\n",
       "<tr>\n",
       "  <th>const</th>  <td>  -22.2836</td> <td>    4.260</td> <td>   -5.231</td> <td> 0.000</td> <td>  -30.633</td> <td>  -13.935</td>\n",
       "</tr>\n",
       "<tr>\n",
       "  <th>ar.L1</th>  <td>    0.2376</td> <td>    0.003</td> <td>   87.771</td> <td> 0.000</td> <td>    0.232</td> <td>    0.243</td>\n",
       "</tr>\n",
       "<tr>\n",
       "  <th>ar.L2</th>  <td>   -0.0264</td> <td>    0.003</td> <td>   -8.502</td> <td> 0.000</td> <td>   -0.032</td> <td>   -0.020</td>\n",
       "</tr>\n",
       "<tr>\n",
       "  <th>ar.L3</th>  <td>    0.0877</td> <td>    0.003</td> <td>   26.284</td> <td> 0.000</td> <td>    0.081</td> <td>    0.094</td>\n",
       "</tr>\n",
       "<tr>\n",
       "  <th>ar.L4</th>  <td>    0.0237</td> <td>    0.004</td> <td>    6.070</td> <td> 0.000</td> <td>    0.016</td> <td>    0.031</td>\n",
       "</tr>\n",
       "<tr>\n",
       "  <th>ar.L5</th>  <td>   -0.0323</td> <td>    0.004</td> <td>   -7.957</td> <td> 0.000</td> <td>   -0.040</td> <td>   -0.024</td>\n",
       "</tr>\n",
       "<tr>\n",
       "  <th>ar.L6</th>  <td>    0.0016</td> <td>    0.005</td> <td>    0.337</td> <td> 0.736</td> <td>   -0.008</td> <td>    0.011</td>\n",
       "</tr>\n",
       "<tr>\n",
       "  <th>ar.L7</th>  <td>   -0.0012</td> <td>    0.005</td> <td>   -0.223</td> <td> 0.823</td> <td>   -0.012</td> <td>    0.009</td>\n",
       "</tr>\n",
       "<tr>\n",
       "  <th>ar.L8</th>  <td>    0.0205</td> <td>    0.005</td> <td>    3.737</td> <td> 0.000</td> <td>    0.010</td> <td>    0.031</td>\n",
       "</tr>\n",
       "<tr>\n",
       "  <th>ar.L9</th>  <td>    0.0070</td> <td>    0.006</td> <td>    1.172</td> <td> 0.241</td> <td>   -0.005</td> <td>    0.019</td>\n",
       "</tr>\n",
       "<tr>\n",
       "  <th>ar.L10</th> <td>    0.0250</td> <td>    0.006</td> <td>    3.996</td> <td> 0.000</td> <td>    0.013</td> <td>    0.037</td>\n",
       "</tr>\n",
       "<tr>\n",
       "  <th>sigma2</th> <td> 5.557e+04</td> <td>  206.535</td> <td>  269.049</td> <td> 0.000</td> <td> 5.52e+04</td> <td>  5.6e+04</td>\n",
       "</tr>\n",
       "</table>\n",
       "<table class=\"simpletable\">\n",
       "<tr>\n",
       "  <th>Ljung-Box (L1) (Q):</th>     <td>0.00</td> <th>  Jarque-Bera (JB):  </th> <td>435207.05</td>\n",
       "</tr>\n",
       "<tr>\n",
       "  <th>Prob(Q):</th>                <td>0.98</td> <th>  Prob(JB):          </th>   <td>0.00</td>   \n",
       "</tr>\n",
       "<tr>\n",
       "  <th>Heteroskedasticity (H):</th> <td>0.78</td> <th>  Skew:              </th>   <td>0.91</td>   \n",
       "</tr>\n",
       "<tr>\n",
       "  <th>Prob(H) (two-sided):</th>    <td>0.00</td> <th>  Kurtosis:          </th>   <td>37.87</td>  \n",
       "</tr>\n",
       "</table><br/><br/>Warnings:<br/>[1] Covariance matrix calculated using the outer product of gradients (complex-step)."
      ],
      "text/plain": [
       "<class 'statsmodels.iolib.summary.Summary'>\n",
       "\"\"\"\n",
       "                               SARIMAX Results                                \n",
       "==============================================================================\n",
       "Dep. Variable:         electric_field   No. Observations:                 8568\n",
       "Model:                ARIMA(10, 0, 0)   Log Likelihood              -58956.779\n",
       "Date:                Sun, 09 Oct 2022   AIC                         117937.557\n",
       "Time:                        06:02:38   BIC                         118022.227\n",
       "Sample:                    11-01-2021   HQIC                        117966.439\n",
       "                         - 01-29-2022                                         \n",
       "Covariance Type:                  opg                                         \n",
       "==============================================================================\n",
       "                 coef    std err          z      P>|z|      [0.025      0.975]\n",
       "------------------------------------------------------------------------------\n",
       "const        -22.2836      4.260     -5.231      0.000     -30.633     -13.935\n",
       "ar.L1          0.2376      0.003     87.771      0.000       0.232       0.243\n",
       "ar.L2         -0.0264      0.003     -8.502      0.000      -0.032      -0.020\n",
       "ar.L3          0.0877      0.003     26.284      0.000       0.081       0.094\n",
       "ar.L4          0.0237      0.004      6.070      0.000       0.016       0.031\n",
       "ar.L5         -0.0323      0.004     -7.957      0.000      -0.040      -0.024\n",
       "ar.L6          0.0016      0.005      0.337      0.736      -0.008       0.011\n",
       "ar.L7         -0.0012      0.005     -0.223      0.823      -0.012       0.009\n",
       "ar.L8          0.0205      0.005      3.737      0.000       0.010       0.031\n",
       "ar.L9          0.0070      0.006      1.172      0.241      -0.005       0.019\n",
       "ar.L10         0.0250      0.006      3.996      0.000       0.013       0.037\n",
       "sigma2      5.557e+04    206.535    269.049      0.000    5.52e+04     5.6e+04\n",
       "===================================================================================\n",
       "Ljung-Box (L1) (Q):                   0.00   Jarque-Bera (JB):            435207.05\n",
       "Prob(Q):                              0.98   Prob(JB):                         0.00\n",
       "Heteroskedasticity (H):               0.78   Skew:                             0.91\n",
       "Prob(H) (two-sided):                  0.00   Kurtosis:                        37.87\n",
       "===================================================================================\n",
       "\n",
       "Warnings:\n",
       "[1] Covariance matrix calculated using the outer product of gradients (complex-step).\n",
       "\"\"\""
      ]
     },
     "execution_count": 73,
     "metadata": {},
     "output_type": "execute_result"
    }
   ],
   "source": [
    "model_ar_10 = ARIMA(new_df_train.electric_field, order=(10,0,0))\n",
    "results_ar_10 = model_ar_10.fit()\n",
    "results_ar_10.summary()"
   ]
  },
  {
   "cell_type": "code",
   "execution_count": 74,
   "id": "95c8107b",
   "metadata": {},
   "outputs": [
    {
     "name": "stdout",
     "output_type": "stream",
     "text": [
      "10 order Model training time: 2.565514326095581\n"
     ]
    }
   ],
   "source": [
    "#time take to fit/train the model\n",
    "start= time()\n",
    "model_fit_10= model_ar_10.fit()\n",
    "end= time()\n",
    "print('10 order Model training time:', end- start)"
   ]
  },
  {
   "cell_type": "markdown",
   "id": "80eb2eea",
   "metadata": {},
   "source": [
    "LRR Test"
   ]
  },
  {
   "cell_type": "code",
   "execution_count": 75,
   "id": "fa1522a0",
   "metadata": {},
   "outputs": [],
   "source": [
    "def LLR_test(mod_1, mod_10, DF=1):\n",
    "    L1 = mod_1.fit().llf\n",
    "    L2 = mod_10.fit().llf\n",
    "    LR = (2*(L2-L1))\n",
    "    p = chi2.sf(LR, DF).round(3)\n",
    "    return p"
   ]
  },
  {
   "cell_type": "code",
   "execution_count": 76,
   "id": "1c258a0b",
   "metadata": {},
   "outputs": [
    {
     "data": {
      "text/plain": [
       "0.0"
      ]
     },
     "execution_count": 76,
     "metadata": {},
     "output_type": "execute_result"
    }
   ],
   "source": [
    "LLR_test(model_ar, model_ar_10)"
   ]
  },
  {
   "cell_type": "markdown",
   "id": "d96776f0",
   "metadata": {},
   "source": [
    "DF Test"
   ]
  },
  {
   "cell_type": "code",
   "execution_count": 77,
   "id": "bd2d6f47",
   "metadata": {},
   "outputs": [
    {
     "data": {
      "text/plain": [
       "(-20.50564738623462,\n",
       " 0.0,\n",
       " 17,\n",
       " 8550,\n",
       " {'1%': -3.4311150601592337,\n",
       "  '5%': -2.861878104766363,\n",
       "  '10%': -2.56694996825006},\n",
       " 117440.89778100357)"
      ]
     },
     "execution_count": 77,
     "metadata": {},
     "output_type": "execute_result"
    }
   ],
   "source": [
    "sts.adfuller(new_df_train.electric_field)"
   ]
  },
  {
   "cell_type": "markdown",
   "id": "50b7b417",
   "metadata": {},
   "source": [
    "Normalization"
   ]
  },
  {
   "cell_type": "code",
   "execution_count": 78,
   "id": "3e7413ec",
   "metadata": {},
   "outputs": [],
   "source": [
    "benchmark = new_df_train.electric_field.iloc[0]"
   ]
  },
  {
   "cell_type": "code",
   "execution_count": 82,
   "id": "572859b7",
   "metadata": {},
   "outputs": [
    {
     "data": {
      "text/plain": [
       "Date\n",
       "2021-11-01 00:00:00   -31.68846\n",
       "2021-11-01 00:15:00   -23.84491\n",
       "2021-11-01 00:30:00   -23.84614\n",
       "2021-11-01 00:45:00   -23.22135\n",
       "2021-11-01 01:00:00   -23.84927\n",
       "                         ...   \n",
       "2022-01-29 04:45:00   -30.43941\n",
       "2022-01-29 05:00:00   -34.20512\n",
       "2022-01-29 05:15:00   -34.20512\n",
       "2022-01-29 05:30:00   -36.71558\n",
       "2022-01-29 05:45:00   -40.47743\n",
       "Freq: 900S, Name: electric_field, Length: 8568, dtype: float64"
      ]
     },
     "execution_count": 82,
     "metadata": {},
     "output_type": "execute_result"
    }
   ],
   "source": [
    "new_df_train.electric_field"
   ]
  },
  {
   "cell_type": "code",
   "execution_count": 79,
   "id": "5fd4badf",
   "metadata": {},
   "outputs": [
    {
     "name": "stderr",
     "output_type": "stream",
     "text": [
      "C:\\Users\\Oratile\\AppData\\Local\\Temp\\ipykernel_516\\325599701.py:1: SettingWithCopyWarning: \n",
      "A value is trying to be set on a copy of a slice from a DataFrame.\n",
      "Try using .loc[row_indexer,col_indexer] = value instead\n",
      "\n",
      "See the caveats in the documentation: https://pandas.pydata.org/pandas-docs/stable/user_guide/indexing.html#returning-a-view-versus-a-copy\n",
      "  new_df_train['norm'] =new_df_train.electric_field.div(benchmark).mul(100)\n"
     ]
    }
   ],
   "source": [
    "new_df_train['norm'] =new_df_train.electric_field.div(benchmark).mul(100)"
   ]
  },
  {
   "cell_type": "code",
   "execution_count": 80,
   "id": "3b2d9ac1",
   "metadata": {},
   "outputs": [
    {
     "data": {
      "text/plain": [
       "(-20.50564738623458,\n",
       " 0.0,\n",
       " 17,\n",
       " 8550,\n",
       " {'1%': -3.4311150601592337,\n",
       "  '5%': -2.861878104766363,\n",
       "  '10%': -2.56694996825006},\n",
       " 137046.55019459722)"
      ]
     },
     "execution_count": 80,
     "metadata": {},
     "output_type": "execute_result"
    }
   ],
   "source": [
    "sts.adfuller(new_df_train.norm)"
   ]
  },
  {
   "cell_type": "code",
   "execution_count": 81,
   "id": "d461c70e",
   "metadata": {},
   "outputs": [
    {
     "data": {
      "text/plain": [
       "Date\n",
       "2021-11-01 00:00:00    100.000000\n",
       "2021-11-01 00:15:00     75.247929\n",
       "2021-11-01 00:30:00     75.251811\n",
       "2021-11-01 00:45:00     73.280147\n",
       "2021-11-01 01:00:00     75.261688\n",
       "                          ...    \n",
       "2022-01-29 04:45:00     96.058344\n",
       "2022-01-29 05:00:00    107.941882\n",
       "2022-01-29 05:15:00    107.941882\n",
       "2022-01-29 05:30:00    115.864198\n",
       "2022-01-29 05:45:00    127.735554\n",
       "Freq: 900S, Name: norm, Length: 8568, dtype: float64"
      ]
     },
     "execution_count": 81,
     "metadata": {},
     "output_type": "execute_result"
    }
   ],
   "source": [
    "new_df_train.norm"
   ]
  },
  {
   "cell_type": "markdown",
   "id": "d33ddbed",
   "metadata": {},
   "source": [
    "Analysing the Erorrs (Model Evaluation)"
   ]
  },
  {
   "cell_type": "code",
   "execution_count": 84,
   "id": "5c15e7ce",
   "metadata": {
    "scrolled": true
   },
   "outputs": [
    {
     "name": "stderr",
     "output_type": "stream",
     "text": [
      "C:\\Users\\Oratile\\AppData\\Local\\Temp\\ipykernel_516\\3707546634.py:2: SettingWithCopyWarning: \n",
      "A value is trying to be set on a copy of a slice from a DataFrame.\n",
      "Try using .loc[row_indexer,col_indexer] = value instead\n",
      "\n",
      "See the caveats in the documentation: https://pandas.pydata.org/pandas-docs/stable/user_guide/indexing.html#returning-a-view-versus-a-copy\n",
      "  new_df_train['residual_Efield'] = results_ar.resid\n"
     ]
    }
   ],
   "source": [
    "#.resid calls residual function of returned/trained model\n",
    "new_df_train['residual_Efield'] = results_ar.resid"
   ]
  },
  {
   "cell_type": "code",
   "execution_count": 93,
   "id": "af761e33",
   "metadata": {},
   "outputs": [],
   "source": [
    "#Export trained model as csv file\n",
    "new_df_train.to_csv('AR_model_dataframe.csv')"
   ]
  },
  {
   "cell_type": "code",
   "execution_count": 94,
   "id": "bd53ce44",
   "metadata": {},
   "outputs": [],
   "source": [
    "#Now get the prediction (test) start date and end date\n",
    "pred_start_date= new_df_test.index[0]\n",
    "pred_end_date= new_df_test.index[-1]"
   ]
  },
  {
   "cell_type": "code",
   "execution_count": 95,
   "id": "a8196435",
   "metadata": {},
   "outputs": [],
   "source": [
    "#Get the predictions and the residuals\n",
    "predictions= model_fit.predict(start =pred_start_date, end= pred_end_date )"
   ]
  },
  {
   "cell_type": "code",
   "execution_count": 97,
   "id": "ce3fb392",
   "metadata": {},
   "outputs": [
    {
     "name": "stderr",
     "output_type": "stream",
     "text": [
      "C:\\Users\\Oratile\\AppData\\Local\\Temp\\ipykernel_516\\1947355127.py:1: SettingWithCopyWarning: \n",
      "A value is trying to be set on a copy of a slice from a DataFrame.\n",
      "Try using .loc[row_indexer,col_indexer] = value instead\n",
      "\n",
      "See the caveats in the documentation: https://pandas.pydata.org/pandas-docs/stable/user_guide/indexing.html#returning-a-view-versus-a-copy\n",
      "  new_df_test['predictions'] = predictions\n"
     ]
    }
   ],
   "source": [
    "new_df_test['predictions'] = predictions"
   ]
  },
  {
   "cell_type": "code",
   "execution_count": 96,
   "id": "c08a24b1",
   "metadata": {},
   "outputs": [
    {
     "data": {
      "text/plain": [
       "2022-02-04 04:45:00   -22.283644\n",
       "2022-02-04 05:00:00   -22.283644\n",
       "2022-02-04 05:15:00   -22.283644\n",
       "2022-02-04 05:30:00   -22.283644\n",
       "2022-02-04 05:45:00   -22.283644\n",
       "                         ...    \n",
       "2022-02-27 22:45:00   -22.283644\n",
       "2022-02-27 23:00:00   -22.283644\n",
       "2022-02-27 23:15:00   -22.283644\n",
       "2022-02-27 23:30:00   -22.283644\n",
       "2022-02-27 23:45:00   -22.283644\n",
       "Freq: 900S, Name: predicted_mean, Length: 2285, dtype: float64"
      ]
     },
     "execution_count": 96,
     "metadata": {},
     "output_type": "execute_result"
    }
   ],
   "source": [
    "predictions"
   ]
  },
  {
   "cell_type": "code",
   "execution_count": 182,
   "id": "06b58d6e",
   "metadata": {},
   "outputs": [
    {
     "data": {
      "text/html": [
       "<div>\n",
       "<style scoped>\n",
       "    .dataframe tbody tr th:only-of-type {\n",
       "        vertical-align: middle;\n",
       "    }\n",
       "\n",
       "    .dataframe tbody tr th {\n",
       "        vertical-align: top;\n",
       "    }\n",
       "\n",
       "    .dataframe thead th {\n",
       "        text-align: right;\n",
       "    }\n",
       "</style>\n",
       "<table border=\"1\" class=\"dataframe\">\n",
       "  <thead>\n",
       "    <tr style=\"text-align: right;\">\n",
       "      <th></th>\n",
       "      <th>electric_field</th>\n",
       "    </tr>\n",
       "    <tr>\n",
       "      <th>Date</th>\n",
       "      <th></th>\n",
       "    </tr>\n",
       "  </thead>\n",
       "  <tbody>\n",
       "    <tr>\n",
       "      <th>2022-02-04 04:45:00</th>\n",
       "      <td>701.36080</td>\n",
       "    </tr>\n",
       "    <tr>\n",
       "      <th>2022-02-04 05:00:00</th>\n",
       "      <td>717.67880</td>\n",
       "    </tr>\n",
       "    <tr>\n",
       "      <th>2022-02-04 05:15:00</th>\n",
       "      <td>913.49500</td>\n",
       "    </tr>\n",
       "    <tr>\n",
       "      <th>2022-02-04 05:30:00</th>\n",
       "      <td>731.48640</td>\n",
       "    </tr>\n",
       "    <tr>\n",
       "      <th>2022-02-04 05:45:00</th>\n",
       "      <td>126.14330</td>\n",
       "    </tr>\n",
       "    <tr>\n",
       "      <th>...</th>\n",
       "      <td>...</td>\n",
       "    </tr>\n",
       "    <tr>\n",
       "      <th>2022-02-27 22:45:00</th>\n",
       "      <td>-14.43517</td>\n",
       "    </tr>\n",
       "    <tr>\n",
       "      <th>2022-02-27 23:00:00</th>\n",
       "      <td>-15.37659</td>\n",
       "    </tr>\n",
       "    <tr>\n",
       "      <th>2022-02-27 23:15:00</th>\n",
       "      <td>-17.25920</td>\n",
       "    </tr>\n",
       "    <tr>\n",
       "      <th>2022-02-27 23:30:00</th>\n",
       "      <td>-17.88704</td>\n",
       "    </tr>\n",
       "    <tr>\n",
       "      <th>2022-02-27 23:45:00</th>\n",
       "      <td>-16.63182</td>\n",
       "    </tr>\n",
       "  </tbody>\n",
       "</table>\n",
       "<p>2285 rows × 1 columns</p>\n",
       "</div>"
      ],
      "text/plain": [
       "                     electric_field\n",
       "Date                               \n",
       "2022-02-04 04:45:00       701.36080\n",
       "2022-02-04 05:00:00       717.67880\n",
       "2022-02-04 05:15:00       913.49500\n",
       "2022-02-04 05:30:00       731.48640\n",
       "2022-02-04 05:45:00       126.14330\n",
       "...                             ...\n",
       "2022-02-27 22:45:00       -14.43517\n",
       "2022-02-27 23:00:00       -15.37659\n",
       "2022-02-27 23:15:00       -17.25920\n",
       "2022-02-27 23:30:00       -17.88704\n",
       "2022-02-27 23:45:00       -16.63182\n",
       "\n",
       "[2285 rows x 1 columns]"
      ]
     },
     "execution_count": 182,
     "metadata": {},
     "output_type": "execute_result"
    }
   ],
   "source": [
    "new_df_test"
   ]
  },
  {
   "cell_type": "code",
   "execution_count": 188,
   "id": "d5a7f29b",
   "metadata": {},
   "outputs": [],
   "source": [
    "residuals_manual= new_df_test- predictions"
   ]
  },
  {
   "cell_type": "code",
   "execution_count": 189,
   "id": "f8ed0893",
   "metadata": {},
   "outputs": [
    {
     "data": {
      "text/html": [
       "<div>\n",
       "<style scoped>\n",
       "    .dataframe tbody tr th:only-of-type {\n",
       "        vertical-align: middle;\n",
       "    }\n",
       "\n",
       "    .dataframe tbody tr th {\n",
       "        vertical-align: top;\n",
       "    }\n",
       "\n",
       "    .dataframe thead th {\n",
       "        text-align: right;\n",
       "    }\n",
       "</style>\n",
       "<table border=\"1\" class=\"dataframe\">\n",
       "  <thead>\n",
       "    <tr style=\"text-align: right;\">\n",
       "      <th></th>\n",
       "      <th>2022-02-04 04:45:00</th>\n",
       "      <th>2022-02-04 05:00:00</th>\n",
       "      <th>2022-02-04 05:15:00</th>\n",
       "      <th>2022-02-04 05:30:00</th>\n",
       "      <th>2022-02-04 05:45:00</th>\n",
       "      <th>2022-02-04 06:00:00</th>\n",
       "      <th>2022-02-04 06:15:00</th>\n",
       "      <th>2022-02-04 06:30:00</th>\n",
       "      <th>2022-02-04 06:45:00</th>\n",
       "      <th>2022-02-04 07:00:00</th>\n",
       "      <th>...</th>\n",
       "      <th>2022-02-27 21:45:00</th>\n",
       "      <th>2022-02-27 22:00:00</th>\n",
       "      <th>2022-02-27 22:15:00</th>\n",
       "      <th>2022-02-27 22:30:00</th>\n",
       "      <th>2022-02-27 22:45:00</th>\n",
       "      <th>2022-02-27 23:00:00</th>\n",
       "      <th>2022-02-27 23:15:00</th>\n",
       "      <th>2022-02-27 23:30:00</th>\n",
       "      <th>2022-02-27 23:45:00</th>\n",
       "      <th>electric_field</th>\n",
       "    </tr>\n",
       "    <tr>\n",
       "      <th>Date</th>\n",
       "      <th></th>\n",
       "      <th></th>\n",
       "      <th></th>\n",
       "      <th></th>\n",
       "      <th></th>\n",
       "      <th></th>\n",
       "      <th></th>\n",
       "      <th></th>\n",
       "      <th></th>\n",
       "      <th></th>\n",
       "      <th></th>\n",
       "      <th></th>\n",
       "      <th></th>\n",
       "      <th></th>\n",
       "      <th></th>\n",
       "      <th></th>\n",
       "      <th></th>\n",
       "      <th></th>\n",
       "      <th></th>\n",
       "      <th></th>\n",
       "      <th></th>\n",
       "    </tr>\n",
       "  </thead>\n",
       "  <tbody>\n",
       "    <tr>\n",
       "      <th>2022-02-04 04:45:00</th>\n",
       "      <td>NaN</td>\n",
       "      <td>NaN</td>\n",
       "      <td>NaN</td>\n",
       "      <td>NaN</td>\n",
       "      <td>NaN</td>\n",
       "      <td>NaN</td>\n",
       "      <td>NaN</td>\n",
       "      <td>NaN</td>\n",
       "      <td>NaN</td>\n",
       "      <td>NaN</td>\n",
       "      <td>...</td>\n",
       "      <td>NaN</td>\n",
       "      <td>NaN</td>\n",
       "      <td>NaN</td>\n",
       "      <td>NaN</td>\n",
       "      <td>NaN</td>\n",
       "      <td>NaN</td>\n",
       "      <td>NaN</td>\n",
       "      <td>NaN</td>\n",
       "      <td>NaN</td>\n",
       "      <td>NaN</td>\n",
       "    </tr>\n",
       "    <tr>\n",
       "      <th>2022-02-04 05:00:00</th>\n",
       "      <td>NaN</td>\n",
       "      <td>NaN</td>\n",
       "      <td>NaN</td>\n",
       "      <td>NaN</td>\n",
       "      <td>NaN</td>\n",
       "      <td>NaN</td>\n",
       "      <td>NaN</td>\n",
       "      <td>NaN</td>\n",
       "      <td>NaN</td>\n",
       "      <td>NaN</td>\n",
       "      <td>...</td>\n",
       "      <td>NaN</td>\n",
       "      <td>NaN</td>\n",
       "      <td>NaN</td>\n",
       "      <td>NaN</td>\n",
       "      <td>NaN</td>\n",
       "      <td>NaN</td>\n",
       "      <td>NaN</td>\n",
       "      <td>NaN</td>\n",
       "      <td>NaN</td>\n",
       "      <td>NaN</td>\n",
       "    </tr>\n",
       "    <tr>\n",
       "      <th>2022-02-04 05:15:00</th>\n",
       "      <td>NaN</td>\n",
       "      <td>NaN</td>\n",
       "      <td>NaN</td>\n",
       "      <td>NaN</td>\n",
       "      <td>NaN</td>\n",
       "      <td>NaN</td>\n",
       "      <td>NaN</td>\n",
       "      <td>NaN</td>\n",
       "      <td>NaN</td>\n",
       "      <td>NaN</td>\n",
       "      <td>...</td>\n",
       "      <td>NaN</td>\n",
       "      <td>NaN</td>\n",
       "      <td>NaN</td>\n",
       "      <td>NaN</td>\n",
       "      <td>NaN</td>\n",
       "      <td>NaN</td>\n",
       "      <td>NaN</td>\n",
       "      <td>NaN</td>\n",
       "      <td>NaN</td>\n",
       "      <td>NaN</td>\n",
       "    </tr>\n",
       "    <tr>\n",
       "      <th>2022-02-04 05:30:00</th>\n",
       "      <td>NaN</td>\n",
       "      <td>NaN</td>\n",
       "      <td>NaN</td>\n",
       "      <td>NaN</td>\n",
       "      <td>NaN</td>\n",
       "      <td>NaN</td>\n",
       "      <td>NaN</td>\n",
       "      <td>NaN</td>\n",
       "      <td>NaN</td>\n",
       "      <td>NaN</td>\n",
       "      <td>...</td>\n",
       "      <td>NaN</td>\n",
       "      <td>NaN</td>\n",
       "      <td>NaN</td>\n",
       "      <td>NaN</td>\n",
       "      <td>NaN</td>\n",
       "      <td>NaN</td>\n",
       "      <td>NaN</td>\n",
       "      <td>NaN</td>\n",
       "      <td>NaN</td>\n",
       "      <td>NaN</td>\n",
       "    </tr>\n",
       "    <tr>\n",
       "      <th>2022-02-04 05:45:00</th>\n",
       "      <td>NaN</td>\n",
       "      <td>NaN</td>\n",
       "      <td>NaN</td>\n",
       "      <td>NaN</td>\n",
       "      <td>NaN</td>\n",
       "      <td>NaN</td>\n",
       "      <td>NaN</td>\n",
       "      <td>NaN</td>\n",
       "      <td>NaN</td>\n",
       "      <td>NaN</td>\n",
       "      <td>...</td>\n",
       "      <td>NaN</td>\n",
       "      <td>NaN</td>\n",
       "      <td>NaN</td>\n",
       "      <td>NaN</td>\n",
       "      <td>NaN</td>\n",
       "      <td>NaN</td>\n",
       "      <td>NaN</td>\n",
       "      <td>NaN</td>\n",
       "      <td>NaN</td>\n",
       "      <td>NaN</td>\n",
       "    </tr>\n",
       "    <tr>\n",
       "      <th>...</th>\n",
       "      <td>...</td>\n",
       "      <td>...</td>\n",
       "      <td>...</td>\n",
       "      <td>...</td>\n",
       "      <td>...</td>\n",
       "      <td>...</td>\n",
       "      <td>...</td>\n",
       "      <td>...</td>\n",
       "      <td>...</td>\n",
       "      <td>...</td>\n",
       "      <td>...</td>\n",
       "      <td>...</td>\n",
       "      <td>...</td>\n",
       "      <td>...</td>\n",
       "      <td>...</td>\n",
       "      <td>...</td>\n",
       "      <td>...</td>\n",
       "      <td>...</td>\n",
       "      <td>...</td>\n",
       "      <td>...</td>\n",
       "      <td>...</td>\n",
       "    </tr>\n",
       "    <tr>\n",
       "      <th>2022-02-27 22:45:00</th>\n",
       "      <td>NaN</td>\n",
       "      <td>NaN</td>\n",
       "      <td>NaN</td>\n",
       "      <td>NaN</td>\n",
       "      <td>NaN</td>\n",
       "      <td>NaN</td>\n",
       "      <td>NaN</td>\n",
       "      <td>NaN</td>\n",
       "      <td>NaN</td>\n",
       "      <td>NaN</td>\n",
       "      <td>...</td>\n",
       "      <td>NaN</td>\n",
       "      <td>NaN</td>\n",
       "      <td>NaN</td>\n",
       "      <td>NaN</td>\n",
       "      <td>NaN</td>\n",
       "      <td>NaN</td>\n",
       "      <td>NaN</td>\n",
       "      <td>NaN</td>\n",
       "      <td>NaN</td>\n",
       "      <td>NaN</td>\n",
       "    </tr>\n",
       "    <tr>\n",
       "      <th>2022-02-27 23:00:00</th>\n",
       "      <td>NaN</td>\n",
       "      <td>NaN</td>\n",
       "      <td>NaN</td>\n",
       "      <td>NaN</td>\n",
       "      <td>NaN</td>\n",
       "      <td>NaN</td>\n",
       "      <td>NaN</td>\n",
       "      <td>NaN</td>\n",
       "      <td>NaN</td>\n",
       "      <td>NaN</td>\n",
       "      <td>...</td>\n",
       "      <td>NaN</td>\n",
       "      <td>NaN</td>\n",
       "      <td>NaN</td>\n",
       "      <td>NaN</td>\n",
       "      <td>NaN</td>\n",
       "      <td>NaN</td>\n",
       "      <td>NaN</td>\n",
       "      <td>NaN</td>\n",
       "      <td>NaN</td>\n",
       "      <td>NaN</td>\n",
       "    </tr>\n",
       "    <tr>\n",
       "      <th>2022-02-27 23:15:00</th>\n",
       "      <td>NaN</td>\n",
       "      <td>NaN</td>\n",
       "      <td>NaN</td>\n",
       "      <td>NaN</td>\n",
       "      <td>NaN</td>\n",
       "      <td>NaN</td>\n",
       "      <td>NaN</td>\n",
       "      <td>NaN</td>\n",
       "      <td>NaN</td>\n",
       "      <td>NaN</td>\n",
       "      <td>...</td>\n",
       "      <td>NaN</td>\n",
       "      <td>NaN</td>\n",
       "      <td>NaN</td>\n",
       "      <td>NaN</td>\n",
       "      <td>NaN</td>\n",
       "      <td>NaN</td>\n",
       "      <td>NaN</td>\n",
       "      <td>NaN</td>\n",
       "      <td>NaN</td>\n",
       "      <td>NaN</td>\n",
       "    </tr>\n",
       "    <tr>\n",
       "      <th>2022-02-27 23:30:00</th>\n",
       "      <td>NaN</td>\n",
       "      <td>NaN</td>\n",
       "      <td>NaN</td>\n",
       "      <td>NaN</td>\n",
       "      <td>NaN</td>\n",
       "      <td>NaN</td>\n",
       "      <td>NaN</td>\n",
       "      <td>NaN</td>\n",
       "      <td>NaN</td>\n",
       "      <td>NaN</td>\n",
       "      <td>...</td>\n",
       "      <td>NaN</td>\n",
       "      <td>NaN</td>\n",
       "      <td>NaN</td>\n",
       "      <td>NaN</td>\n",
       "      <td>NaN</td>\n",
       "      <td>NaN</td>\n",
       "      <td>NaN</td>\n",
       "      <td>NaN</td>\n",
       "      <td>NaN</td>\n",
       "      <td>NaN</td>\n",
       "    </tr>\n",
       "    <tr>\n",
       "      <th>2022-02-27 23:45:00</th>\n",
       "      <td>NaN</td>\n",
       "      <td>NaN</td>\n",
       "      <td>NaN</td>\n",
       "      <td>NaN</td>\n",
       "      <td>NaN</td>\n",
       "      <td>NaN</td>\n",
       "      <td>NaN</td>\n",
       "      <td>NaN</td>\n",
       "      <td>NaN</td>\n",
       "      <td>NaN</td>\n",
       "      <td>...</td>\n",
       "      <td>NaN</td>\n",
       "      <td>NaN</td>\n",
       "      <td>NaN</td>\n",
       "      <td>NaN</td>\n",
       "      <td>NaN</td>\n",
       "      <td>NaN</td>\n",
       "      <td>NaN</td>\n",
       "      <td>NaN</td>\n",
       "      <td>NaN</td>\n",
       "      <td>NaN</td>\n",
       "    </tr>\n",
       "  </tbody>\n",
       "</table>\n",
       "<p>2285 rows × 2286 columns</p>\n",
       "</div>"
      ],
      "text/plain": [
       "                     2022-02-04 04:45:00  2022-02-04 05:00:00  \\\n",
       "Date                                                            \n",
       "2022-02-04 04:45:00                  NaN                  NaN   \n",
       "2022-02-04 05:00:00                  NaN                  NaN   \n",
       "2022-02-04 05:15:00                  NaN                  NaN   \n",
       "2022-02-04 05:30:00                  NaN                  NaN   \n",
       "2022-02-04 05:45:00                  NaN                  NaN   \n",
       "...                                  ...                  ...   \n",
       "2022-02-27 22:45:00                  NaN                  NaN   \n",
       "2022-02-27 23:00:00                  NaN                  NaN   \n",
       "2022-02-27 23:15:00                  NaN                  NaN   \n",
       "2022-02-27 23:30:00                  NaN                  NaN   \n",
       "2022-02-27 23:45:00                  NaN                  NaN   \n",
       "\n",
       "                     2022-02-04 05:15:00  2022-02-04 05:30:00  \\\n",
       "Date                                                            \n",
       "2022-02-04 04:45:00                  NaN                  NaN   \n",
       "2022-02-04 05:00:00                  NaN                  NaN   \n",
       "2022-02-04 05:15:00                  NaN                  NaN   \n",
       "2022-02-04 05:30:00                  NaN                  NaN   \n",
       "2022-02-04 05:45:00                  NaN                  NaN   \n",
       "...                                  ...                  ...   \n",
       "2022-02-27 22:45:00                  NaN                  NaN   \n",
       "2022-02-27 23:00:00                  NaN                  NaN   \n",
       "2022-02-27 23:15:00                  NaN                  NaN   \n",
       "2022-02-27 23:30:00                  NaN                  NaN   \n",
       "2022-02-27 23:45:00                  NaN                  NaN   \n",
       "\n",
       "                     2022-02-04 05:45:00  2022-02-04 06:00:00  \\\n",
       "Date                                                            \n",
       "2022-02-04 04:45:00                  NaN                  NaN   \n",
       "2022-02-04 05:00:00                  NaN                  NaN   \n",
       "2022-02-04 05:15:00                  NaN                  NaN   \n",
       "2022-02-04 05:30:00                  NaN                  NaN   \n",
       "2022-02-04 05:45:00                  NaN                  NaN   \n",
       "...                                  ...                  ...   \n",
       "2022-02-27 22:45:00                  NaN                  NaN   \n",
       "2022-02-27 23:00:00                  NaN                  NaN   \n",
       "2022-02-27 23:15:00                  NaN                  NaN   \n",
       "2022-02-27 23:30:00                  NaN                  NaN   \n",
       "2022-02-27 23:45:00                  NaN                  NaN   \n",
       "\n",
       "                     2022-02-04 06:15:00  2022-02-04 06:30:00  \\\n",
       "Date                                                            \n",
       "2022-02-04 04:45:00                  NaN                  NaN   \n",
       "2022-02-04 05:00:00                  NaN                  NaN   \n",
       "2022-02-04 05:15:00                  NaN                  NaN   \n",
       "2022-02-04 05:30:00                  NaN                  NaN   \n",
       "2022-02-04 05:45:00                  NaN                  NaN   \n",
       "...                                  ...                  ...   \n",
       "2022-02-27 22:45:00                  NaN                  NaN   \n",
       "2022-02-27 23:00:00                  NaN                  NaN   \n",
       "2022-02-27 23:15:00                  NaN                  NaN   \n",
       "2022-02-27 23:30:00                  NaN                  NaN   \n",
       "2022-02-27 23:45:00                  NaN                  NaN   \n",
       "\n",
       "                     2022-02-04 06:45:00  2022-02-04 07:00:00  ...  \\\n",
       "Date                                                           ...   \n",
       "2022-02-04 04:45:00                  NaN                  NaN  ...   \n",
       "2022-02-04 05:00:00                  NaN                  NaN  ...   \n",
       "2022-02-04 05:15:00                  NaN                  NaN  ...   \n",
       "2022-02-04 05:30:00                  NaN                  NaN  ...   \n",
       "2022-02-04 05:45:00                  NaN                  NaN  ...   \n",
       "...                                  ...                  ...  ...   \n",
       "2022-02-27 22:45:00                  NaN                  NaN  ...   \n",
       "2022-02-27 23:00:00                  NaN                  NaN  ...   \n",
       "2022-02-27 23:15:00                  NaN                  NaN  ...   \n",
       "2022-02-27 23:30:00                  NaN                  NaN  ...   \n",
       "2022-02-27 23:45:00                  NaN                  NaN  ...   \n",
       "\n",
       "                     2022-02-27 21:45:00  2022-02-27 22:00:00  \\\n",
       "Date                                                            \n",
       "2022-02-04 04:45:00                  NaN                  NaN   \n",
       "2022-02-04 05:00:00                  NaN                  NaN   \n",
       "2022-02-04 05:15:00                  NaN                  NaN   \n",
       "2022-02-04 05:30:00                  NaN                  NaN   \n",
       "2022-02-04 05:45:00                  NaN                  NaN   \n",
       "...                                  ...                  ...   \n",
       "2022-02-27 22:45:00                  NaN                  NaN   \n",
       "2022-02-27 23:00:00                  NaN                  NaN   \n",
       "2022-02-27 23:15:00                  NaN                  NaN   \n",
       "2022-02-27 23:30:00                  NaN                  NaN   \n",
       "2022-02-27 23:45:00                  NaN                  NaN   \n",
       "\n",
       "                     2022-02-27 22:15:00  2022-02-27 22:30:00  \\\n",
       "Date                                                            \n",
       "2022-02-04 04:45:00                  NaN                  NaN   \n",
       "2022-02-04 05:00:00                  NaN                  NaN   \n",
       "2022-02-04 05:15:00                  NaN                  NaN   \n",
       "2022-02-04 05:30:00                  NaN                  NaN   \n",
       "2022-02-04 05:45:00                  NaN                  NaN   \n",
       "...                                  ...                  ...   \n",
       "2022-02-27 22:45:00                  NaN                  NaN   \n",
       "2022-02-27 23:00:00                  NaN                  NaN   \n",
       "2022-02-27 23:15:00                  NaN                  NaN   \n",
       "2022-02-27 23:30:00                  NaN                  NaN   \n",
       "2022-02-27 23:45:00                  NaN                  NaN   \n",
       "\n",
       "                     2022-02-27 22:45:00  2022-02-27 23:00:00  \\\n",
       "Date                                                            \n",
       "2022-02-04 04:45:00                  NaN                  NaN   \n",
       "2022-02-04 05:00:00                  NaN                  NaN   \n",
       "2022-02-04 05:15:00                  NaN                  NaN   \n",
       "2022-02-04 05:30:00                  NaN                  NaN   \n",
       "2022-02-04 05:45:00                  NaN                  NaN   \n",
       "...                                  ...                  ...   \n",
       "2022-02-27 22:45:00                  NaN                  NaN   \n",
       "2022-02-27 23:00:00                  NaN                  NaN   \n",
       "2022-02-27 23:15:00                  NaN                  NaN   \n",
       "2022-02-27 23:30:00                  NaN                  NaN   \n",
       "2022-02-27 23:45:00                  NaN                  NaN   \n",
       "\n",
       "                     2022-02-27 23:15:00  2022-02-27 23:30:00  \\\n",
       "Date                                                            \n",
       "2022-02-04 04:45:00                  NaN                  NaN   \n",
       "2022-02-04 05:00:00                  NaN                  NaN   \n",
       "2022-02-04 05:15:00                  NaN                  NaN   \n",
       "2022-02-04 05:30:00                  NaN                  NaN   \n",
       "2022-02-04 05:45:00                  NaN                  NaN   \n",
       "...                                  ...                  ...   \n",
       "2022-02-27 22:45:00                  NaN                  NaN   \n",
       "2022-02-27 23:00:00                  NaN                  NaN   \n",
       "2022-02-27 23:15:00                  NaN                  NaN   \n",
       "2022-02-27 23:30:00                  NaN                  NaN   \n",
       "2022-02-27 23:45:00                  NaN                  NaN   \n",
       "\n",
       "                     2022-02-27 23:45:00  electric_field  \n",
       "Date                                                      \n",
       "2022-02-04 04:45:00                  NaN             NaN  \n",
       "2022-02-04 05:00:00                  NaN             NaN  \n",
       "2022-02-04 05:15:00                  NaN             NaN  \n",
       "2022-02-04 05:30:00                  NaN             NaN  \n",
       "2022-02-04 05:45:00                  NaN             NaN  \n",
       "...                                  ...             ...  \n",
       "2022-02-27 22:45:00                  NaN             NaN  \n",
       "2022-02-27 23:00:00                  NaN             NaN  \n",
       "2022-02-27 23:15:00                  NaN             NaN  \n",
       "2022-02-27 23:30:00                  NaN             NaN  \n",
       "2022-02-27 23:45:00                  NaN             NaN  \n",
       "\n",
       "[2285 rows x 2286 columns]"
      ]
     },
     "execution_count": 189,
     "metadata": {},
     "output_type": "execute_result"
    }
   ],
   "source": [
    "residuals_manual"
   ]
  },
  {
   "cell_type": "code",
   "execution_count": 173,
   "id": "95ec11e8",
   "metadata": {},
   "outputs": [
    {
     "data": {
      "text/plain": [
       "12.589393444697558"
      ]
     },
     "execution_count": 173,
     "metadata": {},
     "output_type": "execute_result"
    }
   ],
   "source": [
    "residuals_manual.mean()"
   ]
  },
  {
   "cell_type": "code",
   "execution_count": 184,
   "id": "065ed1cc",
   "metadata": {},
   "outputs": [
    {
     "data": {
      "text/plain": [
       "-9.711508976017473"
      ]
     },
     "execution_count": 184,
     "metadata": {},
     "output_type": "execute_result"
    }
   ],
   "source": [
    "new_df_test.electric_field.mean()"
   ]
  },
  {
   "cell_type": "code",
   "execution_count": 174,
   "id": "f7930a3b",
   "metadata": {},
   "outputs": [
    {
     "data": {
      "image/png": "[encoded data removed]",
      "text/plain": [
       "<Figure size 720x288 with 1 Axes>"
      ]
     },
     "metadata": {},
     "output_type": "display_data"
    }
   ],
   "source": [
    "plt.figure(figsize=(10,4))\n",
    "plt.plot(residuals_manual)\n",
    "plt.axhline(0, linestyle='--', color='k', alpha= 0.2)\n",
    "plt.title('Residuals from AR Model', fontsize=20)\n",
    "plt.ylabel('Error', fontsize=16)\n",
    "for year in range(2022, 2022):\n",
    "     plt.axvline(pd.to_datetime(str(year)+'-01-01'), color='k', linestyle='--', alpha=0.2)"
   ]
  },
  {
   "cell_type": "code",
   "execution_count": 101,
   "id": "8b0079c7",
   "metadata": {},
   "outputs": [
    {
     "ename": "ValueError",
     "evalue": "y_true and y_pred have different number of output (2!=1)",
     "output_type": "error",
     "traceback": [
      "\u001b[1;31m---------------------------------------------------------------------------\u001b[0m",
      "\u001b[1;31mValueError\u001b[0m                                Traceback (most recent call last)",
      "Input \u001b[1;32mIn [101]\u001b[0m, in \u001b[0;36m<cell line: 2>\u001b[1;34m()\u001b[0m\n\u001b[0;32m      1\u001b[0m \u001b[38;5;28;01mfrom\u001b[39;00m \u001b[38;5;21;01msklearn\u001b[39;00m \u001b[38;5;28;01mimport\u001b[39;00m metrics\n\u001b[1;32m----> 2\u001b[0m \u001b[38;5;28mprint\u001b[39m(\u001b[43mmetrics\u001b[49m\u001b[38;5;241;43m.\u001b[39;49m\u001b[43mmean_absolute_error\u001b[49m\u001b[43m(\u001b[49m\u001b[43mnew_df_test\u001b[49m\u001b[43m,\u001b[49m\u001b[43m \u001b[49m\u001b[43mpredictions\u001b[49m\u001b[43m)\u001b[49m)\n",
      "File \u001b[1;32m~\\anaconda3\\lib\\site-packages\\sklearn\\metrics\\_regression.py:191\u001b[0m, in \u001b[0;36mmean_absolute_error\u001b[1;34m(y_true, y_pred, sample_weight, multioutput)\u001b[0m\n\u001b[0;32m    135\u001b[0m \u001b[38;5;28;01mdef\u001b[39;00m \u001b[38;5;21mmean_absolute_error\u001b[39m(\n\u001b[0;32m    136\u001b[0m     y_true, y_pred, \u001b[38;5;241m*\u001b[39m, sample_weight\u001b[38;5;241m=\u001b[39m\u001b[38;5;28;01mNone\u001b[39;00m, multioutput\u001b[38;5;241m=\u001b[39m\u001b[38;5;124m\"\u001b[39m\u001b[38;5;124muniform_average\u001b[39m\u001b[38;5;124m\"\u001b[39m\n\u001b[0;32m    137\u001b[0m ):\n\u001b[0;32m    138\u001b[0m     \u001b[38;5;124;03m\"\"\"Mean absolute error regression loss.\u001b[39;00m\n\u001b[0;32m    139\u001b[0m \n\u001b[0;32m    140\u001b[0m \u001b[38;5;124;03m    Read more in the :ref:`User Guide <mean_absolute_error>`.\u001b[39;00m\n\u001b[1;32m   (...)\u001b[0m\n\u001b[0;32m    189\u001b[0m \u001b[38;5;124;03m    0.85...\u001b[39;00m\n\u001b[0;32m    190\u001b[0m \u001b[38;5;124;03m    \"\"\"\u001b[39;00m\n\u001b[1;32m--> 191\u001b[0m     y_type, y_true, y_pred, multioutput \u001b[38;5;241m=\u001b[39m \u001b[43m_check_reg_targets\u001b[49m\u001b[43m(\u001b[49m\n\u001b[0;32m    192\u001b[0m \u001b[43m        \u001b[49m\u001b[43my_true\u001b[49m\u001b[43m,\u001b[49m\u001b[43m \u001b[49m\u001b[43my_pred\u001b[49m\u001b[43m,\u001b[49m\u001b[43m \u001b[49m\u001b[43mmultioutput\u001b[49m\n\u001b[0;32m    193\u001b[0m \u001b[43m    \u001b[49m\u001b[43m)\u001b[49m\n\u001b[0;32m    194\u001b[0m     check_consistent_length(y_true, y_pred, sample_weight)\n\u001b[0;32m    195\u001b[0m     output_errors \u001b[38;5;241m=\u001b[39m np\u001b[38;5;241m.\u001b[39maverage(np\u001b[38;5;241m.\u001b[39mabs(y_pred \u001b[38;5;241m-\u001b[39m y_true), weights\u001b[38;5;241m=\u001b[39msample_weight, axis\u001b[38;5;241m=\u001b[39m\u001b[38;5;241m0\u001b[39m)\n",
      "File \u001b[1;32m~\\anaconda3\\lib\\site-packages\\sklearn\\metrics\\_regression.py:105\u001b[0m, in \u001b[0;36m_check_reg_targets\u001b[1;34m(y_true, y_pred, multioutput, dtype)\u001b[0m\n\u001b[0;32m    102\u001b[0m     y_pred \u001b[38;5;241m=\u001b[39m y_pred\u001b[38;5;241m.\u001b[39mreshape((\u001b[38;5;241m-\u001b[39m\u001b[38;5;241m1\u001b[39m, \u001b[38;5;241m1\u001b[39m))\n\u001b[0;32m    104\u001b[0m \u001b[38;5;28;01mif\u001b[39;00m y_true\u001b[38;5;241m.\u001b[39mshape[\u001b[38;5;241m1\u001b[39m] \u001b[38;5;241m!=\u001b[39m y_pred\u001b[38;5;241m.\u001b[39mshape[\u001b[38;5;241m1\u001b[39m]:\n\u001b[1;32m--> 105\u001b[0m     \u001b[38;5;28;01mraise\u001b[39;00m \u001b[38;5;167;01mValueError\u001b[39;00m(\n\u001b[0;32m    106\u001b[0m         \u001b[38;5;124m\"\u001b[39m\u001b[38;5;124my_true and y_pred have different number of output (\u001b[39m\u001b[38;5;132;01m{0}\u001b[39;00m\u001b[38;5;124m!=\u001b[39m\u001b[38;5;132;01m{1}\u001b[39;00m\u001b[38;5;124m)\u001b[39m\u001b[38;5;124m\"\u001b[39m\u001b[38;5;241m.\u001b[39mformat(\n\u001b[0;32m    107\u001b[0m             y_true\u001b[38;5;241m.\u001b[39mshape[\u001b[38;5;241m1\u001b[39m], y_pred\u001b[38;5;241m.\u001b[39mshape[\u001b[38;5;241m1\u001b[39m]\n\u001b[0;32m    108\u001b[0m         )\n\u001b[0;32m    109\u001b[0m     )\n\u001b[0;32m    111\u001b[0m n_outputs \u001b[38;5;241m=\u001b[39m y_true\u001b[38;5;241m.\u001b[39mshape[\u001b[38;5;241m1\u001b[39m]\n\u001b[0;32m    112\u001b[0m allowed_multioutput_str \u001b[38;5;241m=\u001b[39m (\u001b[38;5;124m\"\u001b[39m\u001b[38;5;124mraw_values\u001b[39m\u001b[38;5;124m\"\u001b[39m, \u001b[38;5;124m\"\u001b[39m\u001b[38;5;124muniform_average\u001b[39m\u001b[38;5;124m\"\u001b[39m, \u001b[38;5;124m\"\u001b[39m\u001b[38;5;124mvariance_weighted\u001b[39m\u001b[38;5;124m\"\u001b[39m)\n",
      "\u001b[1;31mValueError\u001b[0m: y_true and y_pred have different number of output (2!=1)"
     ]
    }
   ],
   "source": [
    "from sklearn import metrics\n",
    "print(metrics.mean_absolute_error(new_df_test, predictions))"
   ]
  },
  {
   "cell_type": "code",
   "execution_count": 187,
   "id": "b56a88dd",
   "metadata": {},
   "outputs": [
    {
     "data": {
      "image/png": "[encoded data removed]",
      "text/plain": [
       "<Figure size 720x288 with 1 Axes>"
      ]
     },
     "metadata": {},
     "output_type": "display_data"
    }
   ],
   "source": [
    "plt.figure(figsize=(10,4))\n",
    "\n",
    "plt.plot(new_df_test)\n",
    "plt.plot(predictions)\n",
    "\n",
    "plt.legend(('Data', 'Predictions'), fontsize=16)\n",
    "\n",
    "plt.title('Electric Field over time', fontsize=20)\n",
    "plt.ylabel('Electric Field', fontsize=16)\n",
    "for year in range(2022,2022):\n",
    "    plt.axvline(pd.to_datetime(str(year)+'-01-01'), color='k', linestyle='--', alpha=0.2)"
   ]
  },
  {
   "cell_type": "code",
   "execution_count": 178,
   "id": "8cb20747",
   "metadata": {},
   "outputs": [
    {
     "data": {
      "text/plain": [
       "12.589393444697558"
      ]
     },
     "execution_count": 178,
     "metadata": {},
     "output_type": "execute_result"
    }
   ],
   "source": [
    "residuals_manual.mean()"
   ]
  },
  {
   "cell_type": "code",
   "execution_count": 179,
   "id": "8c2baebe",
   "metadata": {},
   "outputs": [
    {
     "data": {
      "text/plain": [
       "56158.71611464021"
      ]
     },
     "execution_count": 179,
     "metadata": {},
     "output_type": "execute_result"
    }
   ],
   "source": [
    "residuals_manual.var()"
   ]
  },
  {
   "cell_type": "code",
   "execution_count": 185,
   "id": "8ea5595f",
   "metadata": {},
   "outputs": [
    {
     "data": {
      "text/plain": [
       "56313.76995091363"
      ]
     },
     "execution_count": 185,
     "metadata": {},
     "output_type": "execute_result"
    }
   ],
   "source": [
    "new_df_test.electric_field.var()"
   ]
  },
  {
   "cell_type": "markdown",
   "id": "bbf89933",
   "metadata": {},
   "source": [
    "Automatically obtained residuals"
   ]
  },
  {
   "cell_type": "code",
   "execution_count": 133,
   "id": "79c548f1",
   "metadata": {},
   "outputs": [
    {
     "data": {
      "text/plain": [
       "0.014016226542041028"
      ]
     },
     "execution_count": 133,
     "metadata": {},
     "output_type": "execute_result"
    }
   ],
   "source": [
    "new_df_train.residual_Efield.mean()"
   ]
  },
  {
   "cell_type": "code",
   "execution_count": 134,
   "id": "f2a0d399",
   "metadata": {},
   "outputs": [
    {
     "data": {
      "text/plain": [
       "52751.77668292375"
      ]
     },
     "execution_count": 134,
     "metadata": {},
     "output_type": "execute_result"
    }
   ],
   "source": [
    "new_df_train.residual_Efield.var()"
   ]
  },
  {
   "cell_type": "code",
   "execution_count": 138,
   "id": "909b42cc",
   "metadata": {},
   "outputs": [
    {
     "data": {
      "text/plain": [
       "(-21.309378304800898,\n",
       " 0.0,\n",
       " 17,\n",
       " 9121,\n",
       " {'1%': -3.4310671517731812,\n",
       "  '5%': -2.8618569350602763,\n",
       "  '10%': -2.5669386994814842},\n",
       " 124718.6077091124)"
      ]
     },
     "execution_count": 138,
     "metadata": {},
     "output_type": "execute_result"
    }
   ],
   "source": [
    "sts.adfuller(new_df_train.residual_Efield)"
   ]
  },
  {
   "cell_type": "markdown",
   "id": "44122e6c",
   "metadata": {},
   "source": [
    "Make sure the errors do not follow a white noise distribution"
   ]
  },
  {
   "cell_type": "code",
   "execution_count": 139,
   "id": "3e0e6edd",
   "metadata": {},
   "outputs": [
    {
     "data": {
      "image/png": "[encoded data removed]",
      "text/plain": [
       "<Figure size 432x288 with 1 Axes>"
      ]
     },
     "metadata": {},
     "output_type": "display_data"
    }
   ],
   "source": [
    "sgt.plot_acf(new_df_train.residual_Efield, zero = False, lags = 40)\n",
    "plt.title(\"ACF Of Residuals for Electric Field\",size=24)\n",
    "plt.show()"
   ]
  },
  {
   "cell_type": "code",
   "execution_count": 141,
   "id": "2f9c2263",
   "metadata": {},
   "outputs": [
    {
     "data": {
      "image/png": "[encoded data removed]",
      "text/plain": [
       "<Figure size 1440x360 with 1 Axes>"
      ]
     },
     "metadata": {},
     "output_type": "display_data"
    }
   ],
   "source": [
    "new_df_train.residual_Efield.plot(figsize=(20,5))\n",
    "plot(new_df_train.)\n",
    "plt.title(\"Residuals of Electric Field\", size=24)\n",
    "plt.show()"
   ]
  },
  {
   "cell_type": "code",
   "execution_count": null,
   "id": "3b6ce363",
   "metadata": {},
   "outputs": [],
   "source": []
  }
 ],
 "metadata": {
  "kernelspec": {
   "display_name": "Python 3 (ipykernel)",
   "language": "python",
   "name": "python3"
  },
  "language_info": {
   "codemirror_mode": {
    "name": "ipython",
    "version": 3
   },
   "file_extension": ".py",
   "mimetype": "text/x-python",
   "name": "python",
   "nbconvert_exporter": "python",
   "pygments_lexer": "ipython3",
   "version": "3.9.12"
  }
 },
 "nbformat": 4,
 "nbformat_minor": 5
}
