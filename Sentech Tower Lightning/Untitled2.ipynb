{
 "cells": [
  {
   "cell_type": "code",
   "execution_count": 2,
   "id": "61ca06c2",
   "metadata": {},
   "outputs": [],
   "source": [
    "import numpy as np \n",
    "import pandas as pd \n",
    " \n",
    "import matplotlib.pyplot as plt \n",
    " \n",
    "#from keras.models import Sequential\n",
    "#from keras.layers import LSTM\n",
    "#from keras.layers import Dense\n",
    "#from keras import metrics\n",
    " \n",
    "from sklearn.preprocessing import MinMaxScaler\n",
    "from sklearn.model_selection import train_test_split"
   ]
  },
  {
   "cell_type": "code",
   "execution_count": 5,
   "id": "8dac854f",
   "metadata": {},
   "outputs": [],
   "source": [
    "df = pd.read_csv('sentech_data.csv')"
   ]
  },
  {
   "cell_type": "code",
   "execution_count": 6,
   "id": "aa68c606",
   "metadata": {},
   "outputs": [
    {
     "data": {
      "text/html": [
       "<div>\n",
       "<style scoped>\n",
       "    .dataframe tbody tr th:only-of-type {\n",
       "        vertical-align: middle;\n",
       "    }\n",
       "\n",
       "    .dataframe tbody tr th {\n",
       "        vertical-align: top;\n",
       "    }\n",
       "\n",
       "    .dataframe thead th {\n",
       "        text-align: right;\n",
       "    }\n",
       "</style>\n",
       "<table border=\"1\" class=\"dataframe\">\n",
       "  <thead>\n",
       "    <tr style=\"text-align: right;\">\n",
       "      <th></th>\n",
       "      <th>Date</th>\n",
       "      <th>Air_temp</th>\n",
       "      <th>RH</th>\n",
       "      <th>DewPoint</th>\n",
       "      <th>Rain</th>\n",
       "      <th>Pressure</th>\n",
       "      <th>Efield</th>\n",
       "      <th>Lightning_Warnings</th>\n",
       "      <th>Reset_secs</th>\n",
       "    </tr>\n",
       "  </thead>\n",
       "  <tbody>\n",
       "    <tr>\n",
       "      <th>0</th>\n",
       "      <td>2/27/2022 23:45</td>\n",
       "      <td>15.31052</td>\n",
       "      <td>85.83740</td>\n",
       "      <td>12.966850</td>\n",
       "      <td>0.0</td>\n",
       "      <td>827.4857</td>\n",
       "      <td>-16.63182</td>\n",
       "      <td>0</td>\n",
       "      <td>0</td>\n",
       "    </tr>\n",
       "    <tr>\n",
       "      <th>1</th>\n",
       "      <td>2/27/2022 23:30</td>\n",
       "      <td>15.98598</td>\n",
       "      <td>82.16581</td>\n",
       "      <td>12.960260</td>\n",
       "      <td>0.0</td>\n",
       "      <td>827.4928</td>\n",
       "      <td>-17.88704</td>\n",
       "      <td>0</td>\n",
       "      <td>0</td>\n",
       "    </tr>\n",
       "    <tr>\n",
       "      <th>2</th>\n",
       "      <td>2/27/2022 23:15</td>\n",
       "      <td>15.81320</td>\n",
       "      <td>81.01760</td>\n",
       "      <td>12.576650</td>\n",
       "      <td>0.0</td>\n",
       "      <td>827.6407</td>\n",
       "      <td>-17.25920</td>\n",
       "      <td>0</td>\n",
       "      <td>0</td>\n",
       "    </tr>\n",
       "    <tr>\n",
       "      <th>3</th>\n",
       "      <td>2/27/2022 23:00</td>\n",
       "      <td>15.94644</td>\n",
       "      <td>79.59342</td>\n",
       "      <td>12.436280</td>\n",
       "      <td>0.0</td>\n",
       "      <td>827.6857</td>\n",
       "      <td>-15.37659</td>\n",
       "      <td>0</td>\n",
       "      <td>0</td>\n",
       "    </tr>\n",
       "    <tr>\n",
       "      <th>4</th>\n",
       "      <td>2/27/2022 22:45</td>\n",
       "      <td>16.28638</td>\n",
       "      <td>76.22140</td>\n",
       "      <td>12.107980</td>\n",
       "      <td>0.0</td>\n",
       "      <td>827.9321</td>\n",
       "      <td>-14.43517</td>\n",
       "      <td>0</td>\n",
       "      <td>0</td>\n",
       "    </tr>\n",
       "    <tr>\n",
       "      <th>...</th>\n",
       "      <td>...</td>\n",
       "      <td>...</td>\n",
       "      <td>...</td>\n",
       "      <td>...</td>\n",
       "      <td>...</td>\n",
       "      <td>...</td>\n",
       "      <td>...</td>\n",
       "      <td>...</td>\n",
       "      <td>...</td>\n",
       "    </tr>\n",
       "    <tr>\n",
       "      <th>11405</th>\n",
       "      <td>11/1/2021 1:00</td>\n",
       "      <td>14.49834</td>\n",
       "      <td>72.94492</td>\n",
       "      <td>9.719332</td>\n",
       "      <td>0.0</td>\n",
       "      <td>823.9849</td>\n",
       "      <td>-23.84927</td>\n",
       "      <td>0</td>\n",
       "      <td>0</td>\n",
       "    </tr>\n",
       "    <tr>\n",
       "      <th>11406</th>\n",
       "      <td>11/1/2021 0:45</td>\n",
       "      <td>14.64727</td>\n",
       "      <td>71.04126</td>\n",
       "      <td>9.468879</td>\n",
       "      <td>0.0</td>\n",
       "      <td>824.1239</td>\n",
       "      <td>-23.22135</td>\n",
       "      <td>0</td>\n",
       "      <td>0</td>\n",
       "    </tr>\n",
       "    <tr>\n",
       "      <th>11407</th>\n",
       "      <td>11/1/2021 0:30</td>\n",
       "      <td>15.17229</td>\n",
       "      <td>67.91439</td>\n",
       "      <td>9.302760</td>\n",
       "      <td>0.0</td>\n",
       "      <td>824.1583</td>\n",
       "      <td>-23.84614</td>\n",
       "      <td>0</td>\n",
       "      <td>0</td>\n",
       "    </tr>\n",
       "    <tr>\n",
       "      <th>11408</th>\n",
       "      <td>11/1/2021 0:15</td>\n",
       "      <td>15.88538</td>\n",
       "      <td>60.16803</td>\n",
       "      <td>8.188042</td>\n",
       "      <td>0.0</td>\n",
       "      <td>824.1832</td>\n",
       "      <td>-23.84491</td>\n",
       "      <td>0</td>\n",
       "      <td>0</td>\n",
       "    </tr>\n",
       "    <tr>\n",
       "      <th>11409</th>\n",
       "      <td>11/1/2021 0:00</td>\n",
       "      <td>18.83013</td>\n",
       "      <td>44.34569</td>\n",
       "      <td>6.449132</td>\n",
       "      <td>0.0</td>\n",
       "      <td>823.9045</td>\n",
       "      <td>-31.68846</td>\n",
       "      <td>0</td>\n",
       "      <td>0</td>\n",
       "    </tr>\n",
       "  </tbody>\n",
       "</table>\n",
       "<p>11410 rows × 9 columns</p>\n",
       "</div>"
      ],
      "text/plain": [
       "                  Date  Air_temp        RH   DewPoint  Rain  Pressure  \\\n",
       "0      2/27/2022 23:45  15.31052  85.83740  12.966850   0.0  827.4857   \n",
       "1      2/27/2022 23:30  15.98598  82.16581  12.960260   0.0  827.4928   \n",
       "2      2/27/2022 23:15  15.81320  81.01760  12.576650   0.0  827.6407   \n",
       "3      2/27/2022 23:00  15.94644  79.59342  12.436280   0.0  827.6857   \n",
       "4      2/27/2022 22:45  16.28638  76.22140  12.107980   0.0  827.9321   \n",
       "...                ...       ...       ...        ...   ...       ...   \n",
       "11405   11/1/2021 1:00  14.49834  72.94492   9.719332   0.0  823.9849   \n",
       "11406   11/1/2021 0:45  14.64727  71.04126   9.468879   0.0  824.1239   \n",
       "11407   11/1/2021 0:30  15.17229  67.91439   9.302760   0.0  824.1583   \n",
       "11408   11/1/2021 0:15  15.88538  60.16803   8.188042   0.0  824.1832   \n",
       "11409   11/1/2021 0:00  18.83013  44.34569   6.449132   0.0  823.9045   \n",
       "\n",
       "         Efield  Lightning_Warnings  Reset_secs  \n",
       "0     -16.63182                   0           0  \n",
       "1     -17.88704                   0           0  \n",
       "2     -17.25920                   0           0  \n",
       "3     -15.37659                   0           0  \n",
       "4     -14.43517                   0           0  \n",
       "...         ...                 ...         ...  \n",
       "11405 -23.84927                   0           0  \n",
       "11406 -23.22135                   0           0  \n",
       "11407 -23.84614                   0           0  \n",
       "11408 -23.84491                   0           0  \n",
       "11409 -31.68846                   0           0  \n",
       "\n",
       "[11410 rows x 9 columns]"
      ]
     },
     "execution_count": 6,
     "metadata": {},
     "output_type": "execute_result"
    }
   ],
   "source": [
    "df"
   ]
  },
  {
   "cell_type": "code",
   "execution_count": 10,
   "id": "e9d38d94",
   "metadata": {},
   "outputs": [],
   "source": [
    "X = np.array([df.iloc[:,6]])"
   ]
  },
  {
   "cell_type": "code",
   "execution_count": 11,
   "id": "f03a3d75",
   "metadata": {},
   "outputs": [
    {
     "data": {
      "text/plain": [
       "array([[-16.63182, -17.88704, -17.2592 , ..., -23.84614, -23.84491,\n",
       "        -31.68846]])"
      ]
     },
     "execution_count": 11,
     "metadata": {},
     "output_type": "execute_result"
    }
   ],
   "source": [
    "X"
   ]
  },
  {
   "cell_type": "code",
   "execution_count": 12,
   "id": "9486d46a",
   "metadata": {},
   "outputs": [
    {
     "data": {
      "image/png": "[encoded data removed]",
      "text/plain": [
       "<Figure size 432x288 with 1 Axes>"
      ]
     },
     "metadata": {
      "needs_background": "light"
     },
     "output_type": "display_data"
    }
   ],
   "source": [
    "plt.plot(X[0,:])\n",
    "plt.show(block=False)"
   ]
  },
  {
   "cell_type": "code",
   "execution_count": null,
   "id": "d7eef302",
   "metadata": {},
   "outputs": [],
   "source": []
  }
 ],
 "metadata": {
  "kernelspec": {
   "display_name": "Python 3 (ipykernel)",
   "language": "python",
   "name": "python3"
  },
  "language_info": {
   "codemirror_mode": {
    "name": "ipython",
    "version": 3
   },
   "file_extension": ".py",
   "mimetype": "text/x-python",
   "name": "python",
   "nbconvert_exporter": "python",
   "pygments_lexer": "ipython3",
   "version": "3.9.12"
  }
 },
 "nbformat": 4,
 "nbformat_minor": 5
}
