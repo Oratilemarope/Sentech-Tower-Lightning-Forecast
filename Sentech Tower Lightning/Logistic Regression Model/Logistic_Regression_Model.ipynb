{
 "cells": [
  {
   "cell_type": "markdown",
   "id": "bffa6a9c",
   "metadata": {},
   "source": [
    "**Import Libraries**"
   ]
  },
  {
   "cell_type": "code",
   "execution_count": 1,
   "id": "4235e8a0",
   "metadata": {},
   "outputs": [],
   "source": [
    "import pandas as pd\n",
    "import numpy as np\n",
    "import matplotlib.pyplot as plt \n",
    "import scipy.stats\n",
    "import pylab\n",
    "import datetime\n",
    "from time import time\n",
    "import seaborn as sns\n",
    "sns.set()\n",
    "from sklearn.datasets import make_classification\n",
    "from sklearn.metrics import confusion_matrix\n",
    "\n",
    "#time series Libraries\n",
    "import statsmodels.graphics.tsaplots as sgt \n",
    "from statsmodels.tsa.arima.model import ARIMA\n",
    "from scipy.stats.distributions import chi2\n",
    "import statsmodels.tsa.stattools as sts\n",
    "from statsmodels.tsa.stattools import adfuller"
   ]
  },
  {
   "cell_type": "markdown",
   "id": "07451d5b",
   "metadata": {},
   "source": [
    "**Import the data**"
   ]
  },
  {
   "cell_type": "code",
   "execution_count": 2,
   "id": "8595d355",
   "metadata": {},
   "outputs": [],
   "source": [
    "raw_csv_data = pd.read_csv(\"sentech_data.csv\")"
   ]
  },
  {
   "cell_type": "markdown",
   "id": "3138f2b6",
   "metadata": {},
   "source": [
    "**Make a copy of original data**"
   ]
  },
  {
   "cell_type": "code",
   "execution_count": 3,
   "id": "d705956e",
   "metadata": {},
   "outputs": [],
   "source": [
    "sentech_data= raw_csv_data.copy()"
   ]
  },
  {
   "cell_type": "code",
   "execution_count": 4,
   "id": "17c0496f",
   "metadata": {},
   "outputs": [
    {
     "data": {
      "text/html": [
       "<div>\n",
       "<style scoped>\n",
       "    .dataframe tbody tr th:only-of-type {\n",
       "        vertical-align: middle;\n",
       "    }\n",
       "\n",
       "    .dataframe tbody tr th {\n",
       "        vertical-align: top;\n",
       "    }\n",
       "\n",
       "    .dataframe thead th {\n",
       "        text-align: right;\n",
       "    }\n",
       "</style>\n",
       "<table border=\"1\" class=\"dataframe\">\n",
       "  <thead>\n",
       "    <tr style=\"text-align: right;\">\n",
       "      <th></th>\n",
       "      <th>Air_temp</th>\n",
       "      <th>RH</th>\n",
       "      <th>DewPoint</th>\n",
       "      <th>Rain</th>\n",
       "      <th>Pressure</th>\n",
       "      <th>Efield</th>\n",
       "      <th>Lightning_Warnings</th>\n",
       "      <th>Reset_secs</th>\n",
       "    </tr>\n",
       "  </thead>\n",
       "  <tbody>\n",
       "    <tr>\n",
       "      <th>count</th>\n",
       "      <td>11410.000000</td>\n",
       "      <td>11410.000000</td>\n",
       "      <td>11410.000000</td>\n",
       "      <td>11410.000000</td>\n",
       "      <td>11410.000000</td>\n",
       "      <td>11410.000000</td>\n",
       "      <td>11410.000000</td>\n",
       "      <td>11410.000000</td>\n",
       "    </tr>\n",
       "    <tr>\n",
       "      <th>mean</th>\n",
       "      <td>18.689568</td>\n",
       "      <td>72.150754</td>\n",
       "      <td>12.816222</td>\n",
       "      <td>0.000035</td>\n",
       "      <td>826.438567</td>\n",
       "      <td>-19.921106</td>\n",
       "      <td>0.108589</td>\n",
       "      <td>314.438212</td>\n",
       "    </tr>\n",
       "    <tr>\n",
       "      <th>std</th>\n",
       "      <td>3.924400</td>\n",
       "      <td>20.393162</td>\n",
       "      <td>3.102967</td>\n",
       "      <td>0.002648</td>\n",
       "      <td>15.626958</td>\n",
       "      <td>236.783167</td>\n",
       "      <td>0.311136</td>\n",
       "      <td>965.151379</td>\n",
       "    </tr>\n",
       "    <tr>\n",
       "      <th>min</th>\n",
       "      <td>0.000000</td>\n",
       "      <td>0.000000</td>\n",
       "      <td>-3.143647</td>\n",
       "      <td>0.000000</td>\n",
       "      <td>0.000000</td>\n",
       "      <td>-2523.927000</td>\n",
       "      <td>0.000000</td>\n",
       "      <td>0.000000</td>\n",
       "    </tr>\n",
       "    <tr>\n",
       "      <th>25%</th>\n",
       "      <td>15.754948</td>\n",
       "      <td>57.802200</td>\n",
       "      <td>11.778005</td>\n",
       "      <td>0.000000</td>\n",
       "      <td>825.406050</td>\n",
       "      <td>-41.416790</td>\n",
       "      <td>0.000000</td>\n",
       "      <td>0.000000</td>\n",
       "    </tr>\n",
       "    <tr>\n",
       "      <th>50%</th>\n",
       "      <td>18.324115</td>\n",
       "      <td>74.139575</td>\n",
       "      <td>13.451890</td>\n",
       "      <td>0.000000</td>\n",
       "      <td>826.824550</td>\n",
       "      <td>-29.796630</td>\n",
       "      <td>0.000000</td>\n",
       "      <td>0.000000</td>\n",
       "    </tr>\n",
       "    <tr>\n",
       "      <th>75%</th>\n",
       "      <td>21.584875</td>\n",
       "      <td>89.270905</td>\n",
       "      <td>14.794128</td>\n",
       "      <td>0.000000</td>\n",
       "      <td>828.125875</td>\n",
       "      <td>-19.456090</td>\n",
       "      <td>0.000000</td>\n",
       "      <td>0.000000</td>\n",
       "    </tr>\n",
       "    <tr>\n",
       "      <th>max</th>\n",
       "      <td>29.734370</td>\n",
       "      <td>99.980700</td>\n",
       "      <td>19.050590</td>\n",
       "      <td>0.200000</td>\n",
       "      <td>833.690200</td>\n",
       "      <td>2562.246000</td>\n",
       "      <td>1.000000</td>\n",
       "      <td>3600.000000</td>\n",
       "    </tr>\n",
       "  </tbody>\n",
       "</table>\n",
       "</div>"
      ],
      "text/plain": [
       "           Air_temp            RH      DewPoint          Rain      Pressure  \\\n",
       "count  11410.000000  11410.000000  11410.000000  11410.000000  11410.000000   \n",
       "mean      18.689568     72.150754     12.816222      0.000035    826.438567   \n",
       "std        3.924400     20.393162      3.102967      0.002648     15.626958   \n",
       "min        0.000000      0.000000     -3.143647      0.000000      0.000000   \n",
       "25%       15.754948     57.802200     11.778005      0.000000    825.406050   \n",
       "50%       18.324115     74.139575     13.451890      0.000000    826.824550   \n",
       "75%       21.584875     89.270905     14.794128      0.000000    828.125875   \n",
       "max       29.734370     99.980700     19.050590      0.200000    833.690200   \n",
       "\n",
       "             Efield  Lightning_Warnings    Reset_secs  \n",
       "count  11410.000000        11410.000000  11410.000000  \n",
       "mean     -19.921106            0.108589    314.438212  \n",
       "std      236.783167            0.311136    965.151379  \n",
       "min    -2523.927000            0.000000      0.000000  \n",
       "25%      -41.416790            0.000000      0.000000  \n",
       "50%      -29.796630            0.000000      0.000000  \n",
       "75%      -19.456090            0.000000      0.000000  \n",
       "max     2562.246000            1.000000   3600.000000  "
      ]
     },
     "execution_count": 4,
     "metadata": {},
     "output_type": "execute_result"
    }
   ],
   "source": [
    "sentech_data.describe()"
   ]
  },
  {
   "cell_type": "code",
   "execution_count": 5,
   "id": "be1b3556",
   "metadata": {},
   "outputs": [
    {
     "name": "stdout",
     "output_type": "stream",
     "text": [
      "<class 'pandas.core.frame.DataFrame'>\n",
      "RangeIndex: 11410 entries, 0 to 11409\n",
      "Data columns (total 9 columns):\n",
      " #   Column              Non-Null Count  Dtype  \n",
      "---  ------              --------------  -----  \n",
      " 0   Date                11410 non-null  object \n",
      " 1   Air_temp            11410 non-null  float64\n",
      " 2   RH                  11410 non-null  float64\n",
      " 3   DewPoint            11410 non-null  float64\n",
      " 4   Rain                11410 non-null  float64\n",
      " 5   Pressure            11410 non-null  float64\n",
      " 6   Efield              11410 non-null  float64\n",
      " 7   Lightning_Warnings  11410 non-null  int64  \n",
      " 8   Reset_secs          11410 non-null  int64  \n",
      "dtypes: float64(6), int64(2), object(1)\n",
      "memory usage: 802.4+ KB\n"
     ]
    }
   ],
   "source": [
    "sentech_data.info()"
   ]
  },
  {
   "cell_type": "markdown",
   "id": "0505f818",
   "metadata": {},
   "source": [
    "**Check Stationarity & Visualize data**"
   ]
  },
  {
   "cell_type": "markdown",
   "id": "615a88c1",
   "metadata": {},
   "source": [
    "Stationarity:"
   ]
  },
  {
   "cell_type": "code",
   "execution_count": 6,
   "id": "74107d1e",
   "metadata": {},
   "outputs": [],
   "source": [
    "def generate_ar_process(lags, coefs, length):\n",
    "    \n",
    "    #cast coefs to np array\n",
    "    coefs = np.array(coefs)\n",
    "    \n",
    "    #initial values\n",
    "    series = [np.random.normal() for _ in range(lags)]\n",
    "    \n",
    "    for _ in range(length):\n",
    "        #get previous values of the series, reversed\n",
    "        prev_vals = series[-lags:][::-1]\n",
    "        \n",
    "        #get new value of time series\n",
    "        new_val = np.sum(np.array(prev_vals) * coefs) + np.random.normal()\n",
    "        \n",
    "        series.append(new_val)\n",
    "        \n",
    "    return np.array(series)"
   ]
  },
  {
   "cell_type": "code",
   "execution_count": 7,
   "id": "2fc9a306",
   "metadata": {},
   "outputs": [],
   "source": [
    "def perform_adf_test(series):\n",
    "    result = adfuller(series)\n",
    "    print('ADF Statistic: %f' % result[0])\n",
    "    print('p-value: %f' % result[1])"
   ]
  },
  {
   "cell_type": "markdown",
   "id": "5328c585",
   "metadata": {},
   "source": [
    "Electric field Stationarity"
   ]
  },
  {
   "cell_type": "code",
   "execution_count": 8,
   "id": "6146766f",
   "metadata": {},
   "outputs": [
    {
     "name": "stdout",
     "output_type": "stream",
     "text": [
      "ADF Statistic: -23.326738\n",
      "p-value: 0.000000\n"
     ]
    }
   ],
   "source": [
    "perform_adf_test(sentech_data.Efield)"
   ]
  },
  {
   "cell_type": "markdown",
   "id": "dd82fa5e",
   "metadata": {},
   "source": [
    "Air Temperature Stationarity"
   ]
  },
  {
   "cell_type": "code",
   "execution_count": 9,
   "id": "4a488901",
   "metadata": {},
   "outputs": [
    {
     "name": "stdout",
     "output_type": "stream",
     "text": [
      "ADF Statistic: -16.509875\n",
      "p-value: 0.000000\n"
     ]
    }
   ],
   "source": [
    "perform_adf_test(sentech_data.Air_temp)"
   ]
  },
  {
   "cell_type": "markdown",
   "id": "00f4c98e",
   "metadata": {},
   "source": [
    "Dew Point Stationarity"
   ]
  },
  {
   "cell_type": "code",
   "execution_count": 10,
   "id": "9f0b46fe",
   "metadata": {},
   "outputs": [
    {
     "name": "stdout",
     "output_type": "stream",
     "text": [
      "ADF Statistic: -7.925131\n",
      "p-value: 0.000000\n"
     ]
    }
   ],
   "source": [
    "perform_adf_test(sentech_data.DewPoint)"
   ]
  },
  {
   "cell_type": "markdown",
   "id": "a17401d4",
   "metadata": {},
   "source": [
    "Realative Humidity Stationarity"
   ]
  },
  {
   "cell_type": "code",
   "execution_count": 11,
   "id": "e9eead6b",
   "metadata": {},
   "outputs": [
    {
     "name": "stdout",
     "output_type": "stream",
     "text": [
      "ADF Statistic: -13.005040\n",
      "p-value: 0.000000\n"
     ]
    }
   ],
   "source": [
    "perform_adf_test(sentech_data.RH)"
   ]
  },
  {
   "cell_type": "markdown",
   "id": "20a8189c",
   "metadata": {},
   "source": [
    "E_Field Warnings Stationarity"
   ]
  },
  {
   "cell_type": "code",
   "execution_count": 12,
   "id": "cb8a430d",
   "metadata": {},
   "outputs": [
    {
     "name": "stdout",
     "output_type": "stream",
     "text": [
      "ADF Statistic: -16.364931\n",
      "p-value: 0.000000\n"
     ]
    }
   ],
   "source": [
    "perform_adf_test(sentech_data.Lightning_Warnings)"
   ]
  },
  {
   "cell_type": "code",
   "execution_count": 13,
   "id": "fe700ed3",
   "metadata": {},
   "outputs": [
    {
     "data": {
      "text/plain": [
       "(11410, 9)"
      ]
     },
     "execution_count": 13,
     "metadata": {},
     "output_type": "execute_result"
    }
   ],
   "source": [
    "sentech_data.shape"
   ]
  },
  {
   "cell_type": "markdown",
   "id": "4203f920",
   "metadata": {},
   "source": [
    "Graphs:"
   ]
  },
  {
   "cell_type": "code",
   "execution_count": 14,
   "id": "15b758f9",
   "metadata": {},
   "outputs": [
    {
     "data": {
      "text/plain": [
       "<AxesSubplot:title={'center':'Electric Field'}>"
      ]
     },
     "execution_count": 14,
     "metadata": {},
     "output_type": "execute_result"
    },
    {
     "data": {
      "image/png": "[encoded data removed]",
      "text/plain": [
       "<Figure size 1440x360 with 1 Axes>"
      ]
     },
     "metadata": {},
     "output_type": "display_data"
    }
   ],
   "source": [
    "sentech_data.Efield.plot(figsize= (20,5), title= \"Electric Field\")"
   ]
  },
  {
   "cell_type": "code",
   "execution_count": 15,
   "id": "391951b2",
   "metadata": {},
   "outputs": [
    {
     "data": {
      "text/plain": [
       "<AxesSubplot:title={'center':'Lightning Warnings'}>"
      ]
     },
     "execution_count": 15,
     "metadata": {},
     "output_type": "execute_result"
    },
    {
     "data": {
      "image/png": "[encoded data removed]",
      "text/plain": [
       "<Figure size 1440x360 with 1 Axes>"
      ]
     },
     "metadata": {},
     "output_type": "display_data"
    }
   ],
   "source": [
    "sentech_data.Lightning_Warnings.plot(figsize= (20,5), title= \"Lightning Warnings\")"
   ]
  },
  {
   "cell_type": "markdown",
   "id": "3c8f6f9d",
   "metadata": {},
   "source": [
    "**NormalizeElectric Field and Lightning Warnings**"
   ]
  },
  {
   "cell_type": "code",
   "execution_count": 16,
   "id": "5b3abb0d",
   "metadata": {},
   "outputs": [],
   "source": [
    "from sklearn import preprocessing"
   ]
  },
  {
   "cell_type": "code",
   "execution_count": 17,
   "id": "17d46421",
   "metadata": {},
   "outputs": [
    {
     "name": "stdout",
     "output_type": "stream",
     "text": [
      "[[-0.00065529 -0.00070475 -0.00068001 ... -0.00093953 -0.00093948\n",
      "  -0.00124852]]\n"
     ]
    }
   ],
   "source": [
    "normalized_Efild = preprocessing.normalize([sentech_data.Efield])\n",
    "print(normalized_Efild)"
   ]
  },
  {
   "cell_type": "code",
   "execution_count": 18,
   "id": "6cb0b1ac",
   "metadata": {},
   "outputs": [
    {
     "name": "stdout",
     "output_type": "stream",
     "text": [
      "[[0. 0. 0. ... 0. 0. 0.]]\n"
     ]
    }
   ],
   "source": [
    "normalized_Warnings = preprocessing.normalize([sentech_data.Lightning_Warnings])\n",
    "print(normalized_Warnings)"
   ]
  },
  {
   "cell_type": "code",
   "execution_count": 19,
   "id": "31185ed8",
   "metadata": {},
   "outputs": [],
   "source": [
    "df_Normalized_Efield = pd.DataFrame(normalized_Efild).transpose()"
   ]
  },
  {
   "cell_type": "code",
   "execution_count": 20,
   "id": "895d4a64",
   "metadata": {},
   "outputs": [],
   "source": [
    "sentech_data['_Normalized_Efield']= df_Normalized_Efield"
   ]
  },
  {
   "cell_type": "code",
   "execution_count": 21,
   "id": "4494bf7e",
   "metadata": {},
   "outputs": [],
   "source": [
    "df_Normalized_Warnings = pd.DataFrame(normalized_Warnings).transpose()"
   ]
  },
  {
   "cell_type": "code",
   "execution_count": 22,
   "id": "d7a8ed64",
   "metadata": {},
   "outputs": [],
   "source": [
    "sentech_data['_Normalized_Warnings']= df_Normalized_Warnings"
   ]
  },
  {
   "cell_type": "code",
   "execution_count": null,
   "id": "aca85524",
   "metadata": {},
   "outputs": [],
   "source": []
  },
  {
   "cell_type": "markdown",
   "id": "1e1e2fe7",
   "metadata": {},
   "source": [
    "**Plot the graphs of Lightning Warnings vs ALL OTHER PARAMETERS**"
   ]
  },
  {
   "cell_type": "code",
   "execution_count": 23,
   "id": "06f82024",
   "metadata": {},
   "outputs": [
    {
     "data": {
      "text/plain": [
       "Text(0.5, 1.0, 'Electric field vs Lightning Warnings')"
      ]
     },
     "execution_count": 23,
     "metadata": {},
     "output_type": "execute_result"
    },
    {
     "data": {
      "image/png": "[encoded data removed]",
      "text/plain": [
       "<Figure size 1440x360 with 1 Axes>"
      ]
     },
     "metadata": {},
     "output_type": "display_data"
    }
   ],
   "source": [
    "sentech_data.Lightning_Warnings.plot(figsize= (20,5), title= \"Lightning Warnings\")\n",
    "sentech_data.Efield.plot(figsize= (20,5), title= \"Electric Field\")\n",
    "plt.title(\"Electric field vs Lightning Warnings\")"
   ]
  },
  {
   "cell_type": "code",
   "execution_count": 24,
   "id": "6a4a31fd",
   "metadata": {},
   "outputs": [
    {
     "data": {
      "image/png": "[encoded data removed]",
      "text/plain": [
       "<Figure size 720x288 with 1 Axes>"
      ]
     },
     "metadata": {},
     "output_type": "display_data"
    }
   ],
   "source": [
    "plt.figure(figsize=(10,4))\n",
    "\n",
    "plt.plot(sentech_data._Normalized_Warnings)\n",
    "plt.plot(sentech_data._Normalized_Efield)\n",
    "\n",
    "plt.legend(('Normalized Warnings', 'Normalized EField'), fontsize=16)\n",
    "plt.title('Electric field vs Lightning Warnings', fontsize=20)\n",
    "for year in range(2022,2022):\n",
    "    plt.axvline(pd.to_datetime(str(year)+'-01-01'), color='k', linestyle='--', alpha=0.2)"
   ]
  },
  {
   "cell_type": "code",
   "execution_count": 25,
   "id": "0e46f686",
   "metadata": {},
   "outputs": [
    {
     "data": {
      "text/plain": [
       "Text(0, 0.5, 'Lightning Warnings')"
      ]
     },
     "execution_count": 25,
     "metadata": {},
     "output_type": "execute_result"
    },
    {
     "data": {
      "image/png": "[encoded data removed]",
      "text/plain": [
       "<Figure size 432x288 with 1 Axes>"
      ]
     },
     "metadata": {},
     "output_type": "display_data"
    }
   ],
   "source": [
    "plt.plot(sentech_data.RH, sentech_data.Lightning_Warnings)\n",
    "plt.title('Lightning Warnings vs Relative Humidity')\n",
    "plt.xlabel('Relative Humidity (%)')\n",
    "plt.ylabel('Lightning Warnings')"
   ]
  },
  {
   "cell_type": "code",
   "execution_count": 26,
   "id": "20d4ad72",
   "metadata": {},
   "outputs": [
    {
     "data": {
      "text/plain": [
       "Text(0, 0.5, 'Lightning Warnings')"
      ]
     },
     "execution_count": 26,
     "metadata": {},
     "output_type": "execute_result"
    },
    {
     "data": {
      "image/png": "[encoded data removed]",
      "text/plain": [
       "<Figure size 432x288 with 1 Axes>"
      ]
     },
     "metadata": {},
     "output_type": "display_data"
    }
   ],
   "source": [
    "plt.plot(sentech_data.Efield, sentech_data.Lightning_Warnings)\n",
    "plt.title('Lightning Warnings vs Electric Field ')\n",
    "plt.xlabel('Electric Field (V/m)')\n",
    "plt.ylabel('Lightning Warnings')"
   ]
  },
  {
   "cell_type": "code",
   "execution_count": 27,
   "id": "97134c35",
   "metadata": {},
   "outputs": [
    {
     "data": {
      "text/plain": [
       "Text(0, 0.5, 'Lightning Warnings')"
      ]
     },
     "execution_count": 27,
     "metadata": {},
     "output_type": "execute_result"
    },
    {
     "data": {
      "image/png": "[encoded data removed]",
      "text/plain": [
       "<Figure size 432x288 with 1 Axes>"
      ]
     },
     "metadata": {},
     "output_type": "display_data"
    }
   ],
   "source": [
    "plt.plot(sentech_data.Air_temp, sentech_data.Lightning_Warnings)\n",
    "plt.title('Lightning Warnings vs Air Temperature')\n",
    "plt.xlabel('Temperature (C)')\n",
    "plt.ylabel('Lightning Warnings')"
   ]
  },
  {
   "cell_type": "code",
   "execution_count": 28,
   "id": "3aca51f0",
   "metadata": {},
   "outputs": [
    {
     "data": {
      "text/plain": [
       "Text(0, 0.5, 'Lightning Warnings')"
      ]
     },
     "execution_count": 28,
     "metadata": {},
     "output_type": "execute_result"
    },
    {
     "data": {
      "image/png": "[encoded data removed]",
      "text/plain": [
       "<Figure size 432x288 with 1 Axes>"
      ]
     },
     "metadata": {},
     "output_type": "display_data"
    }
   ],
   "source": [
    "plt.plot(sentech_data.DewPoint, sentech_data.Lightning_Warnings)\n",
    "plt.title('Lightning Warnings vs Dew Point ')\n",
    "plt.xlabel('Dew Point (C)')\n",
    "plt.ylabel('Lightning Warnings')"
   ]
  },
  {
   "cell_type": "code",
   "execution_count": null,
   "id": "f83339b9",
   "metadata": {},
   "outputs": [],
   "source": []
  },
  {
   "cell_type": "markdown",
   "id": "d1f5a8a9",
   "metadata": {},
   "source": [
    "**Convert date to Index**"
   ]
  },
  {
   "cell_type": "code",
   "execution_count": 29,
   "id": "e3a7ce41",
   "metadata": {},
   "outputs": [],
   "source": [
    "sentech_data.Date = pd.to_datetime(sentech_data.Date)"
   ]
  },
  {
   "cell_type": "code",
   "execution_count": 30,
   "id": "476403a6",
   "metadata": {},
   "outputs": [
    {
     "data": {
      "text/plain": [
       "count                            11410\n",
       "mean     2021-12-30 13:12:09.386503168\n",
       "min                2021-11-01 00:00:00\n",
       "25%                2021-11-30 20:33:45\n",
       "50%                2021-12-30 13:37:30\n",
       "75%                2022-01-29 06:41:15\n",
       "max                2022-02-27 23:45:00\n",
       "Name: Date, dtype: object"
      ]
     },
     "execution_count": 30,
     "metadata": {},
     "output_type": "execute_result"
    }
   ],
   "source": [
    "sentech_data.Date.describe(datetime_is_numeric=True)"
   ]
  },
  {
   "cell_type": "code",
   "execution_count": 31,
   "id": "bd171a74",
   "metadata": {},
   "outputs": [],
   "source": [
    "sentech_data.set_index(\"Date\", inplace=True)"
   ]
  },
  {
   "cell_type": "code",
   "execution_count": 32,
   "id": "86cf3875",
   "metadata": {},
   "outputs": [],
   "source": [
    "#Reverse train set to begin with most oldest date\n",
    "sentech_data= sentech_data.iloc[::-1]"
   ]
  },
  {
   "cell_type": "code",
   "execution_count": 33,
   "id": "457d323e",
   "metadata": {},
   "outputs": [
    {
     "data": {
      "text/html": [
       "<div>\n",
       "<style scoped>\n",
       "    .dataframe tbody tr th:only-of-type {\n",
       "        vertical-align: middle;\n",
       "    }\n",
       "\n",
       "    .dataframe tbody tr th {\n",
       "        vertical-align: top;\n",
       "    }\n",
       "\n",
       "    .dataframe thead th {\n",
       "        text-align: right;\n",
       "    }\n",
       "</style>\n",
       "<table border=\"1\" class=\"dataframe\">\n",
       "  <thead>\n",
       "    <tr style=\"text-align: right;\">\n",
       "      <th></th>\n",
       "      <th>Air_temp</th>\n",
       "      <th>RH</th>\n",
       "      <th>DewPoint</th>\n",
       "      <th>Rain</th>\n",
       "      <th>Pressure</th>\n",
       "      <th>Efield</th>\n",
       "      <th>Lightning_Warnings</th>\n",
       "      <th>Reset_secs</th>\n",
       "      <th>_Normalized_Efield</th>\n",
       "      <th>_Normalized_Warnings</th>\n",
       "    </tr>\n",
       "    <tr>\n",
       "      <th>Date</th>\n",
       "      <th></th>\n",
       "      <th></th>\n",
       "      <th></th>\n",
       "      <th></th>\n",
       "      <th></th>\n",
       "      <th></th>\n",
       "      <th></th>\n",
       "      <th></th>\n",
       "      <th></th>\n",
       "      <th></th>\n",
       "    </tr>\n",
       "  </thead>\n",
       "  <tbody>\n",
       "    <tr>\n",
       "      <th>2021-11-01 00:00:00</th>\n",
       "      <td>18.83013</td>\n",
       "      <td>44.34569</td>\n",
       "      <td>6.449132</td>\n",
       "      <td>0.0</td>\n",
       "      <td>823.9045</td>\n",
       "      <td>-31.68846</td>\n",
       "      <td>0</td>\n",
       "      <td>0</td>\n",
       "      <td>-0.001249</td>\n",
       "      <td>0.0</td>\n",
       "    </tr>\n",
       "    <tr>\n",
       "      <th>2021-11-01 00:15:00</th>\n",
       "      <td>15.88538</td>\n",
       "      <td>60.16803</td>\n",
       "      <td>8.188042</td>\n",
       "      <td>0.0</td>\n",
       "      <td>824.1832</td>\n",
       "      <td>-23.84491</td>\n",
       "      <td>0</td>\n",
       "      <td>0</td>\n",
       "      <td>-0.000939</td>\n",
       "      <td>0.0</td>\n",
       "    </tr>\n",
       "    <tr>\n",
       "      <th>2021-11-01 00:30:00</th>\n",
       "      <td>15.17229</td>\n",
       "      <td>67.91439</td>\n",
       "      <td>9.302760</td>\n",
       "      <td>0.0</td>\n",
       "      <td>824.1583</td>\n",
       "      <td>-23.84614</td>\n",
       "      <td>0</td>\n",
       "      <td>0</td>\n",
       "      <td>-0.000940</td>\n",
       "      <td>0.0</td>\n",
       "    </tr>\n",
       "    <tr>\n",
       "      <th>2021-11-01 00:45:00</th>\n",
       "      <td>14.64727</td>\n",
       "      <td>71.04126</td>\n",
       "      <td>9.468879</td>\n",
       "      <td>0.0</td>\n",
       "      <td>824.1239</td>\n",
       "      <td>-23.22135</td>\n",
       "      <td>0</td>\n",
       "      <td>0</td>\n",
       "      <td>-0.000915</td>\n",
       "      <td>0.0</td>\n",
       "    </tr>\n",
       "    <tr>\n",
       "      <th>2021-11-01 01:00:00</th>\n",
       "      <td>14.49834</td>\n",
       "      <td>72.94492</td>\n",
       "      <td>9.719332</td>\n",
       "      <td>0.0</td>\n",
       "      <td>823.9849</td>\n",
       "      <td>-23.84927</td>\n",
       "      <td>0</td>\n",
       "      <td>0</td>\n",
       "      <td>-0.000940</td>\n",
       "      <td>0.0</td>\n",
       "    </tr>\n",
       "    <tr>\n",
       "      <th>...</th>\n",
       "      <td>...</td>\n",
       "      <td>...</td>\n",
       "      <td>...</td>\n",
       "      <td>...</td>\n",
       "      <td>...</td>\n",
       "      <td>...</td>\n",
       "      <td>...</td>\n",
       "      <td>...</td>\n",
       "      <td>...</td>\n",
       "      <td>...</td>\n",
       "    </tr>\n",
       "    <tr>\n",
       "      <th>2022-02-27 22:45:00</th>\n",
       "      <td>16.28638</td>\n",
       "      <td>76.22140</td>\n",
       "      <td>12.107980</td>\n",
       "      <td>0.0</td>\n",
       "      <td>827.9321</td>\n",
       "      <td>-14.43517</td>\n",
       "      <td>0</td>\n",
       "      <td>0</td>\n",
       "      <td>-0.000569</td>\n",
       "      <td>0.0</td>\n",
       "    </tr>\n",
       "    <tr>\n",
       "      <th>2022-02-27 23:00:00</th>\n",
       "      <td>15.94644</td>\n",
       "      <td>79.59342</td>\n",
       "      <td>12.436280</td>\n",
       "      <td>0.0</td>\n",
       "      <td>827.6857</td>\n",
       "      <td>-15.37659</td>\n",
       "      <td>0</td>\n",
       "      <td>0</td>\n",
       "      <td>-0.000606</td>\n",
       "      <td>0.0</td>\n",
       "    </tr>\n",
       "    <tr>\n",
       "      <th>2022-02-27 23:15:00</th>\n",
       "      <td>15.81320</td>\n",
       "      <td>81.01760</td>\n",
       "      <td>12.576650</td>\n",
       "      <td>0.0</td>\n",
       "      <td>827.6407</td>\n",
       "      <td>-17.25920</td>\n",
       "      <td>0</td>\n",
       "      <td>0</td>\n",
       "      <td>-0.000680</td>\n",
       "      <td>0.0</td>\n",
       "    </tr>\n",
       "    <tr>\n",
       "      <th>2022-02-27 23:30:00</th>\n",
       "      <td>15.98598</td>\n",
       "      <td>82.16581</td>\n",
       "      <td>12.960260</td>\n",
       "      <td>0.0</td>\n",
       "      <td>827.4928</td>\n",
       "      <td>-17.88704</td>\n",
       "      <td>0</td>\n",
       "      <td>0</td>\n",
       "      <td>-0.000705</td>\n",
       "      <td>0.0</td>\n",
       "    </tr>\n",
       "    <tr>\n",
       "      <th>2022-02-27 23:45:00</th>\n",
       "      <td>15.31052</td>\n",
       "      <td>85.83740</td>\n",
       "      <td>12.966850</td>\n",
       "      <td>0.0</td>\n",
       "      <td>827.4857</td>\n",
       "      <td>-16.63182</td>\n",
       "      <td>0</td>\n",
       "      <td>0</td>\n",
       "      <td>-0.000655</td>\n",
       "      <td>0.0</td>\n",
       "    </tr>\n",
       "  </tbody>\n",
       "</table>\n",
       "<p>11410 rows × 10 columns</p>\n",
       "</div>"
      ],
      "text/plain": [
       "                     Air_temp        RH   DewPoint  Rain  Pressure    Efield  \\\n",
       "Date                                                                           \n",
       "2021-11-01 00:00:00  18.83013  44.34569   6.449132   0.0  823.9045 -31.68846   \n",
       "2021-11-01 00:15:00  15.88538  60.16803   8.188042   0.0  824.1832 -23.84491   \n",
       "2021-11-01 00:30:00  15.17229  67.91439   9.302760   0.0  824.1583 -23.84614   \n",
       "2021-11-01 00:45:00  14.64727  71.04126   9.468879   0.0  824.1239 -23.22135   \n",
       "2021-11-01 01:00:00  14.49834  72.94492   9.719332   0.0  823.9849 -23.84927   \n",
       "...                       ...       ...        ...   ...       ...       ...   \n",
       "2022-02-27 22:45:00  16.28638  76.22140  12.107980   0.0  827.9321 -14.43517   \n",
       "2022-02-27 23:00:00  15.94644  79.59342  12.436280   0.0  827.6857 -15.37659   \n",
       "2022-02-27 23:15:00  15.81320  81.01760  12.576650   0.0  827.6407 -17.25920   \n",
       "2022-02-27 23:30:00  15.98598  82.16581  12.960260   0.0  827.4928 -17.88704   \n",
       "2022-02-27 23:45:00  15.31052  85.83740  12.966850   0.0  827.4857 -16.63182   \n",
       "\n",
       "                     Lightning_Warnings  Reset_secs  _Normalized_Efield  \\\n",
       "Date                                                                      \n",
       "2021-11-01 00:00:00                   0           0           -0.001249   \n",
       "2021-11-01 00:15:00                   0           0           -0.000939   \n",
       "2021-11-01 00:30:00                   0           0           -0.000940   \n",
       "2021-11-01 00:45:00                   0           0           -0.000915   \n",
       "2021-11-01 01:00:00                   0           0           -0.000940   \n",
       "...                                 ...         ...                 ...   \n",
       "2022-02-27 22:45:00                   0           0           -0.000569   \n",
       "2022-02-27 23:00:00                   0           0           -0.000606   \n",
       "2022-02-27 23:15:00                   0           0           -0.000680   \n",
       "2022-02-27 23:30:00                   0           0           -0.000705   \n",
       "2022-02-27 23:45:00                   0           0           -0.000655   \n",
       "\n",
       "                     _Normalized_Warnings  \n",
       "Date                                       \n",
       "2021-11-01 00:00:00                   0.0  \n",
       "2021-11-01 00:15:00                   0.0  \n",
       "2021-11-01 00:30:00                   0.0  \n",
       "2021-11-01 00:45:00                   0.0  \n",
       "2021-11-01 01:00:00                   0.0  \n",
       "...                                   ...  \n",
       "2022-02-27 22:45:00                   0.0  \n",
       "2022-02-27 23:00:00                   0.0  \n",
       "2022-02-27 23:15:00                   0.0  \n",
       "2022-02-27 23:30:00                   0.0  \n",
       "2022-02-27 23:45:00                   0.0  \n",
       "\n",
       "[11410 rows x 10 columns]"
      ]
     },
     "execution_count": 33,
     "metadata": {},
     "output_type": "execute_result"
    }
   ],
   "source": [
    "sentech_data"
   ]
  },
  {
   "cell_type": "markdown",
   "id": "12be3df5",
   "metadata": {},
   "source": [
    "**Setting the desired frequency (15 min intervals)**"
   ]
  },
  {
   "cell_type": "code",
   "execution_count": 34,
   "id": "672863c4",
   "metadata": {},
   "outputs": [],
   "source": [
    "sentech_data=sentech_data.asfreq('900s')"
   ]
  },
  {
   "cell_type": "markdown",
   "id": "cd97d1d2",
   "metadata": {},
   "source": [
    "**Handling Missing Values**"
   ]
  },
  {
   "cell_type": "code",
   "execution_count": 35,
   "id": "7e313428",
   "metadata": {},
   "outputs": [
    {
     "data": {
      "text/plain": [
       "Air_temp                14\n",
       "RH                      14\n",
       "DewPoint                14\n",
       "Rain                    14\n",
       "Pressure                14\n",
       "Efield                  14\n",
       "Lightning_Warnings      14\n",
       "Reset_secs              14\n",
       "_Normalized_Efield      14\n",
       "_Normalized_Warnings    14\n",
       "dtype: int64"
      ]
     },
     "execution_count": 35,
     "metadata": {},
     "output_type": "execute_result"
    }
   ],
   "source": [
    "sentech_data.isna().sum()"
   ]
  },
  {
   "cell_type": "code",
   "execution_count": 36,
   "id": "a03d1e87",
   "metadata": {},
   "outputs": [],
   "source": [
    "sentech_data.Air_temp=sentech_data.Air_temp.fillna(method='bfill')"
   ]
  },
  {
   "cell_type": "code",
   "execution_count": 37,
   "id": "f3cf974f",
   "metadata": {},
   "outputs": [],
   "source": [
    "sentech_data.RH=sentech_data.RH.fillna(method='bfill')"
   ]
  },
  {
   "cell_type": "code",
   "execution_count": 38,
   "id": "3b25d9b4",
   "metadata": {},
   "outputs": [],
   "source": [
    "sentech_data.DewPoint=sentech_data.DewPoint.fillna(method='bfill')"
   ]
  },
  {
   "cell_type": "code",
   "execution_count": 39,
   "id": "bbd31d34",
   "metadata": {},
   "outputs": [],
   "source": [
    "sentech_data.Pressure=sentech_data.Pressure.fillna(method='bfill')"
   ]
  },
  {
   "cell_type": "code",
   "execution_count": 40,
   "id": "6b81044b",
   "metadata": {},
   "outputs": [],
   "source": [
    "sentech_data.Efield=sentech_data.Efield.fillna(method='bfill')"
   ]
  },
  {
   "cell_type": "code",
   "execution_count": 41,
   "id": "95c2eb1f",
   "metadata": {},
   "outputs": [],
   "source": [
    "sentech_data.Lightning_Warnings=sentech_data.Lightning_Warnings.fillna(method='bfill')"
   ]
  },
  {
   "cell_type": "code",
   "execution_count": 42,
   "id": "cf1e93af",
   "metadata": {},
   "outputs": [],
   "source": [
    "sentech_data.Rain=sentech_data.Rain.fillna(method='bfill')"
   ]
  },
  {
   "cell_type": "code",
   "execution_count": 43,
   "id": "11341251",
   "metadata": {},
   "outputs": [],
   "source": [
    "sentech_data.Reset_secs=sentech_data.Reset_secs.fillna(method='bfill')"
   ]
  },
  {
   "cell_type": "code",
   "execution_count": 44,
   "id": "69a36fc9",
   "metadata": {},
   "outputs": [],
   "source": [
    "sentech_data._Normalized_Efield=sentech_data._Normalized_Efield .fillna(method='bfill')"
   ]
  },
  {
   "cell_type": "code",
   "execution_count": 45,
   "id": "7f24a3c0",
   "metadata": {},
   "outputs": [],
   "source": [
    "sentech_data._Normalized_Warnings=sentech_data._Normalized_Warnings .fillna(method='bfill')"
   ]
  },
  {
   "cell_type": "code",
   "execution_count": 46,
   "id": "8f082efa",
   "metadata": {},
   "outputs": [
    {
     "data": {
      "text/plain": [
       "Air_temp                0\n",
       "RH                      0\n",
       "DewPoint                0\n",
       "Rain                    0\n",
       "Pressure                0\n",
       "Efield                  0\n",
       "Lightning_Warnings      0\n",
       "Reset_secs              0\n",
       "_Normalized_Efield      0\n",
       "_Normalized_Warnings    0\n",
       "dtype: int64"
      ]
     },
     "execution_count": 46,
     "metadata": {},
     "output_type": "execute_result"
    }
   ],
   "source": [
    "sentech_data.isna().sum()"
   ]
  },
  {
   "cell_type": "code",
   "execution_count": null,
   "id": "71fd33ca",
   "metadata": {},
   "outputs": [],
   "source": []
  },
  {
   "cell_type": "markdown",
   "id": "994a69ec",
   "metadata": {},
   "source": [
    "**More Sophisticated Data Exploration**"
   ]
  },
  {
   "cell_type": "code",
   "execution_count": 47,
   "id": "eccb6944",
   "metadata": {},
   "outputs": [
    {
     "data": {
      "text/plain": [
       "(1239, 10)"
      ]
     },
     "execution_count": 47,
     "metadata": {},
     "output_type": "execute_result"
    }
   ],
   "source": [
    "##Total Number of lightning warnings\n",
    "warning = sentech_data[sentech_data.Lightning_Warnings==1]\n",
    "warning.shape"
   ]
  },
  {
   "cell_type": "code",
   "execution_count": 48,
   "id": "f1e6d9e4",
   "metadata": {},
   "outputs": [
    {
     "data": {
      "text/plain": [
       "(10185, 10)"
      ]
     },
     "execution_count": 48,
     "metadata": {},
     "output_type": "execute_result"
    }
   ],
   "source": [
    "##NO Lightning Warning Given\n",
    "normal_condition = sentech_data[sentech_data.Lightning_Warnings==0]\n",
    "normal_condition.shape"
   ]
  },
  {
   "cell_type": "markdown",
   "id": "7ac57099",
   "metadata": {},
   "source": [
    "Average of all columns per wether there is lighning or not"
   ]
  },
  {
   "cell_type": "code",
   "execution_count": 49,
   "id": "bdc51f71",
   "metadata": {},
   "outputs": [
    {
     "data": {
      "text/html": [
       "<div>\n",
       "<style scoped>\n",
       "    .dataframe tbody tr th:only-of-type {\n",
       "        vertical-align: middle;\n",
       "    }\n",
       "\n",
       "    .dataframe tbody tr th {\n",
       "        vertical-align: top;\n",
       "    }\n",
       "\n",
       "    .dataframe thead th {\n",
       "        text-align: right;\n",
       "    }\n",
       "</style>\n",
       "<table border=\"1\" class=\"dataframe\">\n",
       "  <thead>\n",
       "    <tr style=\"text-align: right;\">\n",
       "      <th></th>\n",
       "      <th>Air_temp</th>\n",
       "      <th>RH</th>\n",
       "      <th>DewPoint</th>\n",
       "      <th>Rain</th>\n",
       "      <th>Pressure</th>\n",
       "      <th>Efield</th>\n",
       "      <th>Reset_secs</th>\n",
       "      <th>_Normalized_Efield</th>\n",
       "      <th>_Normalized_Warnings</th>\n",
       "    </tr>\n",
       "    <tr>\n",
       "      <th>Lightning_Warnings</th>\n",
       "      <th></th>\n",
       "      <th></th>\n",
       "      <th></th>\n",
       "      <th></th>\n",
       "      <th></th>\n",
       "      <th></th>\n",
       "      <th></th>\n",
       "      <th></th>\n",
       "      <th></th>\n",
       "    </tr>\n",
       "  </thead>\n",
       "  <tbody>\n",
       "    <tr>\n",
       "      <th>0.0</th>\n",
       "      <td>18.873257</td>\n",
       "      <td>70.585354</td>\n",
       "      <td>12.664526</td>\n",
       "      <td>0.000000</td>\n",
       "      <td>825.271119</td>\n",
       "      <td>-31.905660</td>\n",
       "      <td>0.000000</td>\n",
       "      <td>-0.001257</td>\n",
       "      <td>0.00000</td>\n",
       "    </tr>\n",
       "    <tr>\n",
       "      <th>1.0</th>\n",
       "      <td>16.968407</td>\n",
       "      <td>84.203604</td>\n",
       "      <td>13.918395</td>\n",
       "      <td>0.000323</td>\n",
       "      <td>826.697096</td>\n",
       "      <td>78.821091</td>\n",
       "      <td>2895.673931</td>\n",
       "      <td>0.003106</td>\n",
       "      <td>0.02841</td>\n",
       "    </tr>\n",
       "  </tbody>\n",
       "</table>\n",
       "</div>"
      ],
      "text/plain": [
       "                     Air_temp         RH   DewPoint      Rain    Pressure  \\\n",
       "Lightning_Warnings                                                          \n",
       "0.0                 18.873257  70.585354  12.664526  0.000000  825.271119   \n",
       "1.0                 16.968407  84.203604  13.918395  0.000323  826.697096   \n",
       "\n",
       "                       Efield   Reset_secs  _Normalized_Efield  \\\n",
       "Lightning_Warnings                                               \n",
       "0.0                -31.905660     0.000000           -0.001257   \n",
       "1.0                 78.821091  2895.673931            0.003106   \n",
       "\n",
       "                    _Normalized_Warnings  \n",
       "Lightning_Warnings                        \n",
       "0.0                              0.00000  \n",
       "1.0                              0.02841  "
      ]
     },
     "execution_count": 49,
     "metadata": {},
     "output_type": "execute_result"
    }
   ],
   "source": [
    "sentech_data.groupby('Lightning_Warnings').mean()"
   ]
  },
  {
   "cell_type": "code",
   "execution_count": null,
   "id": "98fdd49a",
   "metadata": {},
   "outputs": [],
   "source": []
  },
  {
   "cell_type": "markdown",
   "id": "7267b5f7",
   "metadata": {},
   "source": [
    "**CORRELATIONS**"
   ]
  },
  {
   "cell_type": "code",
   "execution_count": 50,
   "id": "3b74587f",
   "metadata": {},
   "outputs": [
    {
     "data": {
      "text/html": [
       "<div>\n",
       "<style scoped>\n",
       "    .dataframe tbody tr th:only-of-type {\n",
       "        vertical-align: middle;\n",
       "    }\n",
       "\n",
       "    .dataframe tbody tr th {\n",
       "        vertical-align: top;\n",
       "    }\n",
       "\n",
       "    .dataframe thead th {\n",
       "        text-align: right;\n",
       "    }\n",
       "</style>\n",
       "<table border=\"1\" class=\"dataframe\">\n",
       "  <thead>\n",
       "    <tr style=\"text-align: right;\">\n",
       "      <th></th>\n",
       "      <th>Air_temp</th>\n",
       "      <th>RH</th>\n",
       "      <th>DewPoint</th>\n",
       "      <th>Rain</th>\n",
       "      <th>Pressure</th>\n",
       "      <th>Efield</th>\n",
       "      <th>Lightning_Warnings</th>\n",
       "      <th>Reset_secs</th>\n",
       "      <th>_Normalized_Efield</th>\n",
       "      <th>_Normalized_Warnings</th>\n",
       "    </tr>\n",
       "  </thead>\n",
       "  <tbody>\n",
       "    <tr>\n",
       "      <th>Air_temp</th>\n",
       "      <td>1.000000</td>\n",
       "      <td>-0.787702</td>\n",
       "      <td>-0.077273</td>\n",
       "      <td>-0.015733</td>\n",
       "      <td>0.167639</td>\n",
       "      <td>-0.039332</td>\n",
       "      <td>-0.148976</td>\n",
       "      <td>-0.142931</td>\n",
       "      <td>-0.039332</td>\n",
       "      <td>-0.148976</td>\n",
       "    </tr>\n",
       "    <tr>\n",
       "      <th>RH</th>\n",
       "      <td>-0.787702</td>\n",
       "      <td>1.000000</td>\n",
       "      <td>0.612915</td>\n",
       "      <td>0.010354</td>\n",
       "      <td>0.154772</td>\n",
       "      <td>0.054286</td>\n",
       "      <td>0.206212</td>\n",
       "      <td>0.197879</td>\n",
       "      <td>0.054286</td>\n",
       "      <td>0.206212</td>\n",
       "    </tr>\n",
       "    <tr>\n",
       "      <th>DewPoint</th>\n",
       "      <td>-0.077273</td>\n",
       "      <td>0.612915</td>\n",
       "      <td>1.000000</td>\n",
       "      <td>-0.003409</td>\n",
       "      <td>0.166715</td>\n",
       "      <td>0.036891</td>\n",
       "      <td>0.124441</td>\n",
       "      <td>0.119576</td>\n",
       "      <td>0.036891</td>\n",
       "      <td>0.124441</td>\n",
       "    </tr>\n",
       "    <tr>\n",
       "      <th>Rain</th>\n",
       "      <td>-0.015733</td>\n",
       "      <td>0.010354</td>\n",
       "      <td>-0.003409</td>\n",
       "      <td>1.000000</td>\n",
       "      <td>0.000342</td>\n",
       "      <td>-0.050214</td>\n",
       "      <td>0.037939</td>\n",
       "      <td>0.045078</td>\n",
       "      <td>-0.050214</td>\n",
       "      <td>0.037939</td>\n",
       "    </tr>\n",
       "    <tr>\n",
       "      <th>Pressure</th>\n",
       "      <td>0.167639</td>\n",
       "      <td>0.154772</td>\n",
       "      <td>0.166715</td>\n",
       "      <td>0.000342</td>\n",
       "      <td>1.000000</td>\n",
       "      <td>-0.002614</td>\n",
       "      <td>0.013494</td>\n",
       "      <td>0.012914</td>\n",
       "      <td>-0.002614</td>\n",
       "      <td>0.013494</td>\n",
       "    </tr>\n",
       "    <tr>\n",
       "      <th>Efield</th>\n",
       "      <td>-0.039332</td>\n",
       "      <td>0.054286</td>\n",
       "      <td>0.036891</td>\n",
       "      <td>-0.050214</td>\n",
       "      <td>-0.002614</td>\n",
       "      <td>1.000000</td>\n",
       "      <td>0.145507</td>\n",
       "      <td>0.170194</td>\n",
       "      <td>1.000000</td>\n",
       "      <td>0.145507</td>\n",
       "    </tr>\n",
       "    <tr>\n",
       "      <th>Lightning_Warnings</th>\n",
       "      <td>-0.148976</td>\n",
       "      <td>0.206212</td>\n",
       "      <td>0.124441</td>\n",
       "      <td>0.037939</td>\n",
       "      <td>0.013494</td>\n",
       "      <td>0.145507</td>\n",
       "      <td>1.000000</td>\n",
       "      <td>0.933489</td>\n",
       "      <td>0.145507</td>\n",
       "      <td>1.000000</td>\n",
       "    </tr>\n",
       "    <tr>\n",
       "      <th>Reset_secs</th>\n",
       "      <td>-0.142931</td>\n",
       "      <td>0.197879</td>\n",
       "      <td>0.119576</td>\n",
       "      <td>0.045078</td>\n",
       "      <td>0.012914</td>\n",
       "      <td>0.170194</td>\n",
       "      <td>0.933489</td>\n",
       "      <td>1.000000</td>\n",
       "      <td>0.170194</td>\n",
       "      <td>0.933489</td>\n",
       "    </tr>\n",
       "    <tr>\n",
       "      <th>_Normalized_Efield</th>\n",
       "      <td>-0.039332</td>\n",
       "      <td>0.054286</td>\n",
       "      <td>0.036891</td>\n",
       "      <td>-0.050214</td>\n",
       "      <td>-0.002614</td>\n",
       "      <td>1.000000</td>\n",
       "      <td>0.145507</td>\n",
       "      <td>0.170194</td>\n",
       "      <td>1.000000</td>\n",
       "      <td>0.145507</td>\n",
       "    </tr>\n",
       "    <tr>\n",
       "      <th>_Normalized_Warnings</th>\n",
       "      <td>-0.148976</td>\n",
       "      <td>0.206212</td>\n",
       "      <td>0.124441</td>\n",
       "      <td>0.037939</td>\n",
       "      <td>0.013494</td>\n",
       "      <td>0.145507</td>\n",
       "      <td>1.000000</td>\n",
       "      <td>0.933489</td>\n",
       "      <td>0.145507</td>\n",
       "      <td>1.000000</td>\n",
       "    </tr>\n",
       "  </tbody>\n",
       "</table>\n",
       "</div>"
      ],
      "text/plain": [
       "                      Air_temp        RH  DewPoint      Rain  Pressure  \\\n",
       "Air_temp              1.000000 -0.787702 -0.077273 -0.015733  0.167639   \n",
       "RH                   -0.787702  1.000000  0.612915  0.010354  0.154772   \n",
       "DewPoint             -0.077273  0.612915  1.000000 -0.003409  0.166715   \n",
       "Rain                 -0.015733  0.010354 -0.003409  1.000000  0.000342   \n",
       "Pressure              0.167639  0.154772  0.166715  0.000342  1.000000   \n",
       "Efield               -0.039332  0.054286  0.036891 -0.050214 -0.002614   \n",
       "Lightning_Warnings   -0.148976  0.206212  0.124441  0.037939  0.013494   \n",
       "Reset_secs           -0.142931  0.197879  0.119576  0.045078  0.012914   \n",
       "_Normalized_Efield   -0.039332  0.054286  0.036891 -0.050214 -0.002614   \n",
       "_Normalized_Warnings -0.148976  0.206212  0.124441  0.037939  0.013494   \n",
       "\n",
       "                        Efield  Lightning_Warnings  Reset_secs  \\\n",
       "Air_temp             -0.039332           -0.148976   -0.142931   \n",
       "RH                    0.054286            0.206212    0.197879   \n",
       "DewPoint              0.036891            0.124441    0.119576   \n",
       "Rain                 -0.050214            0.037939    0.045078   \n",
       "Pressure             -0.002614            0.013494    0.012914   \n",
       "Efield                1.000000            0.145507    0.170194   \n",
       "Lightning_Warnings    0.145507            1.000000    0.933489   \n",
       "Reset_secs            0.170194            0.933489    1.000000   \n",
       "_Normalized_Efield    1.000000            0.145507    0.170194   \n",
       "_Normalized_Warnings  0.145507            1.000000    0.933489   \n",
       "\n",
       "                      _Normalized_Efield  _Normalized_Warnings  \n",
       "Air_temp                       -0.039332             -0.148976  \n",
       "RH                              0.054286              0.206212  \n",
       "DewPoint                        0.036891              0.124441  \n",
       "Rain                           -0.050214              0.037939  \n",
       "Pressure                       -0.002614              0.013494  \n",
       "Efield                          1.000000              0.145507  \n",
       "Lightning_Warnings              0.145507              1.000000  \n",
       "Reset_secs                      0.170194              0.933489  \n",
       "_Normalized_Efield              1.000000              0.145507  \n",
       "_Normalized_Warnings            0.145507              1.000000  "
      ]
     },
     "execution_count": 50,
     "metadata": {},
     "output_type": "execute_result"
    }
   ],
   "source": [
    "sentech_data.corr()"
   ]
  },
  {
   "cell_type": "code",
   "execution_count": 51,
   "id": "4d9c045c",
   "metadata": {},
   "outputs": [
    {
     "name": "stdout",
     "output_type": "stream",
     "text": [
      "            t       t+1       t+2       t+3\n",
      "t    1.000000  0.904037  0.810789  0.726595\n",
      "t+1  0.904037  1.000000  0.904038  0.810791\n",
      "t+2  0.810789  0.904038  1.000000  0.904039\n",
      "t+3  0.726595  0.810791  0.904039  1.000000\n"
     ]
    }
   ],
   "source": [
    "#Correlation Matrix- Self Correlation\n",
    "# using shift function to shift the values.\n",
    "values= pd.DataFrame(sentech_data.Lightning_Warnings)\n",
    "\n",
    "dataframe = pd.concat([values.shift(3), values.shift(2),\n",
    "                       values.shift(1), values], axis=1)\n",
    "# naming the columns\n",
    "dataframe.columns = ['t', 't+1', 't+2', 't+3']\n",
    " \n",
    "# using corr() function to compute the correlation\n",
    "result = dataframe.corr()\n",
    " \n",
    "print(result)"
   ]
  },
  {
   "cell_type": "markdown",
   "id": "d12d2fe7",
   "metadata": {},
   "source": [
    "**Simplyifying the data set**"
   ]
  },
  {
   "cell_type": "code",
   "execution_count": 52,
   "id": "e475399c",
   "metadata": {},
   "outputs": [],
   "source": [
    "# Create a new column extracted from sentech tower\n",
    "sentech_data['warnings']=sentech_data.Lightning_Warnings"
   ]
  },
  {
   "cell_type": "code",
   "execution_count": 53,
   "id": "b97a9336",
   "metadata": {},
   "outputs": [],
   "source": [
    "#Delete the other columns\n",
    "del sentech_data['Air_temp']\n",
    "del sentech_data['DewPoint']\n",
    "del sentech_data['Rain']\n",
    "del sentech_data['Pressure']\n",
    "del sentech_data['Lightning_Warnings']\n",
    "del sentech_data['Reset_secs']\n",
    "del sentech_data['_Normalized_Warnings']\n",
    "del sentech_data['Efield']\n",
    "del sentech_data['_Normalized_Efield']"
   ]
  },
  {
   "cell_type": "code",
   "execution_count": 54,
   "id": "8ade0017",
   "metadata": {},
   "outputs": [
    {
     "data": {
      "text/html": [
       "<div>\n",
       "<style scoped>\n",
       "    .dataframe tbody tr th:only-of-type {\n",
       "        vertical-align: middle;\n",
       "    }\n",
       "\n",
       "    .dataframe tbody tr th {\n",
       "        vertical-align: top;\n",
       "    }\n",
       "\n",
       "    .dataframe thead th {\n",
       "        text-align: right;\n",
       "    }\n",
       "</style>\n",
       "<table border=\"1\" class=\"dataframe\">\n",
       "  <thead>\n",
       "    <tr style=\"text-align: right;\">\n",
       "      <th></th>\n",
       "      <th>RH</th>\n",
       "      <th>warnings</th>\n",
       "    </tr>\n",
       "    <tr>\n",
       "      <th>Date</th>\n",
       "      <th></th>\n",
       "      <th></th>\n",
       "    </tr>\n",
       "  </thead>\n",
       "  <tbody>\n",
       "    <tr>\n",
       "      <th>2021-11-01 00:00:00</th>\n",
       "      <td>44.34569</td>\n",
       "      <td>0.0</td>\n",
       "    </tr>\n",
       "    <tr>\n",
       "      <th>2021-11-01 00:15:00</th>\n",
       "      <td>60.16803</td>\n",
       "      <td>0.0</td>\n",
       "    </tr>\n",
       "    <tr>\n",
       "      <th>2021-11-01 00:30:00</th>\n",
       "      <td>67.91439</td>\n",
       "      <td>0.0</td>\n",
       "    </tr>\n",
       "    <tr>\n",
       "      <th>2021-11-01 00:45:00</th>\n",
       "      <td>71.04126</td>\n",
       "      <td>0.0</td>\n",
       "    </tr>\n",
       "    <tr>\n",
       "      <th>2021-11-01 01:00:00</th>\n",
       "      <td>72.94492</td>\n",
       "      <td>0.0</td>\n",
       "    </tr>\n",
       "    <tr>\n",
       "      <th>...</th>\n",
       "      <td>...</td>\n",
       "      <td>...</td>\n",
       "    </tr>\n",
       "    <tr>\n",
       "      <th>2022-02-27 22:45:00</th>\n",
       "      <td>76.22140</td>\n",
       "      <td>0.0</td>\n",
       "    </tr>\n",
       "    <tr>\n",
       "      <th>2022-02-27 23:00:00</th>\n",
       "      <td>79.59342</td>\n",
       "      <td>0.0</td>\n",
       "    </tr>\n",
       "    <tr>\n",
       "      <th>2022-02-27 23:15:00</th>\n",
       "      <td>81.01760</td>\n",
       "      <td>0.0</td>\n",
       "    </tr>\n",
       "    <tr>\n",
       "      <th>2022-02-27 23:30:00</th>\n",
       "      <td>82.16581</td>\n",
       "      <td>0.0</td>\n",
       "    </tr>\n",
       "    <tr>\n",
       "      <th>2022-02-27 23:45:00</th>\n",
       "      <td>85.83740</td>\n",
       "      <td>0.0</td>\n",
       "    </tr>\n",
       "  </tbody>\n",
       "</table>\n",
       "<p>11424 rows × 2 columns</p>\n",
       "</div>"
      ],
      "text/plain": [
       "                           RH  warnings\n",
       "Date                                   \n",
       "2021-11-01 00:00:00  44.34569       0.0\n",
       "2021-11-01 00:15:00  60.16803       0.0\n",
       "2021-11-01 00:30:00  67.91439       0.0\n",
       "2021-11-01 00:45:00  71.04126       0.0\n",
       "2021-11-01 01:00:00  72.94492       0.0\n",
       "...                       ...       ...\n",
       "2022-02-27 22:45:00  76.22140       0.0\n",
       "2022-02-27 23:00:00  79.59342       0.0\n",
       "2022-02-27 23:15:00  81.01760       0.0\n",
       "2022-02-27 23:30:00  82.16581       0.0\n",
       "2022-02-27 23:45:00  85.83740       0.0\n",
       "\n",
       "[11424 rows x 2 columns]"
      ]
     },
     "execution_count": 54,
     "metadata": {},
     "output_type": "execute_result"
    }
   ],
   "source": [
    "sentech_data"
   ]
  },
  {
   "cell_type": "markdown",
   "id": "ddaac1fb",
   "metadata": {},
   "source": [
    "**Splitting the data set**"
   ]
  },
  {
   "cell_type": "code",
   "execution_count": 55,
   "id": "2309fe14",
   "metadata": {},
   "outputs": [],
   "source": [
    "size_total = int(len(sentech_data))"
   ]
  },
  {
   "cell_type": "code",
   "execution_count": 56,
   "id": "68e6ed65",
   "metadata": {},
   "outputs": [
    {
     "name": "stdout",
     "output_type": "stream",
     "text": [
      "total data size:  11424\n"
     ]
    }
   ],
   "source": [
    "print('total data size: ', size_total)"
   ]
  },
  {
   "cell_type": "code",
   "execution_count": 57,
   "id": "d3058d8c",
   "metadata": {},
   "outputs": [],
   "source": [
    "#Determine the size of 80% in total data set\n",
    "size_train = int(len(sentech_data)*0.75)"
   ]
  },
  {
   "cell_type": "code",
   "execution_count": 58,
   "id": "8acd04a1",
   "metadata": {},
   "outputs": [
    {
     "name": "stdout",
     "output_type": "stream",
     "text": [
      "total data size:  8568\n"
     ]
    }
   ],
   "source": [
    "print('total data size: ', size_train)"
   ]
  },
  {
   "cell_type": "code",
   "execution_count": 59,
   "id": "69ff6fd0",
   "metadata": {},
   "outputs": [],
   "source": [
    "df_train = sentech_data.iloc[:size_train]"
   ]
  },
  {
   "cell_type": "code",
   "execution_count": 60,
   "id": "c2f1533e",
   "metadata": {},
   "outputs": [],
   "source": [
    "#Export train set as csv file\n",
    "df_train.to_csv('train_dataframe.csv')"
   ]
  },
  {
   "cell_type": "code",
   "execution_count": 61,
   "id": "6aaa81a6",
   "metadata": {},
   "outputs": [],
   "source": [
    "#Determine the size of 5% in total data set\n",
    "size_validate = int(len(sentech_data)*0.05)"
   ]
  },
  {
   "cell_type": "code",
   "execution_count": 62,
   "id": "c76abcff",
   "metadata": {},
   "outputs": [],
   "source": [
    "df_validate = sentech_data.iloc[size_train:(size_train+size_validate) ]"
   ]
  },
  {
   "cell_type": "code",
   "execution_count": 63,
   "id": "2623f2a1",
   "metadata": {},
   "outputs": [],
   "source": [
    "#Export test set as csv file\n",
    "df_validate.to_csv('Validate_dataframe.csv')"
   ]
  },
  {
   "cell_type": "code",
   "execution_count": 64,
   "id": "58747193",
   "metadata": {},
   "outputs": [],
   "source": [
    "df_test = sentech_data.iloc[(size_train+size_validate):]"
   ]
  },
  {
   "cell_type": "code",
   "execution_count": 65,
   "id": "870e2a9a",
   "metadata": {},
   "outputs": [],
   "source": [
    "df_test.to_csv('Test_dataframe.csv')"
   ]
  },
  {
   "cell_type": "code",
   "execution_count": null,
   "id": "a0c828c4",
   "metadata": {},
   "outputs": [],
   "source": []
  },
  {
   "cell_type": "markdown",
   "id": "1e4fd17f",
   "metadata": {},
   "source": [
    "**Do it for the Logistic Model- Split Data**"
   ]
  },
  {
   "cell_type": "code",
   "execution_count": 66,
   "id": "2d33a025",
   "metadata": {},
   "outputs": [],
   "source": [
    "X_train= pd.read_csv(\"train_dataframe.csv\")\n",
    "y_train= pd.read_csv(\"train_dataframe.csv\")"
   ]
  },
  {
   "cell_type": "code",
   "execution_count": 67,
   "id": "e33f610e",
   "metadata": {},
   "outputs": [],
   "source": [
    "#First convert indeces to dates\n",
    "X_train.Date = pd.to_datetime(X_train.Date)\n",
    "X_train.Date.describe(datetime_is_numeric=True)\n",
    "X_train.set_index(\"Date\", inplace=True)\n",
    "\n",
    "\n",
    "#First convert indeces to dates\n",
    "y_train.Date = pd.to_datetime(y_train.Date)\n",
    "y_train.Date.describe(datetime_is_numeric=True)\n",
    "y_train.set_index(\"Date\", inplace=True)\n"
   ]
  },
  {
   "cell_type": "markdown",
   "id": "ed48b667",
   "metadata": {},
   "source": [
    "**Seperate Input Columns and Output Column and place in spreadsheet**"
   ]
  },
  {
   "cell_type": "code",
   "execution_count": 68,
   "id": "b4768ba0",
   "metadata": {},
   "outputs": [
    {
     "data": {
      "text/html": [
       "<div>\n",
       "<style scoped>\n",
       "    .dataframe tbody tr th:only-of-type {\n",
       "        vertical-align: middle;\n",
       "    }\n",
       "\n",
       "    .dataframe tbody tr th {\n",
       "        vertical-align: top;\n",
       "    }\n",
       "\n",
       "    .dataframe thead th {\n",
       "        text-align: right;\n",
       "    }\n",
       "</style>\n",
       "<table border=\"1\" class=\"dataframe\">\n",
       "  <thead>\n",
       "    <tr style=\"text-align: right;\">\n",
       "      <th></th>\n",
       "      <th>RH</th>\n",
       "    </tr>\n",
       "    <tr>\n",
       "      <th>Date</th>\n",
       "      <th></th>\n",
       "    </tr>\n",
       "  </thead>\n",
       "  <tbody>\n",
       "    <tr>\n",
       "      <th>2021-11-01 00:00:00</th>\n",
       "      <td>44.34569</td>\n",
       "    </tr>\n",
       "    <tr>\n",
       "      <th>2021-11-01 00:15:00</th>\n",
       "      <td>60.16803</td>\n",
       "    </tr>\n",
       "    <tr>\n",
       "      <th>2021-11-01 00:30:00</th>\n",
       "      <td>67.91439</td>\n",
       "    </tr>\n",
       "    <tr>\n",
       "      <th>2021-11-01 00:45:00</th>\n",
       "      <td>71.04126</td>\n",
       "    </tr>\n",
       "    <tr>\n",
       "      <th>2021-11-01 01:00:00</th>\n",
       "      <td>72.94492</td>\n",
       "    </tr>\n",
       "    <tr>\n",
       "      <th>...</th>\n",
       "      <td>...</td>\n",
       "    </tr>\n",
       "    <tr>\n",
       "      <th>2022-01-29 04:45:00</th>\n",
       "      <td>85.19097</td>\n",
       "    </tr>\n",
       "    <tr>\n",
       "      <th>2022-01-29 05:00:00</th>\n",
       "      <td>85.01351</td>\n",
       "    </tr>\n",
       "    <tr>\n",
       "      <th>2022-01-29 05:15:00</th>\n",
       "      <td>85.20483</td>\n",
       "    </tr>\n",
       "    <tr>\n",
       "      <th>2022-01-29 05:30:00</th>\n",
       "      <td>84.55035</td>\n",
       "    </tr>\n",
       "    <tr>\n",
       "      <th>2022-01-29 05:45:00</th>\n",
       "      <td>81.35577</td>\n",
       "    </tr>\n",
       "  </tbody>\n",
       "</table>\n",
       "<p>8568 rows × 1 columns</p>\n",
       "</div>"
      ],
      "text/plain": [
       "                           RH\n",
       "Date                         \n",
       "2021-11-01 00:00:00  44.34569\n",
       "2021-11-01 00:15:00  60.16803\n",
       "2021-11-01 00:30:00  67.91439\n",
       "2021-11-01 00:45:00  71.04126\n",
       "2021-11-01 01:00:00  72.94492\n",
       "...                       ...\n",
       "2022-01-29 04:45:00  85.19097\n",
       "2022-01-29 05:00:00  85.01351\n",
       "2022-01-29 05:15:00  85.20483\n",
       "2022-01-29 05:30:00  84.55035\n",
       "2022-01-29 05:45:00  81.35577\n",
       "\n",
       "[8568 rows x 1 columns]"
      ]
     },
     "execution_count": 68,
     "metadata": {},
     "output_type": "execute_result"
    }
   ],
   "source": [
    "#We want X of train\n",
    "#Delete Y column of train\n",
    "\n",
    "del X_train['warnings']\n",
    "X_train"
   ]
  },
  {
   "cell_type": "code",
   "execution_count": 69,
   "id": "da56284a",
   "metadata": {},
   "outputs": [
    {
     "data": {
      "text/html": [
       "<div>\n",
       "<style scoped>\n",
       "    .dataframe tbody tr th:only-of-type {\n",
       "        vertical-align: middle;\n",
       "    }\n",
       "\n",
       "    .dataframe tbody tr th {\n",
       "        vertical-align: top;\n",
       "    }\n",
       "\n",
       "    .dataframe thead th {\n",
       "        text-align: right;\n",
       "    }\n",
       "</style>\n",
       "<table border=\"1\" class=\"dataframe\">\n",
       "  <thead>\n",
       "    <tr style=\"text-align: right;\">\n",
       "      <th></th>\n",
       "      <th>warnings</th>\n",
       "    </tr>\n",
       "    <tr>\n",
       "      <th>Date</th>\n",
       "      <th></th>\n",
       "    </tr>\n",
       "  </thead>\n",
       "  <tbody>\n",
       "    <tr>\n",
       "      <th>2021-11-01 00:00:00</th>\n",
       "      <td>0.0</td>\n",
       "    </tr>\n",
       "    <tr>\n",
       "      <th>2021-11-01 00:15:00</th>\n",
       "      <td>0.0</td>\n",
       "    </tr>\n",
       "    <tr>\n",
       "      <th>2021-11-01 00:30:00</th>\n",
       "      <td>0.0</td>\n",
       "    </tr>\n",
       "    <tr>\n",
       "      <th>2021-11-01 00:45:00</th>\n",
       "      <td>0.0</td>\n",
       "    </tr>\n",
       "    <tr>\n",
       "      <th>2021-11-01 01:00:00</th>\n",
       "      <td>0.0</td>\n",
       "    </tr>\n",
       "    <tr>\n",
       "      <th>...</th>\n",
       "      <td>...</td>\n",
       "    </tr>\n",
       "    <tr>\n",
       "      <th>2022-01-29 04:45:00</th>\n",
       "      <td>0.0</td>\n",
       "    </tr>\n",
       "    <tr>\n",
       "      <th>2022-01-29 05:00:00</th>\n",
       "      <td>0.0</td>\n",
       "    </tr>\n",
       "    <tr>\n",
       "      <th>2022-01-29 05:15:00</th>\n",
       "      <td>0.0</td>\n",
       "    </tr>\n",
       "    <tr>\n",
       "      <th>2022-01-29 05:30:00</th>\n",
       "      <td>0.0</td>\n",
       "    </tr>\n",
       "    <tr>\n",
       "      <th>2022-01-29 05:45:00</th>\n",
       "      <td>0.0</td>\n",
       "    </tr>\n",
       "  </tbody>\n",
       "</table>\n",
       "<p>8568 rows × 1 columns</p>\n",
       "</div>"
      ],
      "text/plain": [
       "                     warnings\n",
       "Date                         \n",
       "2021-11-01 00:00:00       0.0\n",
       "2021-11-01 00:15:00       0.0\n",
       "2021-11-01 00:30:00       0.0\n",
       "2021-11-01 00:45:00       0.0\n",
       "2021-11-01 01:00:00       0.0\n",
       "...                       ...\n",
       "2022-01-29 04:45:00       0.0\n",
       "2022-01-29 05:00:00       0.0\n",
       "2022-01-29 05:15:00       0.0\n",
       "2022-01-29 05:30:00       0.0\n",
       "2022-01-29 05:45:00       0.0\n",
       "\n",
       "[8568 rows x 1 columns]"
      ]
     },
     "execution_count": 69,
     "metadata": {},
     "output_type": "execute_result"
    }
   ],
   "source": [
    "#We want Y of train\n",
    "#Delete X column of train\n",
    "\n",
    "del y_train['RH']\n",
    "y_train"
   ]
  },
  {
   "cell_type": "code",
   "execution_count": 70,
   "id": "150f167f",
   "metadata": {},
   "outputs": [],
   "source": [
    "X_test= pd.read_csv(\"Test_dataframe.csv\")\n",
    "y_test= pd.read_csv(\"Test_dataframe.csv\")"
   ]
  },
  {
   "cell_type": "code",
   "execution_count": 71,
   "id": "700475a4",
   "metadata": {},
   "outputs": [],
   "source": [
    "#First convert indeces to dates\n",
    "X_test.Date = pd.to_datetime(X_test.Date)\n",
    "X_test.Date.describe(datetime_is_numeric=True)\n",
    "X_test.set_index(\"Date\", inplace=True)\n",
    "\n",
    "\n",
    "#First convert indeces to dates\n",
    "y_test.Date = pd.to_datetime(y_test.Date)\n",
    "y_test.Date.describe(datetime_is_numeric=True)\n",
    "y_test.set_index(\"Date\", inplace=True)"
   ]
  },
  {
   "cell_type": "code",
   "execution_count": 72,
   "id": "2ed2ce4d",
   "metadata": {},
   "outputs": [
    {
     "data": {
      "text/html": [
       "<div>\n",
       "<style scoped>\n",
       "    .dataframe tbody tr th:only-of-type {\n",
       "        vertical-align: middle;\n",
       "    }\n",
       "\n",
       "    .dataframe tbody tr th {\n",
       "        vertical-align: top;\n",
       "    }\n",
       "\n",
       "    .dataframe thead th {\n",
       "        text-align: right;\n",
       "    }\n",
       "</style>\n",
       "<table border=\"1\" class=\"dataframe\">\n",
       "  <thead>\n",
       "    <tr style=\"text-align: right;\">\n",
       "      <th></th>\n",
       "      <th>RH</th>\n",
       "    </tr>\n",
       "    <tr>\n",
       "      <th>Date</th>\n",
       "      <th></th>\n",
       "    </tr>\n",
       "  </thead>\n",
       "  <tbody>\n",
       "    <tr>\n",
       "      <th>2022-02-04 04:45:00</th>\n",
       "      <td>88.00562</td>\n",
       "    </tr>\n",
       "    <tr>\n",
       "      <th>2022-02-04 05:00:00</th>\n",
       "      <td>87.62105</td>\n",
       "    </tr>\n",
       "    <tr>\n",
       "      <th>2022-02-04 05:15:00</th>\n",
       "      <td>82.34748</td>\n",
       "    </tr>\n",
       "    <tr>\n",
       "      <th>2022-02-04 05:30:00</th>\n",
       "      <td>80.31633</td>\n",
       "    </tr>\n",
       "    <tr>\n",
       "      <th>2022-02-04 05:45:00</th>\n",
       "      <td>84.03269</td>\n",
       "    </tr>\n",
       "    <tr>\n",
       "      <th>...</th>\n",
       "      <td>...</td>\n",
       "    </tr>\n",
       "    <tr>\n",
       "      <th>2022-02-27 22:45:00</th>\n",
       "      <td>76.22140</td>\n",
       "    </tr>\n",
       "    <tr>\n",
       "      <th>2022-02-27 23:00:00</th>\n",
       "      <td>79.59342</td>\n",
       "    </tr>\n",
       "    <tr>\n",
       "      <th>2022-02-27 23:15:00</th>\n",
       "      <td>81.01760</td>\n",
       "    </tr>\n",
       "    <tr>\n",
       "      <th>2022-02-27 23:30:00</th>\n",
       "      <td>82.16581</td>\n",
       "    </tr>\n",
       "    <tr>\n",
       "      <th>2022-02-27 23:45:00</th>\n",
       "      <td>85.83740</td>\n",
       "    </tr>\n",
       "  </tbody>\n",
       "</table>\n",
       "<p>2285 rows × 1 columns</p>\n",
       "</div>"
      ],
      "text/plain": [
       "                           RH\n",
       "Date                         \n",
       "2022-02-04 04:45:00  88.00562\n",
       "2022-02-04 05:00:00  87.62105\n",
       "2022-02-04 05:15:00  82.34748\n",
       "2022-02-04 05:30:00  80.31633\n",
       "2022-02-04 05:45:00  84.03269\n",
       "...                       ...\n",
       "2022-02-27 22:45:00  76.22140\n",
       "2022-02-27 23:00:00  79.59342\n",
       "2022-02-27 23:15:00  81.01760\n",
       "2022-02-27 23:30:00  82.16581\n",
       "2022-02-27 23:45:00  85.83740\n",
       "\n",
       "[2285 rows x 1 columns]"
      ]
     },
     "execution_count": 72,
     "metadata": {},
     "output_type": "execute_result"
    }
   ],
   "source": [
    "#We want X of test\n",
    "#Delete Y column of test\n",
    "\n",
    "del X_test['warnings']\n",
    "X_test"
   ]
  },
  {
   "cell_type": "code",
   "execution_count": 73,
   "id": "7c91f147",
   "metadata": {},
   "outputs": [
    {
     "data": {
      "text/html": [
       "<div>\n",
       "<style scoped>\n",
       "    .dataframe tbody tr th:only-of-type {\n",
       "        vertical-align: middle;\n",
       "    }\n",
       "\n",
       "    .dataframe tbody tr th {\n",
       "        vertical-align: top;\n",
       "    }\n",
       "\n",
       "    .dataframe thead th {\n",
       "        text-align: right;\n",
       "    }\n",
       "</style>\n",
       "<table border=\"1\" class=\"dataframe\">\n",
       "  <thead>\n",
       "    <tr style=\"text-align: right;\">\n",
       "      <th></th>\n",
       "      <th>warnings</th>\n",
       "    </tr>\n",
       "    <tr>\n",
       "      <th>Date</th>\n",
       "      <th></th>\n",
       "    </tr>\n",
       "  </thead>\n",
       "  <tbody>\n",
       "    <tr>\n",
       "      <th>2022-02-04 04:45:00</th>\n",
       "      <td>1.0</td>\n",
       "    </tr>\n",
       "    <tr>\n",
       "      <th>2022-02-04 05:00:00</th>\n",
       "      <td>1.0</td>\n",
       "    </tr>\n",
       "    <tr>\n",
       "      <th>2022-02-04 05:15:00</th>\n",
       "      <td>1.0</td>\n",
       "    </tr>\n",
       "    <tr>\n",
       "      <th>2022-02-04 05:30:00</th>\n",
       "      <td>1.0</td>\n",
       "    </tr>\n",
       "    <tr>\n",
       "      <th>2022-02-04 05:45:00</th>\n",
       "      <td>1.0</td>\n",
       "    </tr>\n",
       "    <tr>\n",
       "      <th>...</th>\n",
       "      <td>...</td>\n",
       "    </tr>\n",
       "    <tr>\n",
       "      <th>2022-02-27 22:45:00</th>\n",
       "      <td>0.0</td>\n",
       "    </tr>\n",
       "    <tr>\n",
       "      <th>2022-02-27 23:00:00</th>\n",
       "      <td>0.0</td>\n",
       "    </tr>\n",
       "    <tr>\n",
       "      <th>2022-02-27 23:15:00</th>\n",
       "      <td>0.0</td>\n",
       "    </tr>\n",
       "    <tr>\n",
       "      <th>2022-02-27 23:30:00</th>\n",
       "      <td>0.0</td>\n",
       "    </tr>\n",
       "    <tr>\n",
       "      <th>2022-02-27 23:45:00</th>\n",
       "      <td>0.0</td>\n",
       "    </tr>\n",
       "  </tbody>\n",
       "</table>\n",
       "<p>2285 rows × 1 columns</p>\n",
       "</div>"
      ],
      "text/plain": [
       "                     warnings\n",
       "Date                         \n",
       "2022-02-04 04:45:00       1.0\n",
       "2022-02-04 05:00:00       1.0\n",
       "2022-02-04 05:15:00       1.0\n",
       "2022-02-04 05:30:00       1.0\n",
       "2022-02-04 05:45:00       1.0\n",
       "...                       ...\n",
       "2022-02-27 22:45:00       0.0\n",
       "2022-02-27 23:00:00       0.0\n",
       "2022-02-27 23:15:00       0.0\n",
       "2022-02-27 23:30:00       0.0\n",
       "2022-02-27 23:45:00       0.0\n",
       "\n",
       "[2285 rows x 1 columns]"
      ]
     },
     "execution_count": 73,
     "metadata": {},
     "output_type": "execute_result"
    }
   ],
   "source": [
    "#We want Y of test\n",
    "#Delete X column of test\n",
    "\n",
    "del y_test['RH']\n",
    "y_test"
   ]
  },
  {
   "cell_type": "code",
   "execution_count": null,
   "id": "9ccf19d7",
   "metadata": {},
   "outputs": [],
   "source": []
  },
  {
   "cell_type": "markdown",
   "id": "6aab2a41",
   "metadata": {},
   "source": [
    "**Training the Logistic Regression Model**"
   ]
  },
  {
   "cell_type": "code",
   "execution_count": 74,
   "id": "944239a4",
   "metadata": {},
   "outputs": [],
   "source": [
    "from sklearn.linear_model import LogisticRegression\n",
    "model = LogisticRegression()"
   ]
  },
  {
   "cell_type": "code",
   "execution_count": 75,
   "id": "ef08f8cd",
   "metadata": {},
   "outputs": [
    {
     "data": {
      "text/plain": [
       "LogisticRegression()"
      ]
     },
     "execution_count": 75,
     "metadata": {},
     "output_type": "execute_result"
    }
   ],
   "source": [
    "model.fit(X_train, y_train.values.ravel())"
   ]
  },
  {
   "cell_type": "code",
   "execution_count": 76,
   "id": "d6f2ef08",
   "metadata": {},
   "outputs": [],
   "source": [
    "y_predicted = model.predict(X_test)"
   ]
  },
  {
   "cell_type": "markdown",
   "id": "dc90a9c9",
   "metadata": {},
   "source": [
    "**Model Results**"
   ]
  },
  {
   "cell_type": "code",
   "execution_count": 99,
   "id": "3f1b5777",
   "metadata": {},
   "outputs": [
    {
     "data": {
      "text/plain": [
       "0.12253829321663019"
      ]
     },
     "execution_count": 99,
     "metadata": {},
     "output_type": "execute_result"
    }
   ],
   "source": [
    "#Mean Square Error\n",
    "from sklearn.metrics import mean_squared_error\n",
    "mean_squared_error(y_test, y_predicted)"
   ]
  },
  {
   "cell_type": "code",
   "execution_count": 101,
   "id": "ba7b960c",
   "metadata": {},
   "outputs": [
    {
     "data": {
      "text/plain": [
       "0.12253829321663019"
      ]
     },
     "execution_count": 101,
     "metadata": {},
     "output_type": "execute_result"
    }
   ],
   "source": [
    "#Mean Absolute Error (MAE)\n",
    "from sklearn.metrics import mean_absolute_error\n",
    "mean_absolute_error(y_test, y_predicted)"
   ]
  },
  {
   "cell_type": "code",
   "execution_count": 77,
   "id": "76bbd2b0",
   "metadata": {},
   "outputs": [
    {
     "data": {
      "text/plain": [
       "array([0., 0., 0., ..., 0., 0., 0.])"
      ]
     },
     "execution_count": 77,
     "metadata": {},
     "output_type": "execute_result"
    }
   ],
   "source": [
    "#Binary Prediction\n",
    "model.predict(X_test)"
   ]
  },
  {
   "cell_type": "code",
   "execution_count": 80,
   "id": "86ce55dd",
   "metadata": {},
   "outputs": [],
   "source": [
    "#Probability Prediction (0,1)\n",
    "forecast_array= model.predict_proba(X_test)"
   ]
  },
  {
   "cell_type": "code",
   "execution_count": 85,
   "id": "4f0be454",
   "metadata": {},
   "outputs": [
    {
     "data": {
      "text/plain": [
       "array([0.8488316 , 0.85089007, 0.87683849, ..., 0.88273772, 0.87765915,\n",
       "       0.86013642])"
      ]
     },
     "execution_count": 85,
     "metadata": {},
     "output_type": "execute_result"
    }
   ],
   "source": [
    "forecast_array[:,0]"
   ]
  },
  {
   "cell_type": "code",
   "execution_count": 181,
   "id": "2327ad59",
   "metadata": {},
   "outputs": [
    {
     "data": {
      "text/plain": [
       "0.8774617067833698"
      ]
     },
     "execution_count": 181,
     "metadata": {},
     "output_type": "execute_result"
    }
   ],
   "source": [
    "#Model Accuracy\n",
    "model.score(X_test,y_test)"
   ]
  },
  {
   "cell_type": "code",
   "execution_count": 182,
   "id": "7e57fdf2",
   "metadata": {},
   "outputs": [],
   "source": [
    "import math\n",
    "def sigmoid(x):\n",
    "  return 1 / (1 + math.exp(-x))"
   ]
  },
  {
   "cell_type": "code",
   "execution_count": 183,
   "id": "c0a63f99",
   "metadata": {},
   "outputs": [],
   "source": [
    "def prediction_function(Humidity):\n",
    "    z = 0.042 * Humidity - 1.53 # 0.04150133 ~ 0.042 and -1.52726963 ~ -1.53\n",
    "    y = sigmoid(z)\n",
    "    return y"
   ]
  },
  {
   "cell_type": "code",
   "execution_count": 184,
   "id": "3157c80b",
   "metadata": {},
   "outputs": [
    {
     "data": {
      "text/plain": [
       "0.3340330732481797"
      ]
     },
     "execution_count": 184,
     "metadata": {},
     "output_type": "execute_result"
    }
   ],
   "source": [
    "#Make easy prediction by changing value of Humidity\n",
    "Humidity= 20\n",
    "prediction_function(Humidity)"
   ]
  },
  {
   "cell_type": "code",
   "execution_count": 185,
   "id": "5dc56fa8",
   "metadata": {},
   "outputs": [
    {
     "data": {
      "image/png": "[encoded data removed]",
      "text/plain": [
       "<Figure size 432x288 with 1 Axes>"
      ]
     },
     "metadata": {},
     "output_type": "display_data"
    }
   ],
   "source": [
    "# Create a scatter plot\n",
    "plt.scatter(X_test, y_test, cmap='rainbow')\n",
    "plt.title('Scatter Plot of Logistic Regression')\n",
    "plt.show()"
   ]
  },
  {
   "cell_type": "code",
   "execution_count": 186,
   "id": "6974f133",
   "metadata": {},
   "outputs": [
    {
     "data": {
      "image/png": "[encoded data removed]",
      "text/plain": [
       "<Figure size 720x288 with 1 Axes>"
      ]
     },
     "metadata": {},
     "output_type": "display_data"
    }
   ],
   "source": [
    "plt.figure(figsize=(10,4))\n",
    "\n",
    "plt.plot(y_predicted)\n",
    "plt.plot(y_test)\n",
    "\n",
    "plt.legend(('True Data', 'Predictions'), fontsize=16)\n",
    "\n",
    "plt.title('Lightning Warnings over time', fontsize=20)\n",
    "plt.ylabel('Warnings', fontsize=16)\n",
    "for year in range(2022,2022):\n",
    "    plt.axvline(pd.to_datetime(str(year)+'-01-01'), color='k', linestyle='--', alpha=0.2)"
   ]
  },
  {
   "cell_type": "code",
   "execution_count": 187,
   "id": "824ee16c",
   "metadata": {},
   "outputs": [
    {
     "data": {
      "text/plain": [
       "array([[2005,    0],\n",
       "       [ 280,    0]], dtype=int64)"
      ]
     },
     "execution_count": 187,
     "metadata": {},
     "output_type": "execute_result"
    }
   ],
   "source": [
    "# Show the Confusion Matrix\n",
    "from sklearn.metrics import confusion_matrix\n",
    "confusion_matrix(y_test, y_predicted)"
   ]
  },
  {
   "cell_type": "markdown",
   "id": "e3caf97b",
   "metadata": {},
   "source": [
    "**Loss Functio**"
   ]
  },
  {
   "cell_type": "code",
   "execution_count": 87,
   "id": "702cb000",
   "metadata": {},
   "outputs": [],
   "source": [
    "def mean_squared_errors_array(actual, pred):\n",
    "    output = np.empty(len(actual))\n",
    "    for i in range(len(actual)):\n",
    "        diff = pred[i] - actual[i]\n",
    "        differences_squared = diff ** 2\n",
    "        output[i] = differences_squared.mean()\n",
    "    return output"
   ]
  },
  {
   "cell_type": "code",
   "execution_count": 88,
   "id": "1b4ebedf",
   "metadata": {},
   "outputs": [],
   "source": [
    "y_test_numpy= y_test.to_numpy()"
   ]
  },
  {
   "cell_type": "code",
   "execution_count": 95,
   "id": "4a751a25",
   "metadata": {},
   "outputs": [],
   "source": [
    "error= mean_squared_errors_array(y_test_numpy, forecast_array[:,1])"
   ]
  },
  {
   "cell_type": "code",
   "execution_count": 96,
   "id": "01c9fbfa",
   "metadata": {},
   "outputs": [
    {
     "data": {
      "image/png": "[encoded data removed]",
      "text/plain": [
       "<Figure size 432x288 with 1 Axes>"
      ]
     },
     "metadata": {},
     "output_type": "display_data"
    }
   ],
   "source": [
    "plt.plot(error)\n",
    "plt.show()"
   ]
  },
  {
   "cell_type": "code",
   "execution_count": 97,
   "id": "dd577417",
   "metadata": {},
   "outputs": [
    {
     "data": {
      "text/plain": [
       "array([[1.],\n",
       "       [1.],\n",
       "       [1.],\n",
       "       ...,\n",
       "       [0.],\n",
       "       [0.],\n",
       "       [0.]])"
      ]
     },
     "execution_count": 97,
     "metadata": {},
     "output_type": "execute_result"
    }
   ],
   "source": [
    "y_test_numpy"
   ]
  },
  {
   "cell_type": "code",
   "execution_count": 98,
   "id": "35989b43",
   "metadata": {},
   "outputs": [
    {
     "data": {
      "text/plain": [
       "array([0.1511684 , 0.14910993, 0.12316151, ..., 0.11726228, 0.12234085,\n",
       "       0.13986358])"
      ]
     },
     "execution_count": 98,
     "metadata": {},
     "output_type": "execute_result"
    }
   ],
   "source": [
    "forecast_array[:,1]"
   ]
  },
  {
   "cell_type": "markdown",
   "id": "afa835ca",
   "metadata": {},
   "source": [
    "**ROC curve**"
   ]
  },
  {
   "cell_type": "code",
   "execution_count": 102,
   "id": "5b46a0d7",
   "metadata": {},
   "outputs": [],
   "source": [
    "def plot_roc(y_test,probs):\n",
    "    fpr,tpr,threshold=roc_curve(y_test,probs)\n",
    "    roc_auc=auc(fpr,tpr)\n",
    "    print('ROC AUC=%0.2f'%roc_auc)\n",
    "    plt.plot(fpr,tpr,label='AUC=%0.2f'%roc_auc,color='darkorange')\n",
    "    plt.legend(loc='lower right')\n",
    "    plt.plot([0,1],[0,1],'b--')\n",
    "    plt.xlim([0,1])\n",
    "    plt.ylim([0,1.05])\n",
    "    plt.xlabel('False Positive Rate')\n",
    "    plt.ylabel('True Positive Rate')\n",
    "    plt.show()"
   ]
  },
  {
   "cell_type": "code",
   "execution_count": 105,
   "id": "4883acb6",
   "metadata": {},
   "outputs": [
    {
     "name": "stdout",
     "output_type": "stream",
     "text": [
      "ROC AUC=0.50\n"
     ]
    },
    {
     "data": {
      "image/png": "[encoded data removed]",
      "text/plain": [
       "<Figure size 432x288 with 1 Axes>"
      ]
     },
     "metadata": {},
     "output_type": "display_data"
    }
   ],
   "source": [
    "#LOgistic Regression\n",
    "from sklearn.metrics import roc_curve,auc\n",
    "plot_roc(y_test,y_predicted)"
   ]
  },
  {
   "cell_type": "markdown",
   "id": "ce8650cc",
   "metadata": {},
   "source": [
    "**Cross Entropy**"
   ]
  },
  {
   "cell_type": "code",
   "execution_count": null,
   "id": "c2b8954c",
   "metadata": {},
   "outputs": [],
   "source": []
  }
 ],
 "metadata": {
  "kernelspec": {
   "display_name": "Python 3 (ipykernel)",
   "language": "python",
   "name": "python3"
  },
  "language_info": {
   "codemirror_mode": {
    "name": "ipython",
    "version": 3
   },
   "file_extension": ".py",
   "mimetype": "text/x-python",
   "name": "python",
   "nbconvert_exporter": "python",
   "pygments_lexer": "ipython3",
   "version": "3.9.12"
  }
 },
 "nbformat": 4,
 "nbformat_minor": 5
}
