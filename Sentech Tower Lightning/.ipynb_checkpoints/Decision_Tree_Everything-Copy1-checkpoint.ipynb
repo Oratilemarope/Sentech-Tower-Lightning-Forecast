{
 "cells": [
  {
   "cell_type": "code",
   "execution_count": 55,
   "id": "fc471580",
   "metadata": {},
   "outputs": [],
   "source": [
    "import pandas as pd\n",
    "import numpy as np\n",
    "import matplotlib.pyplot as plt \n",
    "import scipy.stats\n",
    "import pylab\n",
    "import datetime\n",
    "from time import time\n",
    "import seaborn as sns\n",
    "sns.set()\n",
    "\n",
    "#time series Libraries\n",
    "import statsmodels.graphics.tsaplots as sgt \n",
    "from statsmodels.tsa.arima.model import ARIMA\n",
    "from scipy.stats.distributions import chi2\n",
    "import statsmodels.tsa.stattools as sts\n",
    "from statsmodels.tsa.stattools import adfuller"
   ]
  },
  {
   "cell_type": "code",
   "execution_count": 56,
   "id": "ade1d5d4",
   "metadata": {},
   "outputs": [],
   "source": [
    "raw_csv_data = pd.read_csv(\"Complete_Sentech_Tower_Data.csv\")"
   ]
  },
  {
   "cell_type": "code",
   "execution_count": 57,
   "id": "0b4c0c78",
   "metadata": {},
   "outputs": [],
   "source": [
    "sentech_data= raw_csv_data.copy()"
   ]
  },
  {
   "cell_type": "code",
   "execution_count": 58,
   "id": "39c5f6f1",
   "metadata": {},
   "outputs": [],
   "source": [
    "del sentech_data['_Normalized_Efield']\n",
    "del sentech_data['_Normalized_Warnings']\n",
    "del sentech_data['Rain']\n",
    "del sentech_data['Pressure']\n",
    "del sentech_data['Date']"
   ]
  },
  {
   "cell_type": "code",
   "execution_count": 59,
   "id": "f8572006",
   "metadata": {},
   "outputs": [
    {
     "data": {
      "text/html": [
       "<div>\n",
       "<style scoped>\n",
       "    .dataframe tbody tr th:only-of-type {\n",
       "        vertical-align: middle;\n",
       "    }\n",
       "\n",
       "    .dataframe tbody tr th {\n",
       "        vertical-align: top;\n",
       "    }\n",
       "\n",
       "    .dataframe thead th {\n",
       "        text-align: right;\n",
       "    }\n",
       "</style>\n",
       "<table border=\"1\" class=\"dataframe\">\n",
       "  <thead>\n",
       "    <tr style=\"text-align: right;\">\n",
       "      <th></th>\n",
       "      <th>Air_temp</th>\n",
       "      <th>RH</th>\n",
       "      <th>DewPoint</th>\n",
       "      <th>Efield</th>\n",
       "      <th>Lightning_Warnings</th>\n",
       "      <th>Reset_secs</th>\n",
       "    </tr>\n",
       "  </thead>\n",
       "  <tbody>\n",
       "    <tr>\n",
       "      <th>0</th>\n",
       "      <td>18.83013</td>\n",
       "      <td>44.34569</td>\n",
       "      <td>6.449132</td>\n",
       "      <td>-31.68846</td>\n",
       "      <td>0.0</td>\n",
       "      <td>0.0</td>\n",
       "    </tr>\n",
       "    <tr>\n",
       "      <th>1</th>\n",
       "      <td>15.88538</td>\n",
       "      <td>60.16803</td>\n",
       "      <td>8.188042</td>\n",
       "      <td>-23.84491</td>\n",
       "      <td>0.0</td>\n",
       "      <td>0.0</td>\n",
       "    </tr>\n",
       "    <tr>\n",
       "      <th>2</th>\n",
       "      <td>15.17229</td>\n",
       "      <td>67.91439</td>\n",
       "      <td>9.302760</td>\n",
       "      <td>-23.84614</td>\n",
       "      <td>0.0</td>\n",
       "      <td>0.0</td>\n",
       "    </tr>\n",
       "    <tr>\n",
       "      <th>3</th>\n",
       "      <td>14.64727</td>\n",
       "      <td>71.04126</td>\n",
       "      <td>9.468879</td>\n",
       "      <td>-23.22135</td>\n",
       "      <td>0.0</td>\n",
       "      <td>0.0</td>\n",
       "    </tr>\n",
       "    <tr>\n",
       "      <th>4</th>\n",
       "      <td>14.49834</td>\n",
       "      <td>72.94492</td>\n",
       "      <td>9.719332</td>\n",
       "      <td>-23.84927</td>\n",
       "      <td>0.0</td>\n",
       "      <td>0.0</td>\n",
       "    </tr>\n",
       "    <tr>\n",
       "      <th>...</th>\n",
       "      <td>...</td>\n",
       "      <td>...</td>\n",
       "      <td>...</td>\n",
       "      <td>...</td>\n",
       "      <td>...</td>\n",
       "      <td>...</td>\n",
       "    </tr>\n",
       "    <tr>\n",
       "      <th>11419</th>\n",
       "      <td>16.28638</td>\n",
       "      <td>76.22140</td>\n",
       "      <td>12.107980</td>\n",
       "      <td>-14.43517</td>\n",
       "      <td>0.0</td>\n",
       "      <td>0.0</td>\n",
       "    </tr>\n",
       "    <tr>\n",
       "      <th>11420</th>\n",
       "      <td>15.94644</td>\n",
       "      <td>79.59342</td>\n",
       "      <td>12.436280</td>\n",
       "      <td>-15.37659</td>\n",
       "      <td>0.0</td>\n",
       "      <td>0.0</td>\n",
       "    </tr>\n",
       "    <tr>\n",
       "      <th>11421</th>\n",
       "      <td>15.81320</td>\n",
       "      <td>81.01760</td>\n",
       "      <td>12.576650</td>\n",
       "      <td>-17.25920</td>\n",
       "      <td>0.0</td>\n",
       "      <td>0.0</td>\n",
       "    </tr>\n",
       "    <tr>\n",
       "      <th>11422</th>\n",
       "      <td>15.98598</td>\n",
       "      <td>82.16581</td>\n",
       "      <td>12.960260</td>\n",
       "      <td>-17.88704</td>\n",
       "      <td>0.0</td>\n",
       "      <td>0.0</td>\n",
       "    </tr>\n",
       "    <tr>\n",
       "      <th>11423</th>\n",
       "      <td>15.31052</td>\n",
       "      <td>85.83740</td>\n",
       "      <td>12.966850</td>\n",
       "      <td>-16.63182</td>\n",
       "      <td>0.0</td>\n",
       "      <td>0.0</td>\n",
       "    </tr>\n",
       "  </tbody>\n",
       "</table>\n",
       "<p>11424 rows × 6 columns</p>\n",
       "</div>"
      ],
      "text/plain": [
       "       Air_temp        RH   DewPoint    Efield  Lightning_Warnings  Reset_secs\n",
       "0      18.83013  44.34569   6.449132 -31.68846                 0.0         0.0\n",
       "1      15.88538  60.16803   8.188042 -23.84491                 0.0         0.0\n",
       "2      15.17229  67.91439   9.302760 -23.84614                 0.0         0.0\n",
       "3      14.64727  71.04126   9.468879 -23.22135                 0.0         0.0\n",
       "4      14.49834  72.94492   9.719332 -23.84927                 0.0         0.0\n",
       "...         ...       ...        ...       ...                 ...         ...\n",
       "11419  16.28638  76.22140  12.107980 -14.43517                 0.0         0.0\n",
       "11420  15.94644  79.59342  12.436280 -15.37659                 0.0         0.0\n",
       "11421  15.81320  81.01760  12.576650 -17.25920                 0.0         0.0\n",
       "11422  15.98598  82.16581  12.960260 -17.88704                 0.0         0.0\n",
       "11423  15.31052  85.83740  12.966850 -16.63182                 0.0         0.0\n",
       "\n",
       "[11424 rows x 6 columns]"
      ]
     },
     "execution_count": 59,
     "metadata": {},
     "output_type": "execute_result"
    }
   ],
   "source": [
    "sentech_data"
   ]
  },
  {
   "cell_type": "code",
   "execution_count": 60,
   "id": "0e037284",
   "metadata": {},
   "outputs": [],
   "source": [
    "#Convert float binary numbers to int\n",
    "sentech_data['Lightning_Warnings'] = sentech_data['Lightning_Warnings'].astype(int)"
   ]
  },
  {
   "cell_type": "code",
   "execution_count": 61,
   "id": "3dbcff95",
   "metadata": {},
   "outputs": [],
   "source": [
    "#Drop Lightning columns as output target\n",
    "inputs = sentech_data.drop('Lightning_Warnings',axis='columns')\n",
    "target = sentech_data['Lightning_Warnings']"
   ]
  },
  {
   "cell_type": "markdown",
   "id": "a4ed4699",
   "metadata": {},
   "source": [
    "**Split the data**"
   ]
  },
  {
   "cell_type": "code",
   "execution_count": 62,
   "id": "3cb836e3",
   "metadata": {},
   "outputs": [],
   "source": [
    "from sklearn.model_selection import train_test_split  "
   ]
  },
  {
   "cell_type": "code",
   "execution_count": 63,
   "id": "1d78f7bc",
   "metadata": {},
   "outputs": [],
   "source": [
    "X_train,X_test,y_train,y_test = train_test_split(inputs,target,test_size=0.2)"
   ]
  },
  {
   "cell_type": "markdown",
   "id": "a0c99811",
   "metadata": {},
   "source": [
    "**Train the classifier**"
   ]
  },
  {
   "cell_type": "code",
   "execution_count": 64,
   "id": "a6338d94",
   "metadata": {},
   "outputs": [],
   "source": [
    "from sklearn import tree\n",
    "model = tree.DecisionTreeClassifier()"
   ]
  },
  {
   "cell_type": "code",
   "execution_count": 65,
   "id": "182f9a31",
   "metadata": {},
   "outputs": [
    {
     "data": {
      "text/plain": [
       "DecisionTreeClassifier()"
      ]
     },
     "execution_count": 65,
     "metadata": {},
     "output_type": "execute_result"
    }
   ],
   "source": [
    "model.fit(X_train, y_train)"
   ]
  },
  {
   "cell_type": "code",
   "execution_count": 66,
   "id": "0c277241",
   "metadata": {},
   "outputs": [],
   "source": [
    "y_predicted = model.predict(X_test)"
   ]
  },
  {
   "cell_type": "markdown",
   "id": "c7cf2f1e",
   "metadata": {},
   "source": [
    "**Model Results**"
   ]
  },
  {
   "cell_type": "code",
   "execution_count": 67,
   "id": "3808fb6c",
   "metadata": {},
   "outputs": [
    {
     "data": {
      "text/plain": [
       "0.9991247264770241"
      ]
     },
     "execution_count": 67,
     "metadata": {},
     "output_type": "execute_result"
    }
   ],
   "source": [
    "#Model Accuracy\n",
    "model.score(X_test,y_test)"
   ]
  },
  {
   "cell_type": "code",
   "execution_count": 68,
   "id": "df7bb4d0",
   "metadata": {},
   "outputs": [
    {
     "data": {
      "text/html": [
       "<div>\n",
       "<style scoped>\n",
       "    .dataframe tbody tr th:only-of-type {\n",
       "        vertical-align: middle;\n",
       "    }\n",
       "\n",
       "    .dataframe tbody tr th {\n",
       "        vertical-align: top;\n",
       "    }\n",
       "\n",
       "    .dataframe thead th {\n",
       "        text-align: right;\n",
       "    }\n",
       "</style>\n",
       "<table border=\"1\" class=\"dataframe\">\n",
       "  <thead>\n",
       "    <tr style=\"text-align: right;\">\n",
       "      <th></th>\n",
       "      <th>Air_temp</th>\n",
       "      <th>RH</th>\n",
       "      <th>DewPoint</th>\n",
       "      <th>Efield</th>\n",
       "      <th>Reset_secs</th>\n",
       "    </tr>\n",
       "  </thead>\n",
       "  <tbody>\n",
       "    <tr>\n",
       "      <th>3410</th>\n",
       "      <td>20.94960</td>\n",
       "      <td>69.65459</td>\n",
       "      <td>15.21239</td>\n",
       "      <td>-31.67858</td>\n",
       "      <td>0.0</td>\n",
       "    </tr>\n",
       "    <tr>\n",
       "      <th>8682</th>\n",
       "      <td>16.78230</td>\n",
       "      <td>97.38637</td>\n",
       "      <td>16.38018</td>\n",
       "      <td>-26.66470</td>\n",
       "      <td>0.0</td>\n",
       "    </tr>\n",
       "    <tr>\n",
       "      <th>3414</th>\n",
       "      <td>21.78738</td>\n",
       "      <td>65.85744</td>\n",
       "      <td>15.13921</td>\n",
       "      <td>-30.11033</td>\n",
       "      <td>0.0</td>\n",
       "    </tr>\n",
       "    <tr>\n",
       "      <th>9794</th>\n",
       "      <td>17.58157</td>\n",
       "      <td>81.63415</td>\n",
       "      <td>14.41901</td>\n",
       "      <td>-13.80496</td>\n",
       "      <td>0.0</td>\n",
       "    </tr>\n",
       "    <tr>\n",
       "      <th>6779</th>\n",
       "      <td>22.15227</td>\n",
       "      <td>55.83352</td>\n",
       "      <td>12.93621</td>\n",
       "      <td>-35.44276</td>\n",
       "      <td>0.0</td>\n",
       "    </tr>\n",
       "    <tr>\n",
       "      <th>...</th>\n",
       "      <td>...</td>\n",
       "      <td>...</td>\n",
       "      <td>...</td>\n",
       "      <td>...</td>\n",
       "      <td>...</td>\n",
       "    </tr>\n",
       "    <tr>\n",
       "      <th>11312</th>\n",
       "      <td>19.82833</td>\n",
       "      <td>69.08131</td>\n",
       "      <td>14.01164</td>\n",
       "      <td>-36.07570</td>\n",
       "      <td>0.0</td>\n",
       "    </tr>\n",
       "    <tr>\n",
       "      <th>8136</th>\n",
       "      <td>22.15882</td>\n",
       "      <td>53.39882</td>\n",
       "      <td>12.26242</td>\n",
       "      <td>-29.80171</td>\n",
       "      <td>0.0</td>\n",
       "    </tr>\n",
       "    <tr>\n",
       "      <th>953</th>\n",
       "      <td>17.33609</td>\n",
       "      <td>76.09685</td>\n",
       "      <td>13.09950</td>\n",
       "      <td>-14.43265</td>\n",
       "      <td>0.0</td>\n",
       "    </tr>\n",
       "    <tr>\n",
       "      <th>1368</th>\n",
       "      <td>19.51216</td>\n",
       "      <td>75.34772</td>\n",
       "      <td>15.05187</td>\n",
       "      <td>-28.86042</td>\n",
       "      <td>0.0</td>\n",
       "    </tr>\n",
       "    <tr>\n",
       "      <th>10514</th>\n",
       "      <td>21.78530</td>\n",
       "      <td>64.52271</td>\n",
       "      <td>14.81915</td>\n",
       "      <td>-59.27962</td>\n",
       "      <td>0.0</td>\n",
       "    </tr>\n",
       "  </tbody>\n",
       "</table>\n",
       "<p>9139 rows × 5 columns</p>\n",
       "</div>"
      ],
      "text/plain": [
       "       Air_temp        RH  DewPoint    Efield  Reset_secs\n",
       "3410   20.94960  69.65459  15.21239 -31.67858         0.0\n",
       "8682   16.78230  97.38637  16.38018 -26.66470         0.0\n",
       "3414   21.78738  65.85744  15.13921 -30.11033         0.0\n",
       "9794   17.58157  81.63415  14.41901 -13.80496         0.0\n",
       "6779   22.15227  55.83352  12.93621 -35.44276         0.0\n",
       "...         ...       ...       ...       ...         ...\n",
       "11312  19.82833  69.08131  14.01164 -36.07570         0.0\n",
       "8136   22.15882  53.39882  12.26242 -29.80171         0.0\n",
       "953    17.33609  76.09685  13.09950 -14.43265         0.0\n",
       "1368   19.51216  75.34772  15.05187 -28.86042         0.0\n",
       "10514  21.78530  64.52271  14.81915 -59.27962         0.0\n",
       "\n",
       "[9139 rows x 5 columns]"
      ]
     },
     "execution_count": 68,
     "metadata": {},
     "output_type": "execute_result"
    }
   ],
   "source": [
    "X_train"
   ]
  },
  {
   "cell_type": "code",
   "execution_count": 78,
   "id": "3213b02b",
   "metadata": {},
   "outputs": [
    {
     "name": "stderr",
     "output_type": "stream",
     "text": [
      "C:\\Users\\Oratile\\anaconda3\\lib\\site-packages\\sklearn\\base.py:450: UserWarning: X does not have valid feature names, but DecisionTreeClassifier was fitted with feature names\n",
      "  warnings.warn(\n"
     ]
    },
    {
     "data": {
      "text/plain": [
       "array([0])"
      ]
     },
     "execution_count": 78,
     "metadata": {},
     "output_type": "execute_result"
    }
   ],
   "source": [
    "model.predict([[20,54,23,0, 1]])"
   ]
  },
  {
   "cell_type": "code",
   "execution_count": null,
   "id": "71d5c2ab",
   "metadata": {},
   "outputs": [],
   "source": []
  }
 ],
 "metadata": {
  "kernelspec": {
   "display_name": "Python 3 (ipykernel)",
   "language": "python",
   "name": "python3"
  },
  "language_info": {
   "codemirror_mode": {
    "name": "ipython",
    "version": 3
   },
   "file_extension": ".py",
   "mimetype": "text/x-python",
   "name": "python",
   "nbconvert_exporter": "python",
   "pygments_lexer": "ipython3",
   "version": "3.9.12"
  }
 },
 "nbformat": 4,
 "nbformat_minor": 5
}
