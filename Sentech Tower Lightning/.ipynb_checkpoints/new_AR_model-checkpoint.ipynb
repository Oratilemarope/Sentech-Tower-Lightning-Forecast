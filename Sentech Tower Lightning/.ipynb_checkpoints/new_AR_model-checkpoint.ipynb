{
 "cells": [
  {
   "cell_type": "markdown",
   "id": "1dfdc384",
   "metadata": {},
   "source": [
    "**Import Libraries**"
   ]
  },
  {
   "cell_type": "code",
   "execution_count": 187,
   "id": "14362537",
   "metadata": {},
   "outputs": [],
   "source": [
    "import pandas as pd\n",
    "import numpy as np\n",
    "import matplotlib.pyplot as plt \n",
    "import scipy.stats\n",
    "import pylab\n",
    "import datetime\n",
    "from time import time\n",
    "import seaborn as sns\n",
    "sns.set()\n",
    "\n",
    "#time series Libraries\n",
    "import statsmodels.graphics.tsaplots as sgt \n",
    "from statsmodels.tsa.arima.model import ARIMA\n",
    "from scipy.stats.distributions import chi2\n",
    "import statsmodels.tsa.stattools as sts\n",
    "from statsmodels.tsa.stattools import adfuller"
   ]
  },
  {
   "cell_type": "markdown",
   "id": "14064e72",
   "metadata": {},
   "source": [
    "**Import the data**"
   ]
  },
  {
   "cell_type": "code",
   "execution_count": 188,
   "id": "381b2e53",
   "metadata": {},
   "outputs": [],
   "source": [
    "raw_csv_data = pd.read_csv(\"sentech_data.csv\")"
   ]
  },
  {
   "cell_type": "markdown",
   "id": "58d2b476",
   "metadata": {},
   "source": [
    "**Make a copy of original data**"
   ]
  },
  {
   "cell_type": "code",
   "execution_count": 189,
   "id": "64deccc8",
   "metadata": {},
   "outputs": [],
   "source": [
    "sentech_data= raw_csv_data.copy()"
   ]
  },
  {
   "cell_type": "code",
   "execution_count": 190,
   "id": "a3ea58f8",
   "metadata": {},
   "outputs": [
    {
     "data": {
      "text/html": [
       "<div>\n",
       "<style scoped>\n",
       "    .dataframe tbody tr th:only-of-type {\n",
       "        vertical-align: middle;\n",
       "    }\n",
       "\n",
       "    .dataframe tbody tr th {\n",
       "        vertical-align: top;\n",
       "    }\n",
       "\n",
       "    .dataframe thead th {\n",
       "        text-align: right;\n",
       "    }\n",
       "</style>\n",
       "<table border=\"1\" class=\"dataframe\">\n",
       "  <thead>\n",
       "    <tr style=\"text-align: right;\">\n",
       "      <th></th>\n",
       "      <th>Date</th>\n",
       "      <th>Air_temp</th>\n",
       "      <th>RH</th>\n",
       "      <th>DewPoint</th>\n",
       "      <th>Rain</th>\n",
       "      <th>Pressure</th>\n",
       "      <th>Efield</th>\n",
       "      <th>Lightning_Warnings</th>\n",
       "      <th>Reset_secs</th>\n",
       "    </tr>\n",
       "  </thead>\n",
       "  <tbody>\n",
       "    <tr>\n",
       "      <th>0</th>\n",
       "      <td>2/27/2022 23:45</td>\n",
       "      <td>15.31052</td>\n",
       "      <td>85.83740</td>\n",
       "      <td>12.966850</td>\n",
       "      <td>0.0</td>\n",
       "      <td>827.4857</td>\n",
       "      <td>-16.63182</td>\n",
       "      <td>0</td>\n",
       "      <td>0</td>\n",
       "    </tr>\n",
       "    <tr>\n",
       "      <th>1</th>\n",
       "      <td>2/27/2022 23:30</td>\n",
       "      <td>15.98598</td>\n",
       "      <td>82.16581</td>\n",
       "      <td>12.960260</td>\n",
       "      <td>0.0</td>\n",
       "      <td>827.4928</td>\n",
       "      <td>-17.88704</td>\n",
       "      <td>0</td>\n",
       "      <td>0</td>\n",
       "    </tr>\n",
       "    <tr>\n",
       "      <th>2</th>\n",
       "      <td>2/27/2022 23:15</td>\n",
       "      <td>15.81320</td>\n",
       "      <td>81.01760</td>\n",
       "      <td>12.576650</td>\n",
       "      <td>0.0</td>\n",
       "      <td>827.6407</td>\n",
       "      <td>-17.25920</td>\n",
       "      <td>0</td>\n",
       "      <td>0</td>\n",
       "    </tr>\n",
       "    <tr>\n",
       "      <th>3</th>\n",
       "      <td>2/27/2022 23:00</td>\n",
       "      <td>15.94644</td>\n",
       "      <td>79.59342</td>\n",
       "      <td>12.436280</td>\n",
       "      <td>0.0</td>\n",
       "      <td>827.6857</td>\n",
       "      <td>-15.37659</td>\n",
       "      <td>0</td>\n",
       "      <td>0</td>\n",
       "    </tr>\n",
       "    <tr>\n",
       "      <th>4</th>\n",
       "      <td>2/27/2022 22:45</td>\n",
       "      <td>16.28638</td>\n",
       "      <td>76.22140</td>\n",
       "      <td>12.107980</td>\n",
       "      <td>0.0</td>\n",
       "      <td>827.9321</td>\n",
       "      <td>-14.43517</td>\n",
       "      <td>0</td>\n",
       "      <td>0</td>\n",
       "    </tr>\n",
       "    <tr>\n",
       "      <th>...</th>\n",
       "      <td>...</td>\n",
       "      <td>...</td>\n",
       "      <td>...</td>\n",
       "      <td>...</td>\n",
       "      <td>...</td>\n",
       "      <td>...</td>\n",
       "      <td>...</td>\n",
       "      <td>...</td>\n",
       "      <td>...</td>\n",
       "    </tr>\n",
       "    <tr>\n",
       "      <th>11405</th>\n",
       "      <td>11/1/2021 1:00</td>\n",
       "      <td>14.49834</td>\n",
       "      <td>72.94492</td>\n",
       "      <td>9.719332</td>\n",
       "      <td>0.0</td>\n",
       "      <td>823.9849</td>\n",
       "      <td>-23.84927</td>\n",
       "      <td>0</td>\n",
       "      <td>0</td>\n",
       "    </tr>\n",
       "    <tr>\n",
       "      <th>11406</th>\n",
       "      <td>11/1/2021 0:45</td>\n",
       "      <td>14.64727</td>\n",
       "      <td>71.04126</td>\n",
       "      <td>9.468879</td>\n",
       "      <td>0.0</td>\n",
       "      <td>824.1239</td>\n",
       "      <td>-23.22135</td>\n",
       "      <td>0</td>\n",
       "      <td>0</td>\n",
       "    </tr>\n",
       "    <tr>\n",
       "      <th>11407</th>\n",
       "      <td>11/1/2021 0:30</td>\n",
       "      <td>15.17229</td>\n",
       "      <td>67.91439</td>\n",
       "      <td>9.302760</td>\n",
       "      <td>0.0</td>\n",
       "      <td>824.1583</td>\n",
       "      <td>-23.84614</td>\n",
       "      <td>0</td>\n",
       "      <td>0</td>\n",
       "    </tr>\n",
       "    <tr>\n",
       "      <th>11408</th>\n",
       "      <td>11/1/2021 0:15</td>\n",
       "      <td>15.88538</td>\n",
       "      <td>60.16803</td>\n",
       "      <td>8.188042</td>\n",
       "      <td>0.0</td>\n",
       "      <td>824.1832</td>\n",
       "      <td>-23.84491</td>\n",
       "      <td>0</td>\n",
       "      <td>0</td>\n",
       "    </tr>\n",
       "    <tr>\n",
       "      <th>11409</th>\n",
       "      <td>11/1/2021 0:00</td>\n",
       "      <td>18.83013</td>\n",
       "      <td>44.34569</td>\n",
       "      <td>6.449132</td>\n",
       "      <td>0.0</td>\n",
       "      <td>823.9045</td>\n",
       "      <td>-31.68846</td>\n",
       "      <td>0</td>\n",
       "      <td>0</td>\n",
       "    </tr>\n",
       "  </tbody>\n",
       "</table>\n",
       "<p>11410 rows × 9 columns</p>\n",
       "</div>"
      ],
      "text/plain": [
       "                  Date  Air_temp        RH   DewPoint  Rain  Pressure  \\\n",
       "0      2/27/2022 23:45  15.31052  85.83740  12.966850   0.0  827.4857   \n",
       "1      2/27/2022 23:30  15.98598  82.16581  12.960260   0.0  827.4928   \n",
       "2      2/27/2022 23:15  15.81320  81.01760  12.576650   0.0  827.6407   \n",
       "3      2/27/2022 23:00  15.94644  79.59342  12.436280   0.0  827.6857   \n",
       "4      2/27/2022 22:45  16.28638  76.22140  12.107980   0.0  827.9321   \n",
       "...                ...       ...       ...        ...   ...       ...   \n",
       "11405   11/1/2021 1:00  14.49834  72.94492   9.719332   0.0  823.9849   \n",
       "11406   11/1/2021 0:45  14.64727  71.04126   9.468879   0.0  824.1239   \n",
       "11407   11/1/2021 0:30  15.17229  67.91439   9.302760   0.0  824.1583   \n",
       "11408   11/1/2021 0:15  15.88538  60.16803   8.188042   0.0  824.1832   \n",
       "11409   11/1/2021 0:00  18.83013  44.34569   6.449132   0.0  823.9045   \n",
       "\n",
       "         Efield  Lightning_Warnings  Reset_secs  \n",
       "0     -16.63182                   0           0  \n",
       "1     -17.88704                   0           0  \n",
       "2     -17.25920                   0           0  \n",
       "3     -15.37659                   0           0  \n",
       "4     -14.43517                   0           0  \n",
       "...         ...                 ...         ...  \n",
       "11405 -23.84927                   0           0  \n",
       "11406 -23.22135                   0           0  \n",
       "11407 -23.84614                   0           0  \n",
       "11408 -23.84491                   0           0  \n",
       "11409 -31.68846                   0           0  \n",
       "\n",
       "[11410 rows x 9 columns]"
      ]
     },
     "execution_count": 190,
     "metadata": {},
     "output_type": "execute_result"
    }
   ],
   "source": [
    "sentech_data"
   ]
  },
  {
   "cell_type": "code",
   "execution_count": 191,
   "id": "829f3082",
   "metadata": {},
   "outputs": [
    {
     "data": {
      "text/html": [
       "<div>\n",
       "<style scoped>\n",
       "    .dataframe tbody tr th:only-of-type {\n",
       "        vertical-align: middle;\n",
       "    }\n",
       "\n",
       "    .dataframe tbody tr th {\n",
       "        vertical-align: top;\n",
       "    }\n",
       "\n",
       "    .dataframe thead th {\n",
       "        text-align: right;\n",
       "    }\n",
       "</style>\n",
       "<table border=\"1\" class=\"dataframe\">\n",
       "  <thead>\n",
       "    <tr style=\"text-align: right;\">\n",
       "      <th></th>\n",
       "      <th>Air_temp</th>\n",
       "      <th>RH</th>\n",
       "      <th>DewPoint</th>\n",
       "      <th>Rain</th>\n",
       "      <th>Pressure</th>\n",
       "      <th>Efield</th>\n",
       "      <th>Lightning_Warnings</th>\n",
       "      <th>Reset_secs</th>\n",
       "    </tr>\n",
       "  </thead>\n",
       "  <tbody>\n",
       "    <tr>\n",
       "      <th>count</th>\n",
       "      <td>11410.000000</td>\n",
       "      <td>11410.000000</td>\n",
       "      <td>11410.000000</td>\n",
       "      <td>11410.000000</td>\n",
       "      <td>11410.000000</td>\n",
       "      <td>11410.000000</td>\n",
       "      <td>11410.000000</td>\n",
       "      <td>11410.000000</td>\n",
       "    </tr>\n",
       "    <tr>\n",
       "      <th>mean</th>\n",
       "      <td>18.689568</td>\n",
       "      <td>72.150754</td>\n",
       "      <td>12.816222</td>\n",
       "      <td>0.000035</td>\n",
       "      <td>826.438567</td>\n",
       "      <td>-19.921106</td>\n",
       "      <td>0.108589</td>\n",
       "      <td>314.438212</td>\n",
       "    </tr>\n",
       "    <tr>\n",
       "      <th>std</th>\n",
       "      <td>3.924400</td>\n",
       "      <td>20.393162</td>\n",
       "      <td>3.102967</td>\n",
       "      <td>0.002648</td>\n",
       "      <td>15.626958</td>\n",
       "      <td>236.783167</td>\n",
       "      <td>0.311136</td>\n",
       "      <td>965.151379</td>\n",
       "    </tr>\n",
       "    <tr>\n",
       "      <th>min</th>\n",
       "      <td>0.000000</td>\n",
       "      <td>0.000000</td>\n",
       "      <td>-3.143647</td>\n",
       "      <td>0.000000</td>\n",
       "      <td>0.000000</td>\n",
       "      <td>-2523.927000</td>\n",
       "      <td>0.000000</td>\n",
       "      <td>0.000000</td>\n",
       "    </tr>\n",
       "    <tr>\n",
       "      <th>25%</th>\n",
       "      <td>15.754948</td>\n",
       "      <td>57.802200</td>\n",
       "      <td>11.778005</td>\n",
       "      <td>0.000000</td>\n",
       "      <td>825.406050</td>\n",
       "      <td>-41.416790</td>\n",
       "      <td>0.000000</td>\n",
       "      <td>0.000000</td>\n",
       "    </tr>\n",
       "    <tr>\n",
       "      <th>50%</th>\n",
       "      <td>18.324115</td>\n",
       "      <td>74.139575</td>\n",
       "      <td>13.451890</td>\n",
       "      <td>0.000000</td>\n",
       "      <td>826.824550</td>\n",
       "      <td>-29.796630</td>\n",
       "      <td>0.000000</td>\n",
       "      <td>0.000000</td>\n",
       "    </tr>\n",
       "    <tr>\n",
       "      <th>75%</th>\n",
       "      <td>21.584875</td>\n",
       "      <td>89.270905</td>\n",
       "      <td>14.794128</td>\n",
       "      <td>0.000000</td>\n",
       "      <td>828.125875</td>\n",
       "      <td>-19.456090</td>\n",
       "      <td>0.000000</td>\n",
       "      <td>0.000000</td>\n",
       "    </tr>\n",
       "    <tr>\n",
       "      <th>max</th>\n",
       "      <td>29.734370</td>\n",
       "      <td>99.980700</td>\n",
       "      <td>19.050590</td>\n",
       "      <td>0.200000</td>\n",
       "      <td>833.690200</td>\n",
       "      <td>2562.246000</td>\n",
       "      <td>1.000000</td>\n",
       "      <td>3600.000000</td>\n",
       "    </tr>\n",
       "  </tbody>\n",
       "</table>\n",
       "</div>"
      ],
      "text/plain": [
       "           Air_temp            RH      DewPoint          Rain      Pressure  \\\n",
       "count  11410.000000  11410.000000  11410.000000  11410.000000  11410.000000   \n",
       "mean      18.689568     72.150754     12.816222      0.000035    826.438567   \n",
       "std        3.924400     20.393162      3.102967      0.002648     15.626958   \n",
       "min        0.000000      0.000000     -3.143647      0.000000      0.000000   \n",
       "25%       15.754948     57.802200     11.778005      0.000000    825.406050   \n",
       "50%       18.324115     74.139575     13.451890      0.000000    826.824550   \n",
       "75%       21.584875     89.270905     14.794128      0.000000    828.125875   \n",
       "max       29.734370     99.980700     19.050590      0.200000    833.690200   \n",
       "\n",
       "             Efield  Lightning_Warnings    Reset_secs  \n",
       "count  11410.000000        11410.000000  11410.000000  \n",
       "mean     -19.921106            0.108589    314.438212  \n",
       "std      236.783167            0.311136    965.151379  \n",
       "min    -2523.927000            0.000000      0.000000  \n",
       "25%      -41.416790            0.000000      0.000000  \n",
       "50%      -29.796630            0.000000      0.000000  \n",
       "75%      -19.456090            0.000000      0.000000  \n",
       "max     2562.246000            1.000000   3600.000000  "
      ]
     },
     "execution_count": 191,
     "metadata": {},
     "output_type": "execute_result"
    }
   ],
   "source": [
    "sentech_data.describe()"
   ]
  },
  {
   "cell_type": "markdown",
   "id": "897e9ede",
   "metadata": {},
   "source": [
    "**Check Stationarity & Visualize data**"
   ]
  },
  {
   "cell_type": "markdown",
   "id": "6eb3149d",
   "metadata": {},
   "source": [
    "Stationarity:"
   ]
  },
  {
   "cell_type": "code",
   "execution_count": 192,
   "id": "89046b5f",
   "metadata": {},
   "outputs": [],
   "source": [
    "def generate_ar_process(lags, coefs, length):\n",
    "    \n",
    "    #cast coefs to np array\n",
    "    coefs = np.array(coefs)\n",
    "    \n",
    "    #initial values\n",
    "    series = [np.random.normal() for _ in range(lags)]\n",
    "    \n",
    "    for _ in range(length):\n",
    "        #get previous values of the series, reversed\n",
    "        prev_vals = series[-lags:][::-1]\n",
    "        \n",
    "        #get new value of time series\n",
    "        new_val = np.sum(np.array(prev_vals) * coefs) + np.random.normal()\n",
    "        \n",
    "        series.append(new_val)\n",
    "        \n",
    "    return np.array(series)"
   ]
  },
  {
   "cell_type": "code",
   "execution_count": 193,
   "id": "133330db",
   "metadata": {},
   "outputs": [],
   "source": [
    "def perform_adf_test(series):\n",
    "    result = adfuller(series)\n",
    "    print('ADF Statistic: %f' % result[0])\n",
    "    print('p-value: %f' % result[1])"
   ]
  },
  {
   "cell_type": "markdown",
   "id": "2c86cd98",
   "metadata": {},
   "source": [
    "Electric field Stationarity"
   ]
  },
  {
   "cell_type": "code",
   "execution_count": 194,
   "id": "bb0a76cc",
   "metadata": {},
   "outputs": [
    {
     "name": "stdout",
     "output_type": "stream",
     "text": [
      "ADF Statistic: -23.326738\n",
      "p-value: 0.000000\n"
     ]
    }
   ],
   "source": [
    "perform_adf_test(sentech_data.Efield)"
   ]
  },
  {
   "cell_type": "markdown",
   "id": "89467f93",
   "metadata": {},
   "source": [
    "Air Temperature Stationarity"
   ]
  },
  {
   "cell_type": "code",
   "execution_count": 195,
   "id": "fc691036",
   "metadata": {},
   "outputs": [
    {
     "name": "stdout",
     "output_type": "stream",
     "text": [
      "ADF Statistic: -16.509875\n",
      "p-value: 0.000000\n"
     ]
    }
   ],
   "source": [
    "perform_adf_test(sentech_data.Air_temp)"
   ]
  },
  {
   "cell_type": "markdown",
   "id": "0b9f14ab",
   "metadata": {},
   "source": [
    "Dew Point Stationarity"
   ]
  },
  {
   "cell_type": "code",
   "execution_count": 196,
   "id": "dde4e489",
   "metadata": {},
   "outputs": [
    {
     "name": "stdout",
     "output_type": "stream",
     "text": [
      "ADF Statistic: -7.925131\n",
      "p-value: 0.000000\n"
     ]
    }
   ],
   "source": [
    "perform_adf_test(sentech_data.DewPoint)"
   ]
  },
  {
   "cell_type": "markdown",
   "id": "6461aaa4",
   "metadata": {},
   "source": [
    "Realative Humidity Stationarity"
   ]
  },
  {
   "cell_type": "code",
   "execution_count": 197,
   "id": "62f84b50",
   "metadata": {},
   "outputs": [
    {
     "name": "stdout",
     "output_type": "stream",
     "text": [
      "ADF Statistic: -13.005040\n",
      "p-value: 0.000000\n"
     ]
    }
   ],
   "source": [
    "perform_adf_test(sentech_data.RH)"
   ]
  },
  {
   "cell_type": "markdown",
   "id": "83707049",
   "metadata": {},
   "source": [
    "E_Field Warnings Stationarity"
   ]
  },
  {
   "cell_type": "code",
   "execution_count": 198,
   "id": "0700814c",
   "metadata": {},
   "outputs": [
    {
     "name": "stdout",
     "output_type": "stream",
     "text": [
      "ADF Statistic: -16.364931\n",
      "p-value: 0.000000\n"
     ]
    }
   ],
   "source": [
    "perform_adf_test(sentech_data.Lightning_Warnings)"
   ]
  },
  {
   "cell_type": "markdown",
   "id": "035ab239",
   "metadata": {},
   "source": [
    "Graphs:"
   ]
  },
  {
   "cell_type": "code",
   "execution_count": 199,
   "id": "648abc57",
   "metadata": {},
   "outputs": [
    {
     "data": {
      "text/plain": [
       "<AxesSubplot:title={'center':'Electric Field'}>"
      ]
     },
     "execution_count": 199,
     "metadata": {},
     "output_type": "execute_result"
    },
    {
     "data": {
      "image/png": "[encoded data removed]",
      "text/plain": [
       "<Figure size 1440x360 with 1 Axes>"
      ]
     },
     "metadata": {},
     "output_type": "display_data"
    }
   ],
   "source": [
    "sentech_data.Efield.plot(figsize= (20,5), title= \"Electric Field\")"
   ]
  },
  {
   "cell_type": "code",
   "execution_count": 200,
   "id": "8afe99fd",
   "metadata": {},
   "outputs": [
    {
     "data": {
      "text/plain": [
       "<AxesSubplot:title={'center':'Lightning Warnings'}>"
      ]
     },
     "execution_count": 200,
     "metadata": {},
     "output_type": "execute_result"
    },
    {
     "data": {
      "image/png": "[encoded data removed]",
      "text/plain": [
       "<Figure size 1440x360 with 1 Axes>"
      ]
     },
     "metadata": {},
     "output_type": "display_data"
    }
   ],
   "source": [
    "sentech_data.Lightning_Warnings.plot(figsize= (20,5), title= \"Lightning Warnings\")"
   ]
  },
  {
   "cell_type": "code",
   "execution_count": 201,
   "id": "c6da9691",
   "metadata": {},
   "outputs": [],
   "source": [
    "from sklearn import preprocessing"
   ]
  },
  {
   "cell_type": "code",
   "execution_count": 202,
   "id": "29aea933",
   "metadata": {
    "scrolled": true
   },
   "outputs": [
    {
     "name": "stdout",
     "output_type": "stream",
     "text": [
      "[[-0.00065529 -0.00070475 -0.00068001 ... -0.00093953 -0.00093948\n",
      "  -0.00124852]]\n"
     ]
    }
   ],
   "source": [
    "normalized_Efild = preprocessing.normalize([sentech_data.Efield])\n",
    "print(normalized_Efild)"
   ]
  },
  {
   "cell_type": "code",
   "execution_count": 203,
   "id": "4160a073",
   "metadata": {},
   "outputs": [
    {
     "name": "stdout",
     "output_type": "stream",
     "text": [
      "[[0. 0. 0. ... 0. 0. 0.]]\n"
     ]
    }
   ],
   "source": [
    "normalized_Warnings = preprocessing.normalize([sentech_data.Lightning_Warnings])\n",
    "print(normalized_Warnings)"
   ]
  },
  {
   "cell_type": "code",
   "execution_count": 204,
   "id": "83d7e280",
   "metadata": {},
   "outputs": [],
   "source": [
    "df_Normalized_Efield = pd.DataFrame(normalized_Efild).transpose()"
   ]
  },
  {
   "cell_type": "code",
   "execution_count": 205,
   "id": "e286e3c3",
   "metadata": {},
   "outputs": [],
   "source": [
    "sentech_data['_Normalized_Efield']= df_Normalized_Efield"
   ]
  },
  {
   "cell_type": "code",
   "execution_count": 206,
   "id": "b70825d6",
   "metadata": {},
   "outputs": [],
   "source": [
    "df_Normalized_Warnings = pd.DataFrame(normalized_Warnings).transpose()"
   ]
  },
  {
   "cell_type": "code",
   "execution_count": 207,
   "id": "88762bd9",
   "metadata": {},
   "outputs": [],
   "source": [
    "sentech_data['_Normalized_Warnings']= df_Normalized_Warnings"
   ]
  },
  {
   "cell_type": "code",
   "execution_count": 208,
   "id": "c1442ec4",
   "metadata": {},
   "outputs": [],
   "source": [
    "#Export normalized set as csv file\n",
    "sentech_data.to_csv('Normalized_Efield_Warnings.csv')"
   ]
  },
  {
   "cell_type": "code",
   "execution_count": 209,
   "id": "528658d5",
   "metadata": {},
   "outputs": [
    {
     "data": {
      "text/plain": [
       "Text(0.5, 1.0, 'Electric field vs Lightning Warnings')"
      ]
     },
     "execution_count": 209,
     "metadata": {},
     "output_type": "execute_result"
    },
    {
     "data": {
      "image/png": "[encoded data removed]",
      "text/plain": [
       "<Figure size 1440x360 with 1 Axes>"
      ]
     },
     "metadata": {},
     "output_type": "display_data"
    }
   ],
   "source": [
    "sentech_data.Lightning_Warnings.plot(figsize= (20,5), title= \"Lightning Warnings\")\n",
    "sentech_data.Efield.plot(figsize= (20,5), title= \"Electric Field\")\n",
    "plt.title(\"Electric field vs Lightning Warnings\")"
   ]
  },
  {
   "cell_type": "code",
   "execution_count": null,
   "id": "371fff29",
   "metadata": {},
   "outputs": [],
   "source": []
  },
  {
   "cell_type": "code",
   "execution_count": null,
   "id": "18f171ec",
   "metadata": {},
   "outputs": [],
   "source": []
  },
  {
   "cell_type": "markdown",
   "id": "3bd09900",
   "metadata": {},
   "source": [
    "**Converting the date to date object**"
   ]
  },
  {
   "cell_type": "code",
   "execution_count": 210,
   "id": "25092664",
   "metadata": {},
   "outputs": [],
   "source": [
    "sentech_data.Date = pd.to_datetime(sentech_data.Date)"
   ]
  },
  {
   "cell_type": "code",
   "execution_count": 211,
   "id": "958550d0",
   "metadata": {},
   "outputs": [
    {
     "data": {
      "text/plain": [
       "count                            11410\n",
       "mean     2021-12-30 13:12:09.386503168\n",
       "min                2021-11-01 00:00:00\n",
       "25%                2021-11-30 20:33:45\n",
       "50%                2021-12-30 13:37:30\n",
       "75%                2022-01-29 06:41:15\n",
       "max                2022-02-27 23:45:00\n",
       "Name: Date, dtype: object"
      ]
     },
     "execution_count": 211,
     "metadata": {},
     "output_type": "execute_result"
    }
   ],
   "source": [
    "sentech_data.Date.describe(datetime_is_numeric=True)"
   ]
  },
  {
   "cell_type": "code",
   "execution_count": 212,
   "id": "13a8ac29",
   "metadata": {},
   "outputs": [],
   "source": [
    "sentech_data.set_index(\"Date\", inplace=True)"
   ]
  },
  {
   "cell_type": "code",
   "execution_count": 213,
   "id": "71d55f13",
   "metadata": {},
   "outputs": [],
   "source": [
    "#Reverse train set to begin with most oldest date\n",
    "sentech_data= sentech_data.iloc[::-1]"
   ]
  },
  {
   "cell_type": "code",
   "execution_count": 214,
   "id": "c5285dd3",
   "metadata": {},
   "outputs": [
    {
     "data": {
      "text/html": [
       "<div>\n",
       "<style scoped>\n",
       "    .dataframe tbody tr th:only-of-type {\n",
       "        vertical-align: middle;\n",
       "    }\n",
       "\n",
       "    .dataframe tbody tr th {\n",
       "        vertical-align: top;\n",
       "    }\n",
       "\n",
       "    .dataframe thead th {\n",
       "        text-align: right;\n",
       "    }\n",
       "</style>\n",
       "<table border=\"1\" class=\"dataframe\">\n",
       "  <thead>\n",
       "    <tr style=\"text-align: right;\">\n",
       "      <th></th>\n",
       "      <th>Air_temp</th>\n",
       "      <th>RH</th>\n",
       "      <th>DewPoint</th>\n",
       "      <th>Rain</th>\n",
       "      <th>Pressure</th>\n",
       "      <th>Efield</th>\n",
       "      <th>Lightning_Warnings</th>\n",
       "      <th>Reset_secs</th>\n",
       "      <th>_Normalized_Efield</th>\n",
       "      <th>_Normalized_Warnings</th>\n",
       "    </tr>\n",
       "    <tr>\n",
       "      <th>Date</th>\n",
       "      <th></th>\n",
       "      <th></th>\n",
       "      <th></th>\n",
       "      <th></th>\n",
       "      <th></th>\n",
       "      <th></th>\n",
       "      <th></th>\n",
       "      <th></th>\n",
       "      <th></th>\n",
       "      <th></th>\n",
       "    </tr>\n",
       "  </thead>\n",
       "  <tbody>\n",
       "    <tr>\n",
       "      <th>2021-11-01 00:00:00</th>\n",
       "      <td>18.83013</td>\n",
       "      <td>44.34569</td>\n",
       "      <td>6.449132</td>\n",
       "      <td>0.0</td>\n",
       "      <td>823.9045</td>\n",
       "      <td>-31.68846</td>\n",
       "      <td>0</td>\n",
       "      <td>0</td>\n",
       "      <td>-0.001249</td>\n",
       "      <td>0.0</td>\n",
       "    </tr>\n",
       "    <tr>\n",
       "      <th>2021-11-01 00:15:00</th>\n",
       "      <td>15.88538</td>\n",
       "      <td>60.16803</td>\n",
       "      <td>8.188042</td>\n",
       "      <td>0.0</td>\n",
       "      <td>824.1832</td>\n",
       "      <td>-23.84491</td>\n",
       "      <td>0</td>\n",
       "      <td>0</td>\n",
       "      <td>-0.000939</td>\n",
       "      <td>0.0</td>\n",
       "    </tr>\n",
       "    <tr>\n",
       "      <th>2021-11-01 00:30:00</th>\n",
       "      <td>15.17229</td>\n",
       "      <td>67.91439</td>\n",
       "      <td>9.302760</td>\n",
       "      <td>0.0</td>\n",
       "      <td>824.1583</td>\n",
       "      <td>-23.84614</td>\n",
       "      <td>0</td>\n",
       "      <td>0</td>\n",
       "      <td>-0.000940</td>\n",
       "      <td>0.0</td>\n",
       "    </tr>\n",
       "    <tr>\n",
       "      <th>2021-11-01 00:45:00</th>\n",
       "      <td>14.64727</td>\n",
       "      <td>71.04126</td>\n",
       "      <td>9.468879</td>\n",
       "      <td>0.0</td>\n",
       "      <td>824.1239</td>\n",
       "      <td>-23.22135</td>\n",
       "      <td>0</td>\n",
       "      <td>0</td>\n",
       "      <td>-0.000915</td>\n",
       "      <td>0.0</td>\n",
       "    </tr>\n",
       "    <tr>\n",
       "      <th>2021-11-01 01:00:00</th>\n",
       "      <td>14.49834</td>\n",
       "      <td>72.94492</td>\n",
       "      <td>9.719332</td>\n",
       "      <td>0.0</td>\n",
       "      <td>823.9849</td>\n",
       "      <td>-23.84927</td>\n",
       "      <td>0</td>\n",
       "      <td>0</td>\n",
       "      <td>-0.000940</td>\n",
       "      <td>0.0</td>\n",
       "    </tr>\n",
       "    <tr>\n",
       "      <th>...</th>\n",
       "      <td>...</td>\n",
       "      <td>...</td>\n",
       "      <td>...</td>\n",
       "      <td>...</td>\n",
       "      <td>...</td>\n",
       "      <td>...</td>\n",
       "      <td>...</td>\n",
       "      <td>...</td>\n",
       "      <td>...</td>\n",
       "      <td>...</td>\n",
       "    </tr>\n",
       "    <tr>\n",
       "      <th>2022-02-27 22:45:00</th>\n",
       "      <td>16.28638</td>\n",
       "      <td>76.22140</td>\n",
       "      <td>12.107980</td>\n",
       "      <td>0.0</td>\n",
       "      <td>827.9321</td>\n",
       "      <td>-14.43517</td>\n",
       "      <td>0</td>\n",
       "      <td>0</td>\n",
       "      <td>-0.000569</td>\n",
       "      <td>0.0</td>\n",
       "    </tr>\n",
       "    <tr>\n",
       "      <th>2022-02-27 23:00:00</th>\n",
       "      <td>15.94644</td>\n",
       "      <td>79.59342</td>\n",
       "      <td>12.436280</td>\n",
       "      <td>0.0</td>\n",
       "      <td>827.6857</td>\n",
       "      <td>-15.37659</td>\n",
       "      <td>0</td>\n",
       "      <td>0</td>\n",
       "      <td>-0.000606</td>\n",
       "      <td>0.0</td>\n",
       "    </tr>\n",
       "    <tr>\n",
       "      <th>2022-02-27 23:15:00</th>\n",
       "      <td>15.81320</td>\n",
       "      <td>81.01760</td>\n",
       "      <td>12.576650</td>\n",
       "      <td>0.0</td>\n",
       "      <td>827.6407</td>\n",
       "      <td>-17.25920</td>\n",
       "      <td>0</td>\n",
       "      <td>0</td>\n",
       "      <td>-0.000680</td>\n",
       "      <td>0.0</td>\n",
       "    </tr>\n",
       "    <tr>\n",
       "      <th>2022-02-27 23:30:00</th>\n",
       "      <td>15.98598</td>\n",
       "      <td>82.16581</td>\n",
       "      <td>12.960260</td>\n",
       "      <td>0.0</td>\n",
       "      <td>827.4928</td>\n",
       "      <td>-17.88704</td>\n",
       "      <td>0</td>\n",
       "      <td>0</td>\n",
       "      <td>-0.000705</td>\n",
       "      <td>0.0</td>\n",
       "    </tr>\n",
       "    <tr>\n",
       "      <th>2022-02-27 23:45:00</th>\n",
       "      <td>15.31052</td>\n",
       "      <td>85.83740</td>\n",
       "      <td>12.966850</td>\n",
       "      <td>0.0</td>\n",
       "      <td>827.4857</td>\n",
       "      <td>-16.63182</td>\n",
       "      <td>0</td>\n",
       "      <td>0</td>\n",
       "      <td>-0.000655</td>\n",
       "      <td>0.0</td>\n",
       "    </tr>\n",
       "  </tbody>\n",
       "</table>\n",
       "<p>11410 rows × 10 columns</p>\n",
       "</div>"
      ],
      "text/plain": [
       "                     Air_temp        RH   DewPoint  Rain  Pressure    Efield  \\\n",
       "Date                                                                           \n",
       "2021-11-01 00:00:00  18.83013  44.34569   6.449132   0.0  823.9045 -31.68846   \n",
       "2021-11-01 00:15:00  15.88538  60.16803   8.188042   0.0  824.1832 -23.84491   \n",
       "2021-11-01 00:30:00  15.17229  67.91439   9.302760   0.0  824.1583 -23.84614   \n",
       "2021-11-01 00:45:00  14.64727  71.04126   9.468879   0.0  824.1239 -23.22135   \n",
       "2021-11-01 01:00:00  14.49834  72.94492   9.719332   0.0  823.9849 -23.84927   \n",
       "...                       ...       ...        ...   ...       ...       ...   \n",
       "2022-02-27 22:45:00  16.28638  76.22140  12.107980   0.0  827.9321 -14.43517   \n",
       "2022-02-27 23:00:00  15.94644  79.59342  12.436280   0.0  827.6857 -15.37659   \n",
       "2022-02-27 23:15:00  15.81320  81.01760  12.576650   0.0  827.6407 -17.25920   \n",
       "2022-02-27 23:30:00  15.98598  82.16581  12.960260   0.0  827.4928 -17.88704   \n",
       "2022-02-27 23:45:00  15.31052  85.83740  12.966850   0.0  827.4857 -16.63182   \n",
       "\n",
       "                     Lightning_Warnings  Reset_secs  _Normalized_Efield  \\\n",
       "Date                                                                      \n",
       "2021-11-01 00:00:00                   0           0           -0.001249   \n",
       "2021-11-01 00:15:00                   0           0           -0.000939   \n",
       "2021-11-01 00:30:00                   0           0           -0.000940   \n",
       "2021-11-01 00:45:00                   0           0           -0.000915   \n",
       "2021-11-01 01:00:00                   0           0           -0.000940   \n",
       "...                                 ...         ...                 ...   \n",
       "2022-02-27 22:45:00                   0           0           -0.000569   \n",
       "2022-02-27 23:00:00                   0           0           -0.000606   \n",
       "2022-02-27 23:15:00                   0           0           -0.000680   \n",
       "2022-02-27 23:30:00                   0           0           -0.000705   \n",
       "2022-02-27 23:45:00                   0           0           -0.000655   \n",
       "\n",
       "                     _Normalized_Warnings  \n",
       "Date                                       \n",
       "2021-11-01 00:00:00                   0.0  \n",
       "2021-11-01 00:15:00                   0.0  \n",
       "2021-11-01 00:30:00                   0.0  \n",
       "2021-11-01 00:45:00                   0.0  \n",
       "2021-11-01 01:00:00                   0.0  \n",
       "...                                   ...  \n",
       "2022-02-27 22:45:00                   0.0  \n",
       "2022-02-27 23:00:00                   0.0  \n",
       "2022-02-27 23:15:00                   0.0  \n",
       "2022-02-27 23:30:00                   0.0  \n",
       "2022-02-27 23:45:00                   0.0  \n",
       "\n",
       "[11410 rows x 10 columns]"
      ]
     },
     "execution_count": 214,
     "metadata": {},
     "output_type": "execute_result"
    }
   ],
   "source": [
    "sentech_data"
   ]
  },
  {
   "cell_type": "markdown",
   "id": "679b9a9e",
   "metadata": {},
   "source": [
    "**Setting the desired frequency (15 min intervals)**"
   ]
  },
  {
   "cell_type": "code",
   "execution_count": 215,
   "id": "cb1055f5",
   "metadata": {},
   "outputs": [],
   "source": [
    "sentech_data=sentech_data.asfreq('900s')"
   ]
  },
  {
   "cell_type": "markdown",
   "id": "1ad06799",
   "metadata": {},
   "source": [
    "**Handling Missing Values**"
   ]
  },
  {
   "cell_type": "code",
   "execution_count": 216,
   "id": "ca8ed9e8",
   "metadata": {},
   "outputs": [
    {
     "data": {
      "text/plain": [
       "Air_temp                14\n",
       "RH                      14\n",
       "DewPoint                14\n",
       "Rain                    14\n",
       "Pressure                14\n",
       "Efield                  14\n",
       "Lightning_Warnings      14\n",
       "Reset_secs              14\n",
       "_Normalized_Efield      14\n",
       "_Normalized_Warnings    14\n",
       "dtype: int64"
      ]
     },
     "execution_count": 216,
     "metadata": {},
     "output_type": "execute_result"
    }
   ],
   "source": [
    "sentech_data.isna().sum()"
   ]
  },
  {
   "cell_type": "code",
   "execution_count": 217,
   "id": "95c43edb",
   "metadata": {},
   "outputs": [],
   "source": [
    "sentech_data.Air_temp=sentech_data.Air_temp.fillna(method='bfill')"
   ]
  },
  {
   "cell_type": "code",
   "execution_count": 218,
   "id": "66b1f149",
   "metadata": {},
   "outputs": [],
   "source": [
    "sentech_data.RH=sentech_data.RH.fillna(method='bfill')"
   ]
  },
  {
   "cell_type": "code",
   "execution_count": 219,
   "id": "c10d8364",
   "metadata": {},
   "outputs": [],
   "source": [
    "sentech_data.DewPoint=sentech_data.DewPoint.fillna(method='bfill')"
   ]
  },
  {
   "cell_type": "code",
   "execution_count": 220,
   "id": "9f5bb65c",
   "metadata": {},
   "outputs": [],
   "source": [
    "sentech_data.Pressure=sentech_data.Pressure.fillna(method='bfill')"
   ]
  },
  {
   "cell_type": "code",
   "execution_count": 221,
   "id": "28479814",
   "metadata": {},
   "outputs": [],
   "source": [
    "sentech_data.Efield=sentech_data.Efield.fillna(method='bfill')"
   ]
  },
  {
   "cell_type": "code",
   "execution_count": 222,
   "id": "aa09be87",
   "metadata": {},
   "outputs": [],
   "source": [
    "sentech_data.Lightning_Warnings=sentech_data.Lightning_Warnings.fillna(method='bfill')"
   ]
  },
  {
   "cell_type": "code",
   "execution_count": 223,
   "id": "cc813c1c",
   "metadata": {},
   "outputs": [],
   "source": [
    "sentech_data.Rain=sentech_data.Rain.fillna(method='bfill')"
   ]
  },
  {
   "cell_type": "code",
   "execution_count": 224,
   "id": "1818c365",
   "metadata": {},
   "outputs": [],
   "source": [
    "sentech_data.Reset_secs=sentech_data.Reset_secs.fillna(method='bfill')"
   ]
  },
  {
   "cell_type": "code",
   "execution_count": 225,
   "id": "a5a00314",
   "metadata": {},
   "outputs": [],
   "source": [
    "sentech_data._Normalized_Efield=sentech_data._Normalized_Efield .fillna(method='bfill')"
   ]
  },
  {
   "cell_type": "code",
   "execution_count": 226,
   "id": "893417f5",
   "metadata": {},
   "outputs": [],
   "source": [
    "sentech_data._Normalized_Warnings=sentech_data._Normalized_Warnings .fillna(method='bfill')"
   ]
  },
  {
   "cell_type": "code",
   "execution_count": 227,
   "id": "480183f6",
   "metadata": {},
   "outputs": [
    {
     "data": {
      "text/plain": [
       "Air_temp                0\n",
       "RH                      0\n",
       "DewPoint                0\n",
       "Rain                    0\n",
       "Pressure                0\n",
       "Efield                  0\n",
       "Lightning_Warnings      0\n",
       "Reset_secs              0\n",
       "_Normalized_Efield      0\n",
       "_Normalized_Warnings    0\n",
       "dtype: int64"
      ]
     },
     "execution_count": 227,
     "metadata": {},
     "output_type": "execute_result"
    }
   ],
   "source": [
    "sentech_data.isna().sum()"
   ]
  },
  {
   "cell_type": "code",
   "execution_count": 228,
   "id": "674e1bd3",
   "metadata": {},
   "outputs": [
    {
     "data": {
      "image/png": "[encoded data removed]",
      "text/plain": [
       "<Figure size 720x288 with 1 Axes>"
      ]
     },
     "metadata": {},
     "output_type": "display_data"
    }
   ],
   "source": [
    "plt.figure(figsize=(10,4))\n",
    "\n",
    "plt.plot(sentech_data._Normalized_Warnings)\n",
    "plt.plot(sentech_data._Normalized_Efield)\n",
    "\n",
    "plt.legend(('Normalized Warnings', 'Normalized EField'), fontsize=16)\n",
    "plt.title('Electric field vs Lightning Warnings', fontsize=20)\n",
    "for year in range(2022,2022):\n",
    "    plt.axvline(pd.to_datetime(str(year)+'-01-01'), color='k', linestyle='--', alpha=0.2)"
   ]
  },
  {
   "cell_type": "markdown",
   "id": "1bb20017",
   "metadata": {},
   "source": [
    "**Correlations**"
   ]
  },
  {
   "cell_type": "code",
   "execution_count": 229,
   "id": "834642f3",
   "metadata": {},
   "outputs": [
    {
     "name": "stdout",
     "output_type": "stream",
     "text": [
      "            t       t+1       t+2       t+3\n",
      "t    1.000000  0.904037  0.810789  0.726595\n",
      "t+1  0.904037  1.000000  0.904038  0.810791\n",
      "t+2  0.810789  0.904038  1.000000  0.904039\n",
      "t+3  0.726595  0.810791  0.904039  1.000000\n"
     ]
    }
   ],
   "source": [
    "#Correlation Matrix- Self Correlation\n",
    "# using shift function to shift the values.\n",
    "values= pd.DataFrame(sentech_data.Lightning_Warnings)\n",
    "\n",
    "dataframe = pd.concat([values.shift(3), values.shift(2),\n",
    "                       values.shift(1), values], axis=1)\n",
    "# naming the columns\n",
    "dataframe.columns = ['t', 't+1', 't+2', 't+3']\n",
    " \n",
    "# using corr() function to compute the correlation\n",
    "result = dataframe.corr()\n",
    " \n",
    "print(result)"
   ]
  },
  {
   "cell_type": "code",
   "execution_count": 230,
   "id": "4588fd58",
   "metadata": {},
   "outputs": [
    {
     "name": "stdout",
     "output_type": "stream",
     "text": [
      "[-19297.3409147 -21805.7525087 -17556.2476234 ... -11198.0031614\n",
      " -10732.4106194 -10204.4981114]\n"
     ]
    }
   ],
   "source": [
    "#Convert dataframe columns to numpy arrays before using the correlate function\n",
    "warnings= sentech_data.Lightning_Warnings.to_numpy()\n",
    "Efield= sentech_data.Efield.to_numpy()\n",
    "\n",
    "cross_corr = np.correlate(warnings, Efield,'same')\n",
    "print(cross_corr)"
   ]
  },
  {
   "cell_type": "markdown",
   "id": "e53b8e51",
   "metadata": {},
   "source": [
    "**Simplifying the Dataset- Getting rid of extra columns (Protecting their Integrity)**"
   ]
  },
  {
   "cell_type": "code",
   "execution_count": 231,
   "id": "4f1b9ca5",
   "metadata": {},
   "outputs": [],
   "source": [
    "# Create a new column extracted from sentech tower\n",
    "sentech_data['warnings']=sentech_data.Lightning_Warnings"
   ]
  },
  {
   "cell_type": "code",
   "execution_count": 232,
   "id": "0f9e1d20",
   "metadata": {},
   "outputs": [],
   "source": [
    "#Delete the other columns\n",
    "del sentech_data['Air_temp']\n",
    "del sentech_data['RH']\n",
    "del sentech_data['DewPoint']\n",
    "del sentech_data['Rain']\n",
    "del sentech_data['Pressure']\n",
    "del sentech_data['Efield']\n",
    "del sentech_data['Lightning_Warnings']\n",
    "del sentech_data['Reset_secs']\n",
    "del sentech_data['_Normalized_Warnings']\n",
    "del sentech_data['_Normalized_Efield']"
   ]
  },
  {
   "cell_type": "code",
   "execution_count": 233,
   "id": "d95b7dab",
   "metadata": {},
   "outputs": [
    {
     "data": {
      "text/html": [
       "<div>\n",
       "<style scoped>\n",
       "    .dataframe tbody tr th:only-of-type {\n",
       "        vertical-align: middle;\n",
       "    }\n",
       "\n",
       "    .dataframe tbody tr th {\n",
       "        vertical-align: top;\n",
       "    }\n",
       "\n",
       "    .dataframe thead th {\n",
       "        text-align: right;\n",
       "    }\n",
       "</style>\n",
       "<table border=\"1\" class=\"dataframe\">\n",
       "  <thead>\n",
       "    <tr style=\"text-align: right;\">\n",
       "      <th></th>\n",
       "      <th>warnings</th>\n",
       "    </tr>\n",
       "    <tr>\n",
       "      <th>Date</th>\n",
       "      <th></th>\n",
       "    </tr>\n",
       "  </thead>\n",
       "  <tbody>\n",
       "    <tr>\n",
       "      <th>2021-11-01 00:00:00</th>\n",
       "      <td>0.0</td>\n",
       "    </tr>\n",
       "    <tr>\n",
       "      <th>2021-11-01 00:15:00</th>\n",
       "      <td>0.0</td>\n",
       "    </tr>\n",
       "    <tr>\n",
       "      <th>2021-11-01 00:30:00</th>\n",
       "      <td>0.0</td>\n",
       "    </tr>\n",
       "    <tr>\n",
       "      <th>2021-11-01 00:45:00</th>\n",
       "      <td>0.0</td>\n",
       "    </tr>\n",
       "    <tr>\n",
       "      <th>2021-11-01 01:00:00</th>\n",
       "      <td>0.0</td>\n",
       "    </tr>\n",
       "    <tr>\n",
       "      <th>...</th>\n",
       "      <td>...</td>\n",
       "    </tr>\n",
       "    <tr>\n",
       "      <th>2022-02-27 22:45:00</th>\n",
       "      <td>0.0</td>\n",
       "    </tr>\n",
       "    <tr>\n",
       "      <th>2022-02-27 23:00:00</th>\n",
       "      <td>0.0</td>\n",
       "    </tr>\n",
       "    <tr>\n",
       "      <th>2022-02-27 23:15:00</th>\n",
       "      <td>0.0</td>\n",
       "    </tr>\n",
       "    <tr>\n",
       "      <th>2022-02-27 23:30:00</th>\n",
       "      <td>0.0</td>\n",
       "    </tr>\n",
       "    <tr>\n",
       "      <th>2022-02-27 23:45:00</th>\n",
       "      <td>0.0</td>\n",
       "    </tr>\n",
       "  </tbody>\n",
       "</table>\n",
       "<p>11424 rows × 1 columns</p>\n",
       "</div>"
      ],
      "text/plain": [
       "                     warnings\n",
       "Date                         \n",
       "2021-11-01 00:00:00       0.0\n",
       "2021-11-01 00:15:00       0.0\n",
       "2021-11-01 00:30:00       0.0\n",
       "2021-11-01 00:45:00       0.0\n",
       "2021-11-01 01:00:00       0.0\n",
       "...                       ...\n",
       "2022-02-27 22:45:00       0.0\n",
       "2022-02-27 23:00:00       0.0\n",
       "2022-02-27 23:15:00       0.0\n",
       "2022-02-27 23:30:00       0.0\n",
       "2022-02-27 23:45:00       0.0\n",
       "\n",
       "[11424 rows x 1 columns]"
      ]
     },
     "execution_count": 233,
     "metadata": {},
     "output_type": "execute_result"
    }
   ],
   "source": [
    "sentech_data"
   ]
  },
  {
   "cell_type": "markdown",
   "id": "7a02603f",
   "metadata": {},
   "source": [
    "**Splitting the data set**"
   ]
  },
  {
   "cell_type": "code",
   "execution_count": 234,
   "id": "fc40494c",
   "metadata": {},
   "outputs": [],
   "source": [
    "size_total = int(len(sentech_data))"
   ]
  },
  {
   "cell_type": "code",
   "execution_count": 235,
   "id": "bec5b2be",
   "metadata": {},
   "outputs": [
    {
     "name": "stdout",
     "output_type": "stream",
     "text": [
      "total data size:  11424\n"
     ]
    }
   ],
   "source": [
    "print('total data size: ', size_total)"
   ]
  },
  {
   "cell_type": "code",
   "execution_count": 236,
   "id": "e2bd6b7b",
   "metadata": {},
   "outputs": [],
   "source": [
    "#Determine the size of 80% in total data set\n",
    "size_train = int(len(sentech_data)*0.75)"
   ]
  },
  {
   "cell_type": "code",
   "execution_count": 237,
   "id": "f2aeecf2",
   "metadata": {},
   "outputs": [
    {
     "name": "stdout",
     "output_type": "stream",
     "text": [
      "total data size:  8568\n"
     ]
    }
   ],
   "source": [
    "print('total data size: ', size_train)"
   ]
  },
  {
   "cell_type": "code",
   "execution_count": 238,
   "id": "14a95a57",
   "metadata": {},
   "outputs": [],
   "source": [
    "df_train = sentech_data.iloc[:size_train]"
   ]
  },
  {
   "cell_type": "code",
   "execution_count": 239,
   "id": "2640c715",
   "metadata": {},
   "outputs": [],
   "source": [
    "#Export train set as csv file\n",
    "df_train.to_csv('train_dataframe.csv')"
   ]
  },
  {
   "cell_type": "code",
   "execution_count": 240,
   "id": "dea101d8",
   "metadata": {},
   "outputs": [],
   "source": [
    "#Determine the size of 5% in total data set\n",
    "size_validate = int(len(sentech_data)*0.05)"
   ]
  },
  {
   "cell_type": "code",
   "execution_count": 241,
   "id": "be194ba7",
   "metadata": {},
   "outputs": [],
   "source": [
    "df_validate = sentech_data.iloc[size_train:(size_train+size_validate) ]"
   ]
  },
  {
   "cell_type": "code",
   "execution_count": 242,
   "id": "755ea2b4",
   "metadata": {},
   "outputs": [],
   "source": [
    "#Export test set as csv file\n",
    "df_validate.to_csv('Validate_dataframe.csv')"
   ]
  },
  {
   "cell_type": "code",
   "execution_count": 243,
   "id": "c4796976",
   "metadata": {},
   "outputs": [],
   "source": [
    "df_test = sentech_data.iloc[(size_train+size_validate):]"
   ]
  },
  {
   "cell_type": "code",
   "execution_count": 244,
   "id": "b856c826",
   "metadata": {},
   "outputs": [
    {
     "data": {
      "text/html": [
       "<div>\n",
       "<style scoped>\n",
       "    .dataframe tbody tr th:only-of-type {\n",
       "        vertical-align: middle;\n",
       "    }\n",
       "\n",
       "    .dataframe tbody tr th {\n",
       "        vertical-align: top;\n",
       "    }\n",
       "\n",
       "    .dataframe thead th {\n",
       "        text-align: right;\n",
       "    }\n",
       "</style>\n",
       "<table border=\"1\" class=\"dataframe\">\n",
       "  <thead>\n",
       "    <tr style=\"text-align: right;\">\n",
       "      <th></th>\n",
       "      <th>warnings</th>\n",
       "    </tr>\n",
       "    <tr>\n",
       "      <th>Date</th>\n",
       "      <th></th>\n",
       "    </tr>\n",
       "  </thead>\n",
       "  <tbody>\n",
       "    <tr>\n",
       "      <th>2022-02-04 04:45:00</th>\n",
       "      <td>1.0</td>\n",
       "    </tr>\n",
       "    <tr>\n",
       "      <th>2022-02-04 05:00:00</th>\n",
       "      <td>1.0</td>\n",
       "    </tr>\n",
       "    <tr>\n",
       "      <th>2022-02-04 05:15:00</th>\n",
       "      <td>1.0</td>\n",
       "    </tr>\n",
       "    <tr>\n",
       "      <th>2022-02-04 05:30:00</th>\n",
       "      <td>1.0</td>\n",
       "    </tr>\n",
       "    <tr>\n",
       "      <th>2022-02-04 05:45:00</th>\n",
       "      <td>1.0</td>\n",
       "    </tr>\n",
       "    <tr>\n",
       "      <th>...</th>\n",
       "      <td>...</td>\n",
       "    </tr>\n",
       "    <tr>\n",
       "      <th>2022-02-27 22:45:00</th>\n",
       "      <td>0.0</td>\n",
       "    </tr>\n",
       "    <tr>\n",
       "      <th>2022-02-27 23:00:00</th>\n",
       "      <td>0.0</td>\n",
       "    </tr>\n",
       "    <tr>\n",
       "      <th>2022-02-27 23:15:00</th>\n",
       "      <td>0.0</td>\n",
       "    </tr>\n",
       "    <tr>\n",
       "      <th>2022-02-27 23:30:00</th>\n",
       "      <td>0.0</td>\n",
       "    </tr>\n",
       "    <tr>\n",
       "      <th>2022-02-27 23:45:00</th>\n",
       "      <td>0.0</td>\n",
       "    </tr>\n",
       "  </tbody>\n",
       "</table>\n",
       "<p>2285 rows × 1 columns</p>\n",
       "</div>"
      ],
      "text/plain": [
       "                     warnings\n",
       "Date                         \n",
       "2022-02-04 04:45:00       1.0\n",
       "2022-02-04 05:00:00       1.0\n",
       "2022-02-04 05:15:00       1.0\n",
       "2022-02-04 05:30:00       1.0\n",
       "2022-02-04 05:45:00       1.0\n",
       "...                       ...\n",
       "2022-02-27 22:45:00       0.0\n",
       "2022-02-27 23:00:00       0.0\n",
       "2022-02-27 23:15:00       0.0\n",
       "2022-02-27 23:30:00       0.0\n",
       "2022-02-27 23:45:00       0.0\n",
       "\n",
       "[2285 rows x 1 columns]"
      ]
     },
     "execution_count": 244,
     "metadata": {},
     "output_type": "execute_result"
    }
   ],
   "source": []
  },
  {
   "cell_type": "code",
   "execution_count": null,
   "id": "d15b688a",
   "metadata": {},
   "outputs": [],
   "source": []
  }
 ],
 "metadata": {
  "kernelspec": {
   "display_name": "Python 3 (ipykernel)",
   "language": "python",
   "name": "python3"
  },
  "language_info": {
   "codemirror_mode": {
    "name": "ipython",
    "version": 3
   },
   "file_extension": ".py",
   "mimetype": "text/x-python",
   "name": "python",
   "nbconvert_exporter": "python",
   "pygments_lexer": "ipython3",
   "version": "3.9.12"
  }
 },
 "nbformat": 4,
 "nbformat_minor": 5
}
